{
  "cells": [
    {
      "cell_type": "markdown",
      "metadata": {
        "id": "view-in-github",
        "colab_type": "text"
      },
      "source": [
        "<a href=\"https://colab.research.google.com/github/Shashank65536/cvdev/blob/main/assignment2_part2.ipynb\" target=\"_parent\"><img src=\"https://colab.research.google.com/assets/colab-badge.svg\" alt=\"Open In Colab\"/></a>"
      ]
    },
    {
      "cell_type": "markdown",
      "id": "367ea638",
      "metadata": {
        "id": "367ea638"
      },
      "source": [
        "# ITCS 4152/5152 Assignment2-Part2\n",
        "**Due date: 11:59 pm EST on Oct 31, 2022 (Mon.)**\n",
        "\n",
        "---\n",
        "In this semester, we will use Google Colab for the assignments, which allows us to utilize resources that some of us might not have in their local machines such as GPUs. You will need to use your UNC Charlotte (*.uncc.edu) account for coding and Google Drive to save your results.\n",
        "\n",
        "## Google Colab Tutorial\n",
        "---\n",
        "Go to https://colab.research.google.com/notebooks/, you will see a tutorial named \"Welcome to Colaboratory\" file, where you can learn the basics of using google colab.\n",
        "\n",
        "Settings used for assignments: ***Edit -> Notebook Settings -> Runtime Type (Python 3)***.\n",
        "\n",
        "\n",
        "## Description\n",
        "---\n",
        "This project is an introduction to deep learning tools for computer vision. You will design and train deep convolutional networks for scene recognition using [PyTorch](http://pytorch.org). You can visualize the\n",
        "structure of the network with [mNeuron] (http://vision03.csail.mit.edu/cnn_art/index.html)\n",
        "\n",
        "In Problem 1 of the project you will train a deep convolutional network from scratch to recognize scenes. The starter codes gives you methods to load data and display them. You will need to define a simple network architecture and add jittering, normalization, and regularization to increase recognition accuracy to 50, 60, or perhaps 70%. Unfortunately, we only have 2,400 training examples so it doesn't seem possible to train a network from scratch which outperforms hand-crafted features\n",
        "\n",
        "\n",
        "This is an approach that represent the most common approaches to recognition problems in computer vision today -- train a deep network from scratch if you have enough data (it's not always obvious whether or not you do).\n",
        "\n",
        "There are 2 sub problems (under Problem 1) in this homework with a total of 60 points. Be sure to read **Submission Guidelines** below. They are important. For the problems requiring text descriptions, you might want to add a markdown block for that.\n",
        "\n",
        "## Dataset\n",
        "---\n",
        "Save the [dataset(click me)](https://drive.google.com/open?id=1NWC3TMsXSWN2TeoYMCjhf2N1b-WRDh-M) into your working folder in your Google Drive for this homework. <br>\n",
        "Under your root folder, there should be a folder named \"data\" (i.e. XXX/Surname_Givenname_SBUID/data) containing the images.\n",
        "**Do not upload** the data subfolder before submitting on blackboard due to size limit. There should be only one .ipynb file under your root folder Surname_Givenname_SBUID.\n",
        "\n",
        "## Some Tutorials (PyTorch)\n",
        "---\n",
        "- You will be using PyTorch for deep learning toolbox (follow the [link](http://pytorch.org) for installation).\n",
        "- For PyTorch beginners, please read this [tutorial](http://pytorch.org/tutorials/beginner/deep_learning_60min_blitz.html) before doing your homework.\n",
        "- Feel free to study more tutorials at http://pytorch.org/tutorials/.\n",
        "- Find cool visualization here at http://playground.tensorflow.org."
      ]
    },
    {
      "cell_type": "code",
      "execution_count": 2,
      "id": "163b6de2",
      "metadata": {
        "id": "163b6de2"
      },
      "outputs": [],
      "source": [
        "# import packages here\n",
        "import cv2\n",
        "import numpy as np\n",
        "import matplotlib.pyplot as plt\n",
        "import glob\n",
        "import random \n",
        "import time\n",
        "\n",
        "import torch\n",
        "import torchvision\n",
        "import torchvision.transforms as transforms\n",
        "\n",
        "from torch.autograd import Variable\n",
        "import torch.nn as nn\n",
        "import torch.nn.functional as F"
      ]
    },
    {
      "cell_type": "code",
      "execution_count": 3,
      "id": "502f4fec",
      "metadata": {
        "id": "502f4fec",
        "colab": {
          "base_uri": "https://localhost:8080/"
        },
        "outputId": "571126cb-e94b-45ed-e688-d8ffec349c86"
      },
      "outputs": [
        {
          "output_type": "stream",
          "name": "stdout",
          "text": [
            "Mounted at /content/gdrive\n"
          ]
        }
      ],
      "source": [
        "# Mount your google drive where you've saved your assignment folder\n",
        "from google.colab import drive\n",
        "drive.mount('/content/gdrive')"
      ]
    },
    {
      "cell_type": "code",
      "execution_count": 4,
      "id": "b41de13c",
      "metadata": {
        "id": "b41de13c"
      },
      "outputs": [],
      "source": [
        "# Replace '------' with the path such that \"ITCS_4152_5152_assignment2\" is your working directory\n",
        "import os\n",
        "os.chdir('/content/gdrive/My Drive/Bidwai_Shashank_801312898_assignment2-part2')\n",
        "#cd '/content/gdrive/My Drive/------'"
      ]
    },
    {
      "cell_type": "markdown",
      "id": "437b789c",
      "metadata": {
        "id": "437b789c"
      },
      "source": [
        "## Problem 0: Loading and Preprocessing data\n",
        "---\n",
        "(0 point) In this part, you are provided with a function that loads data into minibatches for training and testing in PyTorch. However, some preprocessing parts are missing. Your will need to implement them when doing Problem 1."
      ]
    },
    {
      "cell_type": "code",
      "execution_count": 5,
      "id": "1988d6ee",
      "metadata": {
        "id": "1988d6ee",
        "colab": {
          "base_uri": "https://localhost:8080/"
        },
        "outputId": "b8cbc947-5325-4112-815f-03b21bc5587e"
      },
      "outputs": [
        {
          "output_type": "stream",
          "name": "stdout",
          "text": [
            "class_names: {0: 'TallBuilding', 1: 'Suburb', 2: 'OpenCountry', 3: 'Street', 4: 'Store', 5: 'Office', 6: 'LivingRoom', 7: 'InsideCity', 8: 'Kitchen', 9: 'Mountain', 10: 'Industrial', 11: 'Highway', 12: 'Forest', 13: 'Coast', 14: 'Bedroom', 15: 'Flower'} \n"
          ]
        }
      ],
      "source": [
        "#--------------------------------------------------\n",
        "#    Load Training Data and Testing Data\n",
        "#--------------------------------------------------\n",
        "\n",
        "def set_random_seed(seed):\n",
        "     torch.manual_seed(seed)\n",
        "     torch.cuda.manual_seed_all(seed)\n",
        "     np.random.seed(seed)\n",
        "     random.seed(seed)\n",
        "     torch.backends.cudnn.deterministic = True\n",
        "set_random_seed(0)\n",
        "\n",
        "class_names = [name[13:] for name in glob.glob('./data/train/*')]\n",
        "class_names = dict(zip(range(len(class_names)), class_names))\n",
        "print(\"class_names: %s \" % class_names)\n",
        "\n",
        "def load_dataset(path, img_size, num_per_class=-1, batch_size=16, shuffle=False,\n",
        "           augment=True, is_color=False,rotate = 0, zero_centered=False):    \n",
        "    data = []\n",
        "    labels = []    \n",
        "    channel_num = 3 if is_color else 1\n",
        "    aug_data1 = []\n",
        "    flip_img_arr = []\n",
        "    flip_labels_arr = []\n",
        "        \n",
        "    # read images and resizing\n",
        "    for id, class_name in class_names.items():\n",
        "        print(\"Loading images from class: %s\" % id)\n",
        "        img_path_class = glob.glob(path + class_name + '/*.jpg')\n",
        "        if num_per_class > 0:\n",
        "            img_path_class = img_path_class[:num_per_class]\n",
        "        labels.extend([id]*len(img_path_class))\n",
        "        for filename in img_path_class:\n",
        "            if is_color:\n",
        "                img = cv2.imread(filename)\n",
        "            else:\n",
        "                img = cv2.imread(filename, 0)\n",
        "            \n",
        "            # resize the image\n",
        "            img = cv2.resize(img, img_size, cv2.INTER_LINEAR)\n",
        "            \n",
        "            if is_color:\n",
        "                img = np.transpose(img, [2, 0, 1])\n",
        "            \n",
        "            # norm pixel values to [-1, 1]\n",
        "            data.append(img.astype(np.float)/255*2-1)\n",
        "            \n",
        "\n",
        "    ##########--WRITE YOUR CODE HERE--##########\n",
        "    # Data Augmentation \n",
        "    if augment: \n",
        "      aug_data = [np.flip(img, 1) for img in data]\n",
        "      #print(aug_data)\n",
        "      for img in data:\n",
        "        each_img_flipped = np.flip(img,1)\n",
        "        aug_data1.append(each_img_flipped)\n",
        "      #print(aug_data == aug_data1)\n",
        "      data.extend(aug_data1)\n",
        "      labels.extend(labels)\n",
        "      \n",
        "      if rotate != 0:\n",
        "        for index, img in enumerate(data):\n",
        "          rotational_angle = np.random.uniform(rotate) - rotate / 2\n",
        "          no_of_rows, no_of_cols,channels = img.shape\n",
        "\n",
        "          matrix_after_rotation = cv2.getRotationMatrix2D((no_of_cols/2,no_of_rows/2), rotational_angle, 1)\n",
        "          rotated_img = cv2.warpAffine(img,matrix_after_rotation,(no_of_cols,no_of_rows))\n",
        "\n",
        "          flip_img_arr.append(rotated_img)\n",
        "          flip_labels_arr.append(labels[index])\n",
        "\n",
        "          ##appending the rotated images\n",
        "          data.extend(flip_img_arr)\n",
        "          labels.extend(flip_labels_arr)\n",
        "    ##########-------END OF CODE-------##########    \n",
        "    \n",
        "    ##########--WRITE YOUR CODE HERE--##########\n",
        "    # Data Normalization\n",
        "    if zero_centered:\n",
        "      mean = np.mean(data, axis=0)\n",
        "      print(mean.shape)\n",
        "      for index, img in enumerate(data):\n",
        "        data[index] = img - mean\n",
        "        \n",
        "    ##########-------END OF CODE-------##########\n",
        "         \n",
        "    # randomly permute (this step is important for training)\n",
        "    if shuffle:\n",
        "        bundle = list(zip(data, labels))\n",
        "        random.shuffle(bundle)\n",
        "        data, labels = zip(*bundle)\n",
        "    \n",
        "    # divide data into minibatches of TorchTensors\n",
        "    if batch_size > 1:\n",
        "        batch_data = []\n",
        "        batch_labels = []\n",
        "         \n",
        "        for i in range(int(len(data) / batch_size)):\n",
        "            minibatch_d = data[i*batch_size: (i+1)*batch_size]\n",
        "            minibatch_d = np.reshape(minibatch_d, (batch_size, channel_num, img_size[0], img_size[1]))\n",
        "            batch_data.append(torch.from_numpy(minibatch_d))\n",
        "\n",
        "            minibatch_l = labels[i*batch_size: (i+1)*batch_size]\n",
        "            batch_labels.append(torch.LongTensor(minibatch_l))\n",
        "        data, labels = batch_data, batch_labels \n",
        "    \n",
        "    return zip(batch_data, batch_labels)"
      ]
    },
    {
      "cell_type": "code",
      "execution_count": 6,
      "id": "9483a7cd",
      "metadata": {
        "id": "9483a7cd",
        "colab": {
          "base_uri": "https://localhost:8080/"
        },
        "outputId": "f9d103e2-b8c5-4119-fad5-2cbd6a3a12a3"
      },
      "outputs": [
        {
          "output_type": "stream",
          "name": "stdout",
          "text": [
            "Loading images from class: 0\n"
          ]
        },
        {
          "output_type": "stream",
          "name": "stderr",
          "text": [
            "/usr/local/lib/python3.7/dist-packages/ipykernel_launcher.py:46: DeprecationWarning: `np.float` is a deprecated alias for the builtin `float`. To silence this warning, use `float` by itself. Doing this will not modify any behavior and is safe. If you specifically wanted the numpy scalar type, use `np.float64` here.\n",
            "Deprecated in NumPy 1.20; for more details and guidance: https://numpy.org/devdocs/release/1.20.0-notes.html#deprecations\n"
          ]
        },
        {
          "output_type": "stream",
          "name": "stdout",
          "text": [
            "Loading images from class: 1\n",
            "Loading images from class: 2\n",
            "Loading images from class: 3\n",
            "Loading images from class: 4\n",
            "Loading images from class: 5\n",
            "Loading images from class: 6\n",
            "Loading images from class: 7\n",
            "Loading images from class: 8\n",
            "Loading images from class: 9\n",
            "Loading images from class: 10\n",
            "Loading images from class: 11\n",
            "Loading images from class: 12\n",
            "Loading images from class: 13\n",
            "Loading images from class: 14\n",
            "Loading images from class: 15\n",
            "Finish loading 75 minibatches (batch_size=64) of training samples.\n",
            "Loading images from class: 0\n",
            "Loading images from class: 1\n",
            "Loading images from class: 2\n",
            "Loading images from class: 3\n",
            "Loading images from class: 4\n",
            "Loading images from class: 5\n",
            "Loading images from class: 6\n",
            "Loading images from class: 7\n",
            "Loading images from class: 8\n",
            "Loading images from class: 9\n",
            "Loading images from class: 10\n",
            "Loading images from class: 11\n",
            "Loading images from class: 12\n",
            "Loading images from class: 13\n",
            "Loading images from class: 14\n",
            "Loading images from class: 15\n",
            "Finish loading 12 minibatches (batch_size=64) of testing samples.\n"
          ]
        }
      ],
      "source": [
        "# load data into size (64, 64)\n",
        "img_size = (64, 64)\n",
        "batch_size = 64 # training sample number per batch\n",
        "\n",
        "# load training dataset\n",
        "trainloader_small = list(load_dataset('./data/train/', img_size, batch_size=batch_size, shuffle=True))\n",
        "train_num = len(trainloader_small)\n",
        "print(\"Finish loading %d minibatches (batch_size=%d) of training samples.\" % (train_num, batch_size))\n",
        "\n",
        "# load testing dataset\n",
        "testloader_small = list(load_dataset('./data/test/', img_size, num_per_class=50, batch_size=batch_size))\n",
        "test_num = len(testloader_small)\n",
        "print(\"Finish loading %d minibatches (batch_size=%d) of testing samples.\" % (test_num, batch_size))"
      ]
    },
    {
      "cell_type": "code",
      "execution_count": 8,
      "id": "6add360c",
      "metadata": {
        "id": "6add360c",
        "colab": {
          "base_uri": "https://localhost:8080/",
          "height": 285
        },
        "outputId": "1a10c4d7-e397-413f-ddde-327f63182910"
      },
      "outputs": [
        {
          "output_type": "stream",
          "name": "stdout",
          "text": [
            "LivingRoom\n"
          ]
        },
        {
          "output_type": "display_data",
          "data": {
            "text/plain": [
              "<Figure size 432x288 with 1 Axes>"
            ],
            "image/png": "[encoded data removed]"
          },
          "metadata": {
            "needs_background": "light"
          }
        }
      ],
      "source": [
        "# show some images\n",
        "def imshow(img):\n",
        "    img = img / 2 + 0.5     # unnormalize\n",
        "    npimg = img.numpy()\n",
        "    if len(npimg.shape) > 2:\n",
        "        npimg = np.transpose(img, [1, 2, 0])\n",
        "    plt.figure\n",
        "    plt.imshow(npimg, 'gray')\n",
        "    plt.show()\n",
        "img, label = trainloader_small[0][0][11][0], trainloader_small[0][1][11]\n",
        "label = int(np.array(label))\n",
        "print(class_names[label])\n",
        "imshow(img)"
      ]
    },
    {
      "cell_type": "markdown",
      "id": "d906be39",
      "metadata": {
        "id": "d906be39"
      },
      "source": [
        "## Problem 1: Training a Network From Scratch\n",
        "Gone are the days of hand designed features. Now we have end-to-end learning in which a highly non-linear representation is learned for our data to maximize our objective function (in this case, 16-way classification accuracy). Let's start!"
      ]
    },
    {
      "cell_type": "markdown",
      "id": "d3d758ff",
      "metadata": {
        "id": "d3d758ff"
      },
      "source": [
        "First, let's define a simpe network architecture."
      ]
    },
    {
      "cell_type": "code",
      "execution_count": 9,
      "id": "67208818",
      "metadata": {
        "id": "67208818"
      },
      "outputs": [],
      "source": [
        "#--------------------------------------------------\n",
        "#       Define Network Architecture\n",
        "#--------------------------------------------------\n",
        "class TNet(nn.Module):\n",
        "    def __init__(self):\n",
        "      super(TNet,self).__init__()  \n",
        "           \n",
        "      self.features = torch.nn.Sequential(\n",
        "        nn.Conv2d(1, 16, 3),\n",
        "        nn.ReLU(),\n",
        "        nn.MaxPool2d(4, stride=4), \n",
        "      )\n",
        "      \n",
        "      self.classifier = nn.Sequential(\n",
        "         nn.Linear(3600, 16), \n",
        "      )\n",
        "      \n",
        "    def forward(self, x):\n",
        "      x = self.features(x)  \n",
        "      x = torch.flatten(x, 1)\n",
        "      x = self.classifier(x)\n",
        "      return x  "
      ]
    },
    {
      "cell_type": "markdown",
      "id": "249c193d",
      "metadata": {
        "id": "249c193d"
      },
      "source": [
        "Then, let's define model training and evaluation functions."
      ]
    },
    {
      "cell_type": "code",
      "execution_count": 10,
      "id": "e1ba6e02",
      "metadata": {
        "id": "e1ba6e02"
      },
      "outputs": [],
      "source": [
        "#--------------------------------------------------\n",
        "#       Model Training Function\n",
        "#--------------------------------------------------\n",
        "import torch.optim as optim\n",
        "import time\n",
        "  \n",
        "def trainModel(net, trainloader, train_option, testloader=None):  \n",
        "  loss_func = nn.CrossEntropyLoss()\n",
        "  lr = train_option['lr']\n",
        "  epoch = train_option['epoch']\n",
        "  device = train_option['device'] if 'device' in train_option.keys() else 'cpu'\n",
        "  log_iter = train_option['log_iter'] if 'log_iter' in train_option.keys() else 20\n",
        "  eval_epoch = 1\n",
        "  \n",
        "  if 'optimizer' in train_option.keys():\n",
        "    optimizer = train_option['optimizer']\n",
        "  else:\n",
        "    optimizer = optim.Adam(net.parameters(), lr=lr)\n",
        "\n",
        "  start_time = time.time()\n",
        "  if device == 'gpu':\n",
        "    net = net.cuda()\n",
        "    \n",
        "  iters = 0\n",
        "  running_loss = 0.0\n",
        "  for ep in range(epoch):\n",
        "    net.train()        \n",
        "    for iter, (x, y) in enumerate(trainloader):\n",
        "      iters += 1\n",
        "      batch_x = Variable(x).float()\n",
        "      batch_y = Variable(y).long()\n",
        "      if device == 'gpu':\n",
        "        batch_x = batch_x.cuda()\n",
        "        batch_y = batch_y.cuda()\n",
        "\n",
        "      outputs = net(batch_x)\n",
        "      loss = loss_func(outputs, batch_y)\n",
        "      optimizer.zero_grad()\n",
        "      loss.backward()\n",
        "      optimizer.step()\n",
        "      running_loss += loss.item()\n",
        "      \n",
        "      time_lapse = time.strftime('%H:%M:%S', time.gmtime(time.time() - start_time))\n",
        "      if iter % log_iter == 0:\n",
        "        print('Epoch:{:2d} | Iter:{:5d} | Time: {} | Train Loss: {:.4f} | Average Loss: {:.4f} '.format(ep+1, iter, time_lapse, loss.item(), running_loss/iters))\n",
        "   \n",
        "    if testloader is not None and ep % eval_epoch == 0:\n",
        "      evalModel(net, testloader)\n"
      ]
    },
    {
      "cell_type": "code",
      "execution_count": 11,
      "id": "cecead0a",
      "metadata": {
        "id": "cecead0a"
      },
      "outputs": [],
      "source": [
        "#--------------------------------------------------\n",
        "#       Model Evaluating Function\n",
        "#--------------------------------------------------\n",
        "import time\n",
        "  \n",
        "def evalModel(net, testloader): \n",
        "  acc = 0.0\n",
        "  count = 0\n",
        "  start_time = time.time()\n",
        "  device = 'gpu' if next(net.parameters()).is_cuda else 'cpu'\n",
        "  net.eval()\n",
        "  \n",
        "  for iter, (x, y) in enumerate(testloader):\n",
        "        count += x.shape[0]\n",
        "        batch_x = Variable(x).float()\n",
        "        batch_y = Variable(y).long()\n",
        "        if device == 'gpu':\n",
        "          batch_x = batch_x.cuda()\n",
        "          batch_y = batch_y.cuda()\n",
        "        outputs = net(batch_x)\n",
        "        acc += torch.sum(outputs.max(1)[1]==batch_y)\n",
        "        \n",
        "  time_lapse = time.strftime('%H:%M:%S', time.gmtime(time.time() - start_time))        \n",
        "  print('Accuracy: {:5f} | Time: {}'.format(acc/count,time_lapse))\n",
        "  "
      ]
    },
    {
      "cell_type": "markdown",
      "id": "3735abd3",
      "metadata": {
        "id": "3735abd3"
      },
      "source": [
        "**Finally**, let's start training and evaluation."
      ]
    },
    {
      "cell_type": "code",
      "execution_count": 12,
      "id": "2086fbf1",
      "metadata": {
        "id": "2086fbf1",
        "colab": {
          "base_uri": "https://localhost:8080/",
          "height": 345
        },
        "outputId": "8270aaec-5956-4110-c59e-29003b5da5fb"
      },
      "outputs": [
        {
          "output_type": "error",
          "ename": "RuntimeError",
          "evalue": "ignored",
          "traceback": [
            "\u001b[0;31m---------------------------------------------------------------------------\u001b[0m",
            "\u001b[0;31mRuntimeError\u001b[0m                              Traceback (most recent call last)",
            "\u001b[0;32m<ipython-input-12-8bd97c549373>\u001b[0m in \u001b[0;36m<module>\u001b[0;34m\u001b[0m\n\u001b[1;32m      7\u001b[0m \u001b[0mtrain_option\u001b[0m\u001b[0;34m[\u001b[0m\u001b[0;34m'epoch'\u001b[0m\u001b[0;34m]\u001b[0m \u001b[0;34m=\u001b[0m \u001b[0;36m20\u001b[0m\u001b[0;34m\u001b[0m\u001b[0;34m\u001b[0m\u001b[0m\n\u001b[1;32m      8\u001b[0m \u001b[0mtrain_option\u001b[0m\u001b[0;34m[\u001b[0m\u001b[0;34m'device'\u001b[0m\u001b[0;34m]\u001b[0m \u001b[0;34m=\u001b[0m \u001b[0;34m'gpu'\u001b[0m\u001b[0;34m\u001b[0m\u001b[0;34m\u001b[0m\u001b[0m\n\u001b[0;32m----> 9\u001b[0;31m \u001b[0mtrainModel\u001b[0m\u001b[0;34m(\u001b[0m\u001b[0mnet\u001b[0m\u001b[0;34m,\u001b[0m \u001b[0mtrainloader_small\u001b[0m\u001b[0;34m,\u001b[0m \u001b[0mtrain_option\u001b[0m\u001b[0;34m,\u001b[0m \u001b[0mtestloader_small\u001b[0m\u001b[0;34m)\u001b[0m\u001b[0;34m\u001b[0m\u001b[0;34m\u001b[0m\u001b[0m\n\u001b[0m",
            "\u001b[0;32m<ipython-input-10-86bcd57102b1>\u001b[0m in \u001b[0;36mtrainModel\u001b[0;34m(net, trainloader, train_option, testloader)\u001b[0m\n\u001b[1;32m     20\u001b[0m   \u001b[0mstart_time\u001b[0m \u001b[0;34m=\u001b[0m \u001b[0mtime\u001b[0m\u001b[0;34m.\u001b[0m\u001b[0mtime\u001b[0m\u001b[0;34m(\u001b[0m\u001b[0;34m)\u001b[0m\u001b[0;34m\u001b[0m\u001b[0;34m\u001b[0m\u001b[0m\n\u001b[1;32m     21\u001b[0m   \u001b[0;32mif\u001b[0m \u001b[0mdevice\u001b[0m \u001b[0;34m==\u001b[0m \u001b[0;34m'gpu'\u001b[0m\u001b[0;34m:\u001b[0m\u001b[0;34m\u001b[0m\u001b[0;34m\u001b[0m\u001b[0m\n\u001b[0;32m---> 22\u001b[0;31m     \u001b[0mnet\u001b[0m \u001b[0;34m=\u001b[0m \u001b[0mnet\u001b[0m\u001b[0;34m.\u001b[0m\u001b[0mcuda\u001b[0m\u001b[0;34m(\u001b[0m\u001b[0;34m)\u001b[0m\u001b[0;34m\u001b[0m\u001b[0;34m\u001b[0m\u001b[0m\n\u001b[0m\u001b[1;32m     23\u001b[0m \u001b[0;34m\u001b[0m\u001b[0m\n\u001b[1;32m     24\u001b[0m   \u001b[0miters\u001b[0m \u001b[0;34m=\u001b[0m \u001b[0;36m0\u001b[0m\u001b[0;34m\u001b[0m\u001b[0;34m\u001b[0m\u001b[0m\n",
            "\u001b[0;32m/usr/local/lib/python3.7/dist-packages/torch/nn/modules/module.py\u001b[0m in \u001b[0;36mcuda\u001b[0;34m(self, device)\u001b[0m\n\u001b[1;32m    687\u001b[0m             \u001b[0mModule\u001b[0m\u001b[0;34m:\u001b[0m \u001b[0mself\u001b[0m\u001b[0;34m\u001b[0m\u001b[0;34m\u001b[0m\u001b[0m\n\u001b[1;32m    688\u001b[0m         \"\"\"\n\u001b[0;32m--> 689\u001b[0;31m         \u001b[0;32mreturn\u001b[0m \u001b[0mself\u001b[0m\u001b[0;34m.\u001b[0m\u001b[0m_apply\u001b[0m\u001b[0;34m(\u001b[0m\u001b[0;32mlambda\u001b[0m \u001b[0mt\u001b[0m\u001b[0;34m:\u001b[0m \u001b[0mt\u001b[0m\u001b[0;34m.\u001b[0m\u001b[0mcuda\u001b[0m\u001b[0;34m(\u001b[0m\u001b[0mdevice\u001b[0m\u001b[0;34m)\u001b[0m\u001b[0;34m)\u001b[0m\u001b[0;34m\u001b[0m\u001b[0;34m\u001b[0m\u001b[0m\n\u001b[0m\u001b[1;32m    690\u001b[0m \u001b[0;34m\u001b[0m\u001b[0m\n\u001b[1;32m    691\u001b[0m     \u001b[0;32mdef\u001b[0m \u001b[0mipu\u001b[0m\u001b[0;34m(\u001b[0m\u001b[0mself\u001b[0m\u001b[0;34m:\u001b[0m \u001b[0mT\u001b[0m\u001b[0;34m,\u001b[0m \u001b[0mdevice\u001b[0m\u001b[0;34m:\u001b[0m \u001b[0mOptional\u001b[0m\u001b[0;34m[\u001b[0m\u001b[0mUnion\u001b[0m\u001b[0;34m[\u001b[0m\u001b[0mint\u001b[0m\u001b[0;34m,\u001b[0m \u001b[0mdevice\u001b[0m\u001b[0;34m]\u001b[0m\u001b[0;34m]\u001b[0m \u001b[0;34m=\u001b[0m \u001b[0;32mNone\u001b[0m\u001b[0;34m)\u001b[0m \u001b[0;34m->\u001b[0m \u001b[0mT\u001b[0m\u001b[0;34m:\u001b[0m\u001b[0;34m\u001b[0m\u001b[0;34m\u001b[0m\u001b[0m\n",
            "\u001b[0;32m/usr/local/lib/python3.7/dist-packages/torch/nn/modules/module.py\u001b[0m in \u001b[0;36m_apply\u001b[0;34m(self, fn)\u001b[0m\n\u001b[1;32m    577\u001b[0m     \u001b[0;32mdef\u001b[0m \u001b[0m_apply\u001b[0m\u001b[0;34m(\u001b[0m\u001b[0mself\u001b[0m\u001b[0;34m,\u001b[0m \u001b[0mfn\u001b[0m\u001b[0;34m)\u001b[0m\u001b[0;34m:\u001b[0m\u001b[0;34m\u001b[0m\u001b[0;34m\u001b[0m\u001b[0m\n\u001b[1;32m    578\u001b[0m         \u001b[0;32mfor\u001b[0m \u001b[0mmodule\u001b[0m \u001b[0;32min\u001b[0m \u001b[0mself\u001b[0m\u001b[0;34m.\u001b[0m\u001b[0mchildren\u001b[0m\u001b[0;34m(\u001b[0m\u001b[0;34m)\u001b[0m\u001b[0;34m:\u001b[0m\u001b[0;34m\u001b[0m\u001b[0;34m\u001b[0m\u001b[0m\n\u001b[0;32m--> 579\u001b[0;31m             \u001b[0mmodule\u001b[0m\u001b[0;34m.\u001b[0m\u001b[0m_apply\u001b[0m\u001b[0;34m(\u001b[0m\u001b[0mfn\u001b[0m\u001b[0;34m)\u001b[0m\u001b[0;34m\u001b[0m\u001b[0;34m\u001b[0m\u001b[0m\n\u001b[0m\u001b[1;32m    580\u001b[0m \u001b[0;34m\u001b[0m\u001b[0m\n\u001b[1;32m    581\u001b[0m         \u001b[0;32mdef\u001b[0m \u001b[0mcompute_should_use_set_data\u001b[0m\u001b[0;34m(\u001b[0m\u001b[0mtensor\u001b[0m\u001b[0;34m,\u001b[0m \u001b[0mtensor_applied\u001b[0m\u001b[0;34m)\u001b[0m\u001b[0;34m:\u001b[0m\u001b[0;34m\u001b[0m\u001b[0;34m\u001b[0m\u001b[0m\n",
            "\u001b[0;32m/usr/local/lib/python3.7/dist-packages/torch/nn/modules/module.py\u001b[0m in \u001b[0;36m_apply\u001b[0;34m(self, fn)\u001b[0m\n\u001b[1;32m    577\u001b[0m     \u001b[0;32mdef\u001b[0m \u001b[0m_apply\u001b[0m\u001b[0;34m(\u001b[0m\u001b[0mself\u001b[0m\u001b[0;34m,\u001b[0m \u001b[0mfn\u001b[0m\u001b[0;34m)\u001b[0m\u001b[0;34m:\u001b[0m\u001b[0;34m\u001b[0m\u001b[0;34m\u001b[0m\u001b[0m\n\u001b[1;32m    578\u001b[0m         \u001b[0;32mfor\u001b[0m \u001b[0mmodule\u001b[0m \u001b[0;32min\u001b[0m \u001b[0mself\u001b[0m\u001b[0;34m.\u001b[0m\u001b[0mchildren\u001b[0m\u001b[0;34m(\u001b[0m\u001b[0;34m)\u001b[0m\u001b[0;34m:\u001b[0m\u001b[0;34m\u001b[0m\u001b[0;34m\u001b[0m\u001b[0m\n\u001b[0;32m--> 579\u001b[0;31m             \u001b[0mmodule\u001b[0m\u001b[0;34m.\u001b[0m\u001b[0m_apply\u001b[0m\u001b[0;34m(\u001b[0m\u001b[0mfn\u001b[0m\u001b[0;34m)\u001b[0m\u001b[0;34m\u001b[0m\u001b[0;34m\u001b[0m\u001b[0m\n\u001b[0m\u001b[1;32m    580\u001b[0m \u001b[0;34m\u001b[0m\u001b[0m\n\u001b[1;32m    581\u001b[0m         \u001b[0;32mdef\u001b[0m \u001b[0mcompute_should_use_set_data\u001b[0m\u001b[0;34m(\u001b[0m\u001b[0mtensor\u001b[0m\u001b[0;34m,\u001b[0m \u001b[0mtensor_applied\u001b[0m\u001b[0;34m)\u001b[0m\u001b[0;34m:\u001b[0m\u001b[0;34m\u001b[0m\u001b[0;34m\u001b[0m\u001b[0m\n",
            "\u001b[0;32m/usr/local/lib/python3.7/dist-packages/torch/nn/modules/module.py\u001b[0m in \u001b[0;36m_apply\u001b[0;34m(self, fn)\u001b[0m\n\u001b[1;32m    600\u001b[0m             \u001b[0;31m# `with torch.no_grad():`\u001b[0m\u001b[0;34m\u001b[0m\u001b[0;34m\u001b[0m\u001b[0;34m\u001b[0m\u001b[0m\n\u001b[1;32m    601\u001b[0m             \u001b[0;32mwith\u001b[0m \u001b[0mtorch\u001b[0m\u001b[0;34m.\u001b[0m\u001b[0mno_grad\u001b[0m\u001b[0;34m(\u001b[0m\u001b[0;34m)\u001b[0m\u001b[0;34m:\u001b[0m\u001b[0;34m\u001b[0m\u001b[0;34m\u001b[0m\u001b[0m\n\u001b[0;32m--> 602\u001b[0;31m                 \u001b[0mparam_applied\u001b[0m \u001b[0;34m=\u001b[0m \u001b[0mfn\u001b[0m\u001b[0;34m(\u001b[0m\u001b[0mparam\u001b[0m\u001b[0;34m)\u001b[0m\u001b[0;34m\u001b[0m\u001b[0;34m\u001b[0m\u001b[0m\n\u001b[0m\u001b[1;32m    603\u001b[0m             \u001b[0mshould_use_set_data\u001b[0m \u001b[0;34m=\u001b[0m \u001b[0mcompute_should_use_set_data\u001b[0m\u001b[0;34m(\u001b[0m\u001b[0mparam\u001b[0m\u001b[0;34m,\u001b[0m \u001b[0mparam_applied\u001b[0m\u001b[0;34m)\u001b[0m\u001b[0;34m\u001b[0m\u001b[0;34m\u001b[0m\u001b[0m\n\u001b[1;32m    604\u001b[0m             \u001b[0;32mif\u001b[0m \u001b[0mshould_use_set_data\u001b[0m\u001b[0;34m:\u001b[0m\u001b[0;34m\u001b[0m\u001b[0;34m\u001b[0m\u001b[0m\n",
            "\u001b[0;32m/usr/local/lib/python3.7/dist-packages/torch/nn/modules/module.py\u001b[0m in \u001b[0;36m<lambda>\u001b[0;34m(t)\u001b[0m\n\u001b[1;32m    687\u001b[0m             \u001b[0mModule\u001b[0m\u001b[0;34m:\u001b[0m \u001b[0mself\u001b[0m\u001b[0;34m\u001b[0m\u001b[0;34m\u001b[0m\u001b[0m\n\u001b[1;32m    688\u001b[0m         \"\"\"\n\u001b[0;32m--> 689\u001b[0;31m         \u001b[0;32mreturn\u001b[0m \u001b[0mself\u001b[0m\u001b[0;34m.\u001b[0m\u001b[0m_apply\u001b[0m\u001b[0;34m(\u001b[0m\u001b[0;32mlambda\u001b[0m \u001b[0mt\u001b[0m\u001b[0;34m:\u001b[0m \u001b[0mt\u001b[0m\u001b[0;34m.\u001b[0m\u001b[0mcuda\u001b[0m\u001b[0;34m(\u001b[0m\u001b[0mdevice\u001b[0m\u001b[0;34m)\u001b[0m\u001b[0;34m)\u001b[0m\u001b[0;34m\u001b[0m\u001b[0;34m\u001b[0m\u001b[0m\n\u001b[0m\u001b[1;32m    690\u001b[0m \u001b[0;34m\u001b[0m\u001b[0m\n\u001b[1;32m    691\u001b[0m     \u001b[0;32mdef\u001b[0m \u001b[0mipu\u001b[0m\u001b[0;34m(\u001b[0m\u001b[0mself\u001b[0m\u001b[0;34m:\u001b[0m \u001b[0mT\u001b[0m\u001b[0;34m,\u001b[0m \u001b[0mdevice\u001b[0m\u001b[0;34m:\u001b[0m \u001b[0mOptional\u001b[0m\u001b[0;34m[\u001b[0m\u001b[0mUnion\u001b[0m\u001b[0;34m[\u001b[0m\u001b[0mint\u001b[0m\u001b[0;34m,\u001b[0m \u001b[0mdevice\u001b[0m\u001b[0;34m]\u001b[0m\u001b[0;34m]\u001b[0m \u001b[0;34m=\u001b[0m \u001b[0;32mNone\u001b[0m\u001b[0;34m)\u001b[0m \u001b[0;34m->\u001b[0m \u001b[0mT\u001b[0m\u001b[0;34m:\u001b[0m\u001b[0;34m\u001b[0m\u001b[0;34m\u001b[0m\u001b[0m\n",
            "\u001b[0;32m/usr/local/lib/python3.7/dist-packages/torch/cuda/__init__.py\u001b[0m in \u001b[0;36m_lazy_init\u001b[0;34m()\u001b[0m\n\u001b[1;32m    215\u001b[0m         \u001b[0;31m# This function throws if there's a driver initialization error, no GPUs\u001b[0m\u001b[0;34m\u001b[0m\u001b[0;34m\u001b[0m\u001b[0;34m\u001b[0m\u001b[0m\n\u001b[1;32m    216\u001b[0m         \u001b[0;31m# are found or any other error occurs\u001b[0m\u001b[0;34m\u001b[0m\u001b[0;34m\u001b[0m\u001b[0;34m\u001b[0m\u001b[0m\n\u001b[0;32m--> 217\u001b[0;31m         \u001b[0mtorch\u001b[0m\u001b[0;34m.\u001b[0m\u001b[0m_C\u001b[0m\u001b[0;34m.\u001b[0m\u001b[0m_cuda_init\u001b[0m\u001b[0;34m(\u001b[0m\u001b[0;34m)\u001b[0m\u001b[0;34m\u001b[0m\u001b[0;34m\u001b[0m\u001b[0m\n\u001b[0m\u001b[1;32m    218\u001b[0m         \u001b[0;31m# Some of the queued calls may reentrantly call _lazy_init();\u001b[0m\u001b[0;34m\u001b[0m\u001b[0;34m\u001b[0m\u001b[0;34m\u001b[0m\u001b[0m\n\u001b[1;32m    219\u001b[0m         \u001b[0;31m# we need to just return without initializing in that case.\u001b[0m\u001b[0;34m\u001b[0m\u001b[0;34m\u001b[0m\u001b[0;34m\u001b[0m\u001b[0m\n",
            "\u001b[0;31mRuntimeError\u001b[0m: No CUDA GPUs are available"
          ]
        }
      ],
      "source": [
        "#--------------------------------------------------\n",
        "#       Start Training & Evaluation\n",
        "#--------------------------------------------------\n",
        "net = TNet() \n",
        "train_option = {}\n",
        "train_option['lr'] = 0.002\n",
        "train_option['epoch'] = 20\n",
        "train_option['device'] = 'gpu'\n",
        "trainModel(net, trainloader_small, train_option, testloader_small)"
      ]
    },
    {
      "cell_type": "markdown",
      "id": "74f5cd7b",
      "metadata": {
        "id": "74f5cd7b"
      },
      "source": [
        "Great! You would get around 0.45-0.50 accuracy by this very simple network. Now it's your job to beat this result.\n",
        "\n",
        "### Problem 1.1\n",
        "(30 points) Try to boost the accuracy by doing the following steps:\n",
        "\n",
        "**Data Augmentation**: We don't have enough training data, let's augment the training data.\n",
        "If you **left-right flip (mirror) an image** of a scene, it never changes categories. A kitchen doesn't become a forest when mirrored. This isn't true in all domains — a \"d\" becomes a \"b\" when mirrored, so you can't \"jitter\" digit recognition training data in the same way. But we can synthetically increase our amount of training data by left-right mirroring training images during the learning process.\n",
        "\n",
        "After you implement mirroring, you should notice that your training error doesn't drop as quickly. That's actually a good thing, because it means the network isn't overfitting to the 2,400 original training images as much (because it sees 4,800 training images now, although they're not as good as 4,800 truly independent samples). Because the training and test errors fall more slowly, you may need more training epochs or you may try modifying the learning rate. You are **required** to implement mirroring as data augmentation for this part.\n",
        "\n",
        "You can try more elaborate forms of jittering -- zooming in a random amount, rotating a random amount, taking a random crop, etc. These are not required, you might want to try these in the bonus part.\n",
        "\n",
        "**Data Normalization**: The images aren't **zero-centered**. One simple trick which can help a lot is to subtract the mean from every image. It would arguably be more proper to only compute the mean from the training images (since the test/validation images should be strictly held out) but it won't make much of a difference. This part is **required**.\n",
        "\n",
        "**Network Regularization**: Add **dropout layer**. If you train your network (especially for more than the default 30 epochs) you'll see that the training error can decrease to zero while the val top1 error hovers at 40% to 50%. The network has learned weights which can perfectly recognize the training data, but those weights don't generalize to held out test data. The best regularization would be more training data but we don't have that. Instead we will use dropout regularization.\n",
        "\n",
        "What does dropout regularization do? It randomly turns off network connections at training time to fight overfitting. This prevents a unit in one layer from relying too strongly on a single unit in the previous layer. Dropout regularization can be interpreted as simultaneously training many \"thinned\" versions of your network. At test, all connections are restored which is analogous to taking an average prediction over all of the \"thinned\" networks. You can see a more complete discussion of dropout regularization in this [paper](https://www.cs.toronto.edu/~hinton/absps/JMLRdropout.pdf).\n",
        "\n",
        "The dropout layer has only one free parameter — the dropout rate — the proportion of connections that are randomly deleted. The default of 0.5 should be fine. Insert a dropout layer between your convolutional layers. In particular, insert it directly before your last convolutional layer (and try others if that helps). Your train accuracy should decrease much more slowly. That's to be expected — you're making life much harder for the training algorithm by cutting out connections randomly. In this part, you are **required** to add dropout layer to your network.\n",
        "\n",
        "**Please give detailed descriptions of your network layout in the following format:**<br>\n",
        "Data augmentation: [descriptions]<br>\n",
        "Data normalization: [descriptions]<br>\n",
        "Layer 1: [layer_type]: [Parameters]<br>\n",
        "Layer 2: [layer_type]: [Parameters]<br>\n",
        "...<br>\n",
        "**Then report the final accuracy on test set.**\n",
        "\n",
        "The minimum accuracy required for this section is **0.55**."
      ]
    },
    {
      "cell_type": "code",
      "execution_count": null,
      "id": "4b906bbf",
      "metadata": {
        "id": "4b906bbf",
        "colab": {
          "base_uri": "https://localhost:8080/"
        },
        "outputId": "c7d0ba97-68b8-4cb3-d43b-433f53184ad8"
      },
      "outputs": [
        {
          "output_type": "stream",
          "name": "stdout",
          "text": [
            "Loading images from class: 0\n"
          ]
        },
        {
          "output_type": "stream",
          "name": "stderr",
          "text": [
            "/usr/local/lib/python3.7/dist-packages/ipykernel_launcher.py:46: DeprecationWarning: `np.float` is a deprecated alias for the builtin `float`. To silence this warning, use `float` by itself. Doing this will not modify any behavior and is safe. If you specifically wanted the numpy scalar type, use `np.float64` here.\n",
            "Deprecated in NumPy 1.20; for more details and guidance: https://numpy.org/devdocs/release/1.20.0-notes.html#deprecations\n"
          ]
        },
        {
          "output_type": "stream",
          "name": "stdout",
          "text": [
            "Loading images from class: 1\n",
            "Loading images from class: 2\n",
            "Loading images from class: 3\n",
            "Loading images from class: 4\n",
            "Loading images from class: 5\n",
            "Loading images from class: 6\n",
            "Loading images from class: 7\n",
            "Loading images from class: 8\n",
            "Loading images from class: 9\n",
            "Loading images from class: 10\n",
            "Loading images from class: 11\n",
            "Loading images from class: 12\n",
            "Loading images from class: 13\n",
            "Loading images from class: 14\n",
            "Loading images from class: 15\n",
            "(64, 64)\n",
            "Finish loading 75 minibatches (batch_size=64) of training samples.\n",
            "Loading images from class: 0\n",
            "Loading images from class: 1\n",
            "Loading images from class: 2\n",
            "Loading images from class: 3\n",
            "Loading images from class: 4\n",
            "Loading images from class: 5\n",
            "Loading images from class: 6\n",
            "Loading images from class: 7\n",
            "Loading images from class: 8\n",
            "Loading images from class: 9\n",
            "Loading images from class: 10\n",
            "Loading images from class: 11\n",
            "Loading images from class: 12\n",
            "Loading images from class: 13\n",
            "Loading images from class: 14\n",
            "Loading images from class: 15\n",
            "(64, 64)\n",
            "Finish loading 12 minibatches (batch_size=64) of testing samples.\n"
          ]
        }
      ],
      "source": [
        "# load data into size (64, 64)\n",
        "img_size = (64, 64)\n",
        "batch_size = 64 # training sample number per batch\n",
        "\n",
        "# load training dataset\n",
        "trainloader_small = list(load_dataset('./data/train/', img_size, batch_size=batch_size, shuffle=True, augment=True, zero_centered=True))\n",
        "train_num = len(trainloader_small)\n",
        "print(\"Finish loading %d minibatches (batch_size=%d) of training samples.\" % (train_num, batch_size))\n",
        "\n",
        "# load testing dataset\n",
        "testloader_small = list(load_dataset('./data/test/', img_size, num_per_class=50, batch_size=batch_size, zero_centered=True))\n",
        "test_num = len(testloader_small)\n",
        "print(\"Finish loading %d minibatches (batch_size=%d) of testing samples.\" % (test_num, batch_size))"
      ]
    },
    {
      "cell_type": "code",
      "execution_count": 43,
      "id": "c2550ad0",
      "metadata": {
        "id": "c2550ad0"
      },
      "outputs": [],
      "source": [
        "#--------------------------------------------------\n",
        "#       Define Network Architecture\n",
        "#--------------------------------------------------\n",
        "class MyClassifier(nn.Module):\n",
        "  def __init__(self,dropout):\n",
        "    super(MyClassifier,self).__init__()\n",
        "\n",
        "    self.features = torch.nn.Sequential(\n",
        "    nn.Conv2d(1, 32, kernel_size=3, stride=1, padding=1),\n",
        "    nn.ReLU(),\n",
        "    )\n",
        "    \n",
        "    self.features1 = torch.nn.Sequential(\n",
        "    nn.Conv2d(32, 64, kernel_size=3, stride=1, padding=1),\n",
        "    nn.ReLU(),\n",
        "    nn.MaxPool2d(4, stride=4),\n",
        "    nn.Dropout(dropout)\n",
        "    )\n",
        "\n",
        "    self.features2 = torch.nn.Sequential(\n",
        "    nn.Conv2d(64, 16, kernel_size=3, stride=1, padding=1),\n",
        "    nn.ReLU(),\n",
        "    nn.MaxPool2d(4, stride=4),\n",
        "    )\n",
        "\n",
        "    self.classifier = nn.Sequential(\n",
        "         nn.Linear(16 * 16 * 16, 64), \n",
        "  )\n",
        "    self.classifier1 = nn.Sequential(\n",
        "        nn.Linear(64, 32), \n",
        "  )\n",
        "    self.classifier2 = nn.Sequential(\n",
        "        nn.Linear(32, 16), \n",
        "  )\n",
        "    \n",
        "  def forward(self, x):\n",
        "    x = self.features(x)\n",
        "    x = self.features1(x)\n",
        "    x = self.features2(x)\n",
        "      \n",
        "    y = torch.flatten(x, 1)\n",
        "    y = self.classifier(y)\n",
        "    y = self.classifier1(y)\n",
        "    y = self.classifier2(y)\n",
        "    return y "
      ]
    },
    {
      "cell_type": "code",
      "execution_count": 7,
      "id": "73d13a2e",
      "metadata": {
        "id": "73d13a2e",
        "colab": {
          "base_uri": "https://localhost:8080/",
          "height": 217
        },
        "outputId": "6ba330d5-262e-4d60-fd5d-4a9b23c4af6f"
      },
      "outputs": [
        {
          "output_type": "error",
          "ename": "NameError",
          "evalue": "ignored",
          "traceback": [
            "\u001b[0;31m---------------------------------------------------------------------------\u001b[0m",
            "\u001b[0;31mNameError\u001b[0m                                 Traceback (most recent call last)",
            "\u001b[0;32m<ipython-input-7-bf6bb430df26>\u001b[0m in \u001b[0;36m<module>\u001b[0;34m\u001b[0m\n\u001b[1;32m     59\u001b[0m \u001b[0md_out\u001b[0m \u001b[0;34m=\u001b[0m \u001b[0;36m0.5\u001b[0m\u001b[0;34m\u001b[0m\u001b[0;34m\u001b[0m\u001b[0m\n\u001b[1;32m     60\u001b[0m \u001b[0mnum_classes\u001b[0m \u001b[0;34m=\u001b[0m \u001b[0;36m16\u001b[0m\u001b[0;34m\u001b[0m\u001b[0;34m\u001b[0m\u001b[0m\n\u001b[0;32m---> 61\u001b[0;31m \u001b[0mmodel\u001b[0m \u001b[0;34m=\u001b[0m \u001b[0mMyClassifier\u001b[0m\u001b[0;34m(\u001b[0m\u001b[0md_out\u001b[0m\u001b[0;34m)\u001b[0m\u001b[0;34m\u001b[0m\u001b[0;34m\u001b[0m\u001b[0m\n\u001b[0m\u001b[1;32m     62\u001b[0m \u001b[0mtrain\u001b[0m\u001b[0;34m(\u001b[0m\u001b[0mnum_epochs\u001b[0m\u001b[0;34m,\u001b[0m \u001b[0mlearning_rate\u001b[0m\u001b[0;34m,\u001b[0m \u001b[0mmodel\u001b[0m\u001b[0;34m,\u001b[0m \u001b[0mtrainloader_small\u001b[0m\u001b[0;34m)\u001b[0m\u001b[0;34m\u001b[0m\u001b[0;34m\u001b[0m\u001b[0m\n",
            "\u001b[0;31mNameError\u001b[0m: name 'MyClassifier' is not defined"
          ]
        }
      ],
      "source": [
        "#--------------------------------------------------\n",
        "#       Start Training & Evaluation\n",
        "#--------------------------------------------------\n",
        "def train(num_epochs, learning_rate, model, training_images, optimizer=None):\n",
        "  if optimizer == None:\n",
        "    optimizer = optim.Adam(model.parameters(), lr=learning_rate)\n",
        "\n",
        "  criterion = nn.CrossEntropyLoss()\n",
        "\n",
        "  since = time.time()\n",
        "  # If GPU\n",
        "  if torch.cuda.is_available():\n",
        "      model = model.cuda()\n",
        "      criterion = criterion.cuda()\n",
        "          \n",
        "  model.train()\n",
        "  print(model)\n",
        "  # print('Number of parameters: ', len(model.parameters()))\n",
        "\n",
        "  total_step = len(training_images)\n",
        "  print(total_step)\n",
        "  loss_list = []\n",
        "  acc_list = []\n",
        "\n",
        "  for epoch in range(num_epochs):\n",
        "      for i, (images, labels) in enumerate(training_images):\n",
        "          if torch.cuda.is_available():\n",
        "            # Move to GPU\n",
        "            images, labels = images.cuda(), labels.cuda()\n",
        "\n",
        "          # Run the forward pass\n",
        "          outputs = model(images)\n",
        "          loss = criterion(outputs, labels)\n",
        "          loss_list.append(loss.item())\n",
        "\n",
        "          # Backprop and perform Adam optimisation\n",
        "          optimizer.zero_grad()\n",
        "          loss.backward()\n",
        "          optimizer.step()\n",
        "\n",
        "          # Track the accuracy\n",
        "          total = labels.size(0)\n",
        "          _, predicted = torch.max(outputs.data, 1)\n",
        "          correct = (predicted == labels).sum().item()\n",
        "          acc_list.append(correct / total)\n",
        "\n",
        "          if i != 0 and  i % (total_step - 1) == 0:\n",
        "            print('Epoch [{}/{}], Step [{}/{}], Loss: {:.4f}, Accuracy: {:.2f}%'\n",
        "                    .format(epoch + 1, num_epochs, i + 1, total_step, loss.item(),\n",
        "                            (correct / total) * 100))\n",
        "            \n",
        "  elapsed = time.time() - since\n",
        "  print('Train time elapsed in seconds: ', elapsed)\n",
        "\n",
        "# Hyperparams\n",
        "learning_rate = 0.001\n",
        "num_epochs = 20\n",
        "\n",
        "d_out = 0.5\n",
        "num_classes = 16\n",
        "model = MyClassifier(d_out)\n",
        "train(num_epochs, learning_rate, model, trainloader_small)"
      ]
    },
    {
      "cell_type": "markdown",
      "id": "3608bff9",
      "metadata": {
        "id": "3608bff9"
      },
      "source": [
        "**Answer**:\n",
        "\n",
        "(1) which layers of AlexNet have been replaced\n",
        "\n",
        "\n",
        "\n",
        "(2) the architecture of the new layers added including activation methods (same as problem 1)\n",
        "\n",
        "Data augmentation: \n",
        "\n",
        "Data normalization: \n",
        "\n",
        "Features Layers : \n",
        "\n",
        "Classifier Layer 1: \n",
        "\n",
        "Classifier Layer 2: \n",
        "\n",
        "Classifier Layer 3: \n",
        "\n",
        "...\n",
        "\n",
        "(3) the final accuracy on test set\n",
        "\n",
        "Accuracy on test set: \n",
        "\n"
      ]
    },
    {
      "cell_type": "markdown",
      "id": "af911377",
      "metadata": {
        "id": "af911377"
      },
      "source": [
        "## Problem 1.2\n",
        "\n",
        "(30 points) Try **three different techniques** taught in the class to increase the accuracy of your model. Such as increasing training data by randomly rotating training images, adding batch normalization, different activation functions (e.g., sigmoid) and model architecture modification. Note that too many layers can do you no good due to insufficient training data. Clearly describe your method and accuracy increase/decrease for each of the three techniques.\n",
        "\n",
        "The minimum accuracy required for this section is **0.60**. (At least one Technique should achieve this)\n",
        "\n",
        "### Technique 1"
      ]
    },
    {
      "cell_type": "code",
      "execution_count": null,
      "id": "c1509b92",
      "metadata": {
        "id": "c1509b92"
      },
      "outputs": [],
      "source": [
        "#--------------------------------------------------\n",
        "#    Load Training Data and Testing Data\n",
        "#--------------------------------------------------\n"
      ]
    },
    {
      "cell_type": "code",
      "execution_count": null,
      "id": "844b5709",
      "metadata": {
        "id": "844b5709"
      },
      "outputs": [],
      "source": [
        "#--------------------------------------------------\n",
        "#       Define Network Architecture\n",
        "#--------------------------------------------------\n",
        "   "
      ]
    },
    {
      "cell_type": "code",
      "execution_count": null,
      "id": "3c30ef71",
      "metadata": {
        "id": "3c30ef71"
      },
      "outputs": [],
      "source": [
        "#--------------------------------------------------\n",
        "#       Start Training & Evaluation\n",
        "#--------------------------------------------------"
      ]
    },
    {
      "cell_type": "markdown",
      "id": "33bf05db",
      "metadata": {
        "id": "33bf05db"
      },
      "source": [
        "**Answer**:\n",
        "\n",
        "Technique 1: \n",
        "\n",
        "Accuracy on test set: \n",
        "\n",
        "Accuracy increases/decreases:"
      ]
    },
    {
      "cell_type": "markdown",
      "id": "1b6ba2c7",
      "metadata": {
        "id": "1b6ba2c7"
      },
      "source": [
        "### Technique 2\n"
      ]
    },
    {
      "cell_type": "code",
      "execution_count": null,
      "id": "bc3d85fa",
      "metadata": {
        "id": "bc3d85fa"
      },
      "outputs": [],
      "source": [
        "#--------------------------------------------------\n",
        "#    Load Training Data and Testing Data\n",
        "#--------------------------------------------------\n"
      ]
    },
    {
      "cell_type": "code",
      "execution_count": null,
      "id": "19fe4e42",
      "metadata": {
        "id": "19fe4e42"
      },
      "outputs": [],
      "source": [
        "#--------------------------------------------------\n",
        "#       Define Network Architecture\n",
        "#--------------------------------------------------\n"
      ]
    },
    {
      "cell_type": "code",
      "execution_count": null,
      "id": "5e60723f",
      "metadata": {
        "id": "5e60723f"
      },
      "outputs": [],
      "source": [
        "#--------------------------------------------------\n",
        "#       Start Training & Evaluation\n",
        "#--------------------------------------------------\n"
      ]
    },
    {
      "cell_type": "markdown",
      "id": "cf9db93f",
      "metadata": {
        "id": "cf9db93f"
      },
      "source": [
        "**Answer**:\n",
        "\n",
        "Technique 2: \n",
        "\n",
        "Accuracy on test set: \n",
        "\n",
        "Accuracy increases/decreases:"
      ]
    },
    {
      "cell_type": "markdown",
      "id": "3400e482",
      "metadata": {
        "id": "3400e482"
      },
      "source": [
        "### Technique 3"
      ]
    },
    {
      "cell_type": "code",
      "execution_count": null,
      "id": "57f104cc",
      "metadata": {
        "id": "57f104cc"
      },
      "outputs": [],
      "source": [
        "#--------------------------------------------------\n",
        "#    Load Training Data and Testing Data\n",
        "#--------------------------------------------------\n"
      ]
    },
    {
      "cell_type": "code",
      "execution_count": null,
      "id": "4f46c1eb",
      "metadata": {
        "id": "4f46c1eb"
      },
      "outputs": [],
      "source": [
        "#--------------------------------------------------\n",
        "#       Define Network Architecture\n",
        "#--------------------------------------------------\n"
      ]
    },
    {
      "cell_type": "code",
      "execution_count": null,
      "id": "61535319",
      "metadata": {
        "id": "61535319"
      },
      "outputs": [],
      "source": [
        "#--------------------------------------------------\n",
        "#       Start Training & Evaluation\n",
        "#--------------------------------------------------\n"
      ]
    },
    {
      "cell_type": "markdown",
      "id": "d3b54f78",
      "metadata": {
        "id": "d3b54f78"
      },
      "source": [
        "**Answer**:\n",
        "\n",
        "Technique 3: \n",
        "\n",
        "Accuracy on test set: \n",
        "\n",
        "Accuracy increases/decreases:"
      ]
    },
    {
      "cell_type": "markdown",
      "id": "090600db",
      "metadata": {
        "id": "090600db"
      },
      "source": [
        "## Submission guidelines\n",
        "---\n",
        "Extract the downloaded .zip file to a folder of your preference. The input and output paths are predefined and **DO NOT** change them, (we assume that 'Surname_Givenname_assignment2_part2' is your working directory, and all the paths are relative to this directory).  The image read and write functions are already written for you. All you need to do is to fill in the blanks as indicated to generate proper outputs. **DO NOT** zip and upload the dataset on canvas due to size limit.\n",
        "\n",
        "When submitting your .zip file through blackboard, please\n",
        "-- name your .zip file as **Surname_Givenname_assignment2_part1.zip**.\n",
        "\n",
        "This zip file should include:\n",
        "```\n",
        "Surname_Givenname_UNCCID_assignment2_part2  \n",
        "        |---Surname_Givenname_UNCCID_assignment2_part2.ipynb\n",
        "        |---Surname_Givenname_UNCCID_assignment2_part2.pdf\n",
        "```\n",
        "\n",
        "For instance, student Yann Lecun should submit a zip file named \"Lecun_Yann_111134567_assignment2_part1.zip\" for assignment2_part1 in this structure:\n",
        "```\n",
        "Lecun_Yann_111134567_assignment2_part2\n",
        "        |---Lecun_Yann_111134567_assignment2_part2.ipynb\n",
        "        |---Lecun_Yann_111134567_assignment2_part2.pdf\n",
        "```\n",
        "\n",
        "Then right click this folder, click ***Get shareable link***, in the People textfield, enter TA's emails: ***psingire@uncc.edu*** and ***kchiguru@uncc.edu***. Make sure that TAs who have the link **can edit**, ***not just*** **can view**, and also **uncheck** the **Notify people** box.\n",
        "\n",
        "Note that in google colab, we will only grade the version of the code right before the timestamp of the submission made in canvas. \n",
        "\n",
        "Extract the downloaded .zip file to a folder of your preference. The input and output paths are predefined and **DO NOT** change them, (we assume that 'Surname_Givenname_UNCCID_assignment1' is your working directory, and all the paths are relative to this directory).  The image read and write functions are already written for you. All you need to do is to fill in the blanks as indicated to generate proper outputs.\n",
        "\n",
        "\n",
        "-- DO NOT change the folder structure, please just fill in the blanks. <br>\n",
        "\n",
        "You are encouraged to post and answer questions on Canvas. Please ask questions on Canvas and send emails only for personal issues.\n",
        "\n",
        "If you alter the folder structures, the grading of your homework will be significantly delayed and possibly penalized.\n",
        "\n",
        "Be aware that your code will undergo plagiarism check both vertically and horizontally. Please do your own work.\n",
        "\n",
        "Late submission penalty: <br>\n",
        "There will be a 10% penalty per day for late submission. However, you will have THREE days throughout the whole semester to submit late without penalty. Note that the grace period is calculated by days instead of hours. If you submit the homework one minute after the deadline, one late day will be counted. Likewise, if you submit one minute after the deadline, the 10% penaly will be imposed if not using the grace period.\n"
      ]
    }
  ],
  "metadata": {
    "kernelspec": {
      "display_name": "Python 3",
      "language": "python",
      "name": "python3"
    },
    "language_info": {
      "codemirror_mode": {
        "name": "ipython",
        "version": 3
      },
      "file_extension": ".py",
      "mimetype": "text/x-python",
      "name": "python",
      "nbconvert_exporter": "python",
      "pygments_lexer": "ipython3",
      "version": "3.8.8"
    },
    "colab": {
      "provenance": [],
      "include_colab_link": true
    },
    "accelerator": "GPU",
    "gpuClass": "standard"
  },
  "nbformat": 4,
  "nbformat_minor": 5
}