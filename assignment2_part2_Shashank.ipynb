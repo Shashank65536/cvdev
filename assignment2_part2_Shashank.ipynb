{
  "cells": [
    {
      "cell_type": "markdown",
      "metadata": {
        "id": "view-in-github",
        "colab_type": "text"
      },
      "source": [
        "<a href=\"https://colab.research.google.com/github/Shashank65536/cvdev/blob/main/assignment2_part2_Shashank.ipynb\" target=\"_parent\"><img src=\"https://colab.research.google.com/assets/colab-badge.svg\" alt=\"Open In Colab\"/></a>"
      ]
    },
    {
      "cell_type": "markdown",
      "id": "367ea638",
      "metadata": {
        "id": "367ea638"
      },
      "source": [
        "# ITCS 4152/5152 Assignment2-Part2\n",
        "**Due date: 11:59 pm EST on Oct 31, 2022 (Mon.)**\n",
        "\n",
        "---\n",
        "In this semester, we will use Google Colab for the assignments, which allows us to utilize resources that some of us might not have in their local machines such as GPUs. You will need to use your UNC Charlotte (*.uncc.edu) account for coding and Google Drive to save your results.\n",
        "\n",
        "## Google Colab Tutorial\n",
        "---\n",
        "Go to https://colab.research.google.com/notebooks/, you will see a tutorial named \"Welcome to Colaboratory\" file, where you can learn the basics of using google colab.\n",
        "\n",
        "Settings used for assignments: ***Edit -> Notebook Settings -> Runtime Type (Python 3)***.\n",
        "\n",
        "\n",
        "## Description\n",
        "---\n",
        "This project is an introduction to deep learning tools for computer vision. You will design and train deep convolutional networks for scene recognition using [PyTorch](http://pytorch.org). You can visualize the\n",
        "structure of the network with [mNeuron] (http://vision03.csail.mit.edu/cnn_art/index.html)\n",
        "\n",
        "In Problem 1 of the project you will train a deep convolutional network from scratch to recognize scenes. The starter codes gives you methods to load data and display them. You will need to define a simple network architecture and add jittering, normalization, and regularization to increase recognition accuracy to 50, 60, or perhaps 70%. Unfortunately, we only have 2,400 training examples so it doesn't seem possible to train a network from scratch which outperforms hand-crafted features\n",
        "\n",
        "\n",
        "This is an approach that represent the most common approaches to recognition problems in computer vision today -- train a deep network from scratch if you have enough data (it's not always obvious whether or not you do).\n",
        "\n",
        "There are 2 sub problems (under Problem 1) in this homework with a total of 60 points. Be sure to read **Submission Guidelines** below. They are important. For the problems requiring text descriptions, you might want to add a markdown block for that.\n",
        "\n",
        "## Dataset\n",
        "---\n",
        "Save the [dataset(click me)](https://drive.google.com/open?id=1NWC3TMsXSWN2TeoYMCjhf2N1b-WRDh-M) into your working folder in your Google Drive for this homework. <br>\n",
        "Under your root folder, there should be a folder named \"data\" (i.e. XXX/Surname_Givenname_SBUID/data) containing the images.\n",
        "**Do not upload** the data subfolder before submitting on blackboard due to size limit. There should be only one .ipynb file under your root folder Surname_Givenname_SBUID.\n",
        "\n",
        "## Some Tutorials (PyTorch)\n",
        "---\n",
        "- You will be using PyTorch for deep learning toolbox (follow the [link](http://pytorch.org) for installation).\n",
        "- For PyTorch beginners, please read this [tutorial](http://pytorch.org/tutorials/beginner/deep_learning_60min_blitz.html) before doing your homework.\n",
        "- Feel free to study more tutorials at http://pytorch.org/tutorials/.\n",
        "- Find cool visualization here at http://playground.tensorflow.org."
      ]
    },
    {
      "cell_type": "code",
      "execution_count": 2,
      "id": "163b6de2",
      "metadata": {
        "id": "163b6de2"
      },
      "outputs": [],
      "source": [
        "# import packages here\n",
        "import cv2\n",
        "import numpy as np\n",
        "import matplotlib.pyplot as plt\n",
        "import glob\n",
        "import random \n",
        "import time\n",
        "\n",
        "import torch\n",
        "import torchvision\n",
        "import torchvision.transforms as transforms\n",
        "\n",
        "from torch.autograd import Variable\n",
        "import torch.nn as nn\n",
        "import torch.nn.functional as F"
      ]
    },
    {
      "cell_type": "code",
      "execution_count": 3,
      "id": "502f4fec",
      "metadata": {
        "id": "502f4fec",
        "colab": {
          "base_uri": "https://localhost:8080/"
        },
        "outputId": "ffd6fcd7-9a3a-4d50-d1e3-9fb5bcb07553"
      },
      "outputs": [
        {
          "output_type": "stream",
          "name": "stdout",
          "text": [
            "Mounted at /content/gdrive\n"
          ]
        }
      ],
      "source": [
        "# Mount your google drive where you've saved your assignment folder\n",
        "from google.colab import drive\n",
        "drive.mount('/content/gdrive')"
      ]
    },
    {
      "cell_type": "code",
      "execution_count": 4,
      "id": "b41de13c",
      "metadata": {
        "id": "b41de13c"
      },
      "outputs": [],
      "source": [
        "# Replace '------' with the path such that \"ITCS_4152_5152_assignment2\" is your working directory\n",
        "import os\n",
        "os.chdir('/content/gdrive/My Drive/cv/')\n",
        "#cd '/content/gdrive/My Drive/------'"
      ]
    },
    {
      "cell_type": "markdown",
      "id": "437b789c",
      "metadata": {
        "id": "437b789c"
      },
      "source": [
        "## Problem 0: Loading and Preprocessing data\n",
        "---\n",
        "(0 point) In this part, you are provided with a function that loads data into minibatches for training and testing in PyTorch. However, some preprocessing parts are missing. Your will need to implement them when doing Problem 1."
      ]
    },
    {
      "cell_type": "code",
      "execution_count": 5,
      "id": "1988d6ee",
      "metadata": {
        "id": "1988d6ee",
        "colab": {
          "base_uri": "https://localhost:8080/"
        },
        "outputId": "a4a2f093-2a6f-456b-b6f6-8a988b9ce17d"
      },
      "outputs": [
        {
          "output_type": "stream",
          "name": "stdout",
          "text": [
            "class_names: {0: 'TallBuilding', 1: 'Office', 2: 'Suburb', 3: 'OpenCountry', 4: 'Street', 5: 'Store', 6: 'Mountain', 7: 'Highway', 8: 'Industrial', 9: 'Kitchen', 10: 'InsideCity', 11: 'Forest', 12: 'LivingRoom', 13: 'Flower', 14: 'Bedroom', 15: 'Coast'} \n"
          ]
        }
      ],
      "source": [
        "#--------------------------------------------------\n",
        "#    Load Training Data and Testing Data\n",
        "#--------------------------------------------------\n",
        "\n",
        "def set_random_seed(seed):\n",
        "     torch.manual_seed(seed)\n",
        "     torch.cuda.manual_seed_all(seed)\n",
        "     np.random.seed(seed)\n",
        "     random.seed(seed)\n",
        "     torch.backends.cudnn.deterministic = True\n",
        "set_random_seed(0)\n",
        "\n",
        "class_names = [name[13:] for name in glob.glob('./data/train/*')]\n",
        "class_names = dict(zip(range(len(class_names)), class_names))\n",
        "print(\"class_names: %s \" % class_names)\n",
        "\n",
        "def load_dataset(path, img_size, num_per_class=-1, batch_size=16, shuffle=False,\n",
        "           augment=True, is_color=False,rotate = 0, zero_centered=False):    \n",
        "    data = []\n",
        "    labels = []    \n",
        "    channel_num = 3 if is_color else 1\n",
        "    aug_data1 = []\n",
        "    flip_img_arr = []\n",
        "    flip_labels_arr = []\n",
        "        \n",
        "    # read images and resizing\n",
        "    for id, class_name in class_names.items():\n",
        "        print(\"Loading images from class: %s\" % id)\n",
        "        img_path_class = glob.glob(path + class_name + '/*.jpg')\n",
        "        if num_per_class > 0:\n",
        "            img_path_class = img_path_class[:num_per_class]\n",
        "        labels.extend([id]*len(img_path_class))\n",
        "        for filename in img_path_class:\n",
        "            if is_color:\n",
        "                img = cv2.imread(filename)\n",
        "            else:\n",
        "                img = cv2.imread(filename, 0)\n",
        "            \n",
        "            # resize the image\n",
        "            img = cv2.resize(img, img_size, cv2.INTER_LINEAR)\n",
        "            \n",
        "            if is_color:\n",
        "                img = np.transpose(img, [2, 0, 1])\n",
        "            \n",
        "            # norm pixel values to [-1, 1]\n",
        "            data.append(img.astype(np.float)/255*2-1)\n",
        "            \n",
        "\n",
        "    ##########--WRITE YOUR CODE HERE--##########\n",
        "    # Data Augmentation \n",
        "    if augment: \n",
        "      #aug_data = [np.flip(img, 1) for img in data]\n",
        "      #print(aug_data)\n",
        "      for img in data:\n",
        "        each_img_flipped = np.flip(img,1)\n",
        "        aug_data1.append(each_img_flipped)\n",
        "      #print(aug_data == aug_data1)\n",
        "      data.extend(aug_data1)\n",
        "      labels.extend(labels)\n",
        "      \n",
        "      if rotate != 0:\n",
        "        for index, img in enumerate(data):\n",
        "          rotational_angle = np.random.uniform(rotate) - rotate / 2\n",
        "          no_of_rows, no_of_cols,channels = img.shape\n",
        "\n",
        "          matrix_after_rotation = cv2.getRotationMatrix2D((no_of_cols/2,no_of_rows/2), rotational_angle, 1)\n",
        "          rotated_img = cv2.warpAffine(img,matrix_after_rotation,(no_of_cols,no_of_rows))\n",
        "\n",
        "          flip_img_arr.append(rotated_img)\n",
        "          flip_labels_arr.append(labels[index])\n",
        "\n",
        "          ##appending the rotated images\n",
        "          data.extend(flip_img_arr)\n",
        "          labels.extend(flip_labels_arr)\n",
        "    ##########-------END OF CODE-------##########    \n",
        "    \n",
        "    ##########--WRITE YOUR CODE HERE--##########\n",
        "    # Data Normalization\n",
        "    if zero_centered:\n",
        "      mean = np.mean(data, axis=0)\n",
        "      print(mean.shape)\n",
        "      for index, img in enumerate(data):\n",
        "        data[index] = img - mean\n",
        "        \n",
        "    ##########-------END OF CODE-------##########\n",
        "         \n",
        "    # randomly permute (this step is important for training)\n",
        "    if shuffle:\n",
        "        bundle = list(zip(data, labels))\n",
        "        random.shuffle(bundle)\n",
        "        data, labels = zip(*bundle)\n",
        "    \n",
        "    # divide data into minibatches of TorchTensors\n",
        "    if batch_size > 1:\n",
        "        batch_data = []\n",
        "        batch_labels = []\n",
        "         \n",
        "        for i in range(int(len(data) / batch_size)):\n",
        "            minibatch_d = data[i*batch_size: (i+1)*batch_size]\n",
        "            minibatch_d = np.reshape(minibatch_d, (batch_size, channel_num, img_size[0], img_size[1]))\n",
        "            batch_data.append(torch.from_numpy(minibatch_d))\n",
        "\n",
        "            minibatch_l = labels[i*batch_size: (i+1)*batch_size]\n",
        "            batch_labels.append(torch.LongTensor(minibatch_l))\n",
        "        data, labels = batch_data, batch_labels \n",
        "    \n",
        "    return zip(batch_data, batch_labels)"
      ]
    },
    {
      "cell_type": "code",
      "execution_count": 35,
      "id": "9483a7cd",
      "metadata": {
        "id": "9483a7cd",
        "colab": {
          "base_uri": "https://localhost:8080/"
        },
        "outputId": "c630175d-3f8d-4919-c3d0-2d55e7eb033b"
      },
      "outputs": [
        {
          "output_type": "stream",
          "name": "stdout",
          "text": [
            "Loading images from class: 0\n"
          ]
        },
        {
          "output_type": "stream",
          "name": "stderr",
          "text": [
            "/usr/local/lib/python3.7/dist-packages/ipykernel_launcher.py:46: DeprecationWarning: `np.float` is a deprecated alias for the builtin `float`. To silence this warning, use `float` by itself. Doing this will not modify any behavior and is safe. If you specifically wanted the numpy scalar type, use `np.float64` here.\n",
            "Deprecated in NumPy 1.20; for more details and guidance: https://numpy.org/devdocs/release/1.20.0-notes.html#deprecations\n"
          ]
        },
        {
          "output_type": "stream",
          "name": "stdout",
          "text": [
            "Loading images from class: 1\n",
            "Loading images from class: 2\n",
            "Loading images from class: 3\n",
            "Loading images from class: 4\n",
            "Loading images from class: 5\n",
            "Loading images from class: 6\n",
            "Loading images from class: 7\n",
            "Loading images from class: 8\n",
            "Loading images from class: 9\n",
            "Loading images from class: 10\n",
            "Loading images from class: 11\n",
            "Loading images from class: 12\n",
            "Loading images from class: 13\n",
            "Loading images from class: 14\n",
            "Loading images from class: 15\n",
            "Finish loading 75 minibatches (batch_size=64) of training samples.\n",
            "Loading images from class: 0\n",
            "Loading images from class: 1\n",
            "Loading images from class: 2\n",
            "Loading images from class: 3\n",
            "Loading images from class: 4\n",
            "Loading images from class: 5\n",
            "Loading images from class: 6\n",
            "Loading images from class: 7\n",
            "Loading images from class: 8\n",
            "Loading images from class: 9\n",
            "Loading images from class: 10\n",
            "Loading images from class: 11\n",
            "Loading images from class: 12\n",
            "Loading images from class: 13\n",
            "Loading images from class: 14\n",
            "Loading images from class: 15\n",
            "Finish loading 12 minibatches (batch_size=64) of testing samples.\n"
          ]
        }
      ],
      "source": [
        "# load data into size (64, 64)\n",
        "img_size = (64, 64)\n",
        "batch_size = 64 # training sample number per batch\n",
        "\n",
        "# load training dataset\n",
        "trainloader_small = list(load_dataset('./data/train/', img_size, batch_size=batch_size, shuffle=True))\n",
        "train_num = len(trainloader_small)\n",
        "print(\"Finish loading %d minibatches (batch_size=%d) of training samples.\" % (train_num, batch_size))\n",
        "\n",
        "# load testing dataset\n",
        "testloader_small = list(load_dataset('./data/test/', img_size, num_per_class=50, batch_size=batch_size))\n",
        "test_num = len(testloader_small)\n",
        "print(\"Finish loading %d minibatches (batch_size=%d) of testing samples.\" % (test_num, batch_size))"
      ]
    },
    {
      "cell_type": "code",
      "execution_count": 36,
      "id": "6add360c",
      "metadata": {
        "id": "6add360c",
        "colab": {
          "base_uri": "https://localhost:8080/",
          "height": 285
        },
        "outputId": "c2cc2696-3be0-4ebc-b4c3-5d2c48df9c0a"
      },
      "outputs": [
        {
          "output_type": "stream",
          "name": "stdout",
          "text": [
            "Mountain\n"
          ]
        },
        {
          "output_type": "display_data",
          "data": {
            "text/plain": [
              "<Figure size 432x288 with 1 Axes>"
            ],
            "image/png": "[encoded data removed]"
          },
          "metadata": {
            "needs_background": "light"
          }
        }
      ],
      "source": [
        "# show some images\n",
        "def imshow(img):\n",
        "    img = img / 2 + 0.5     # unnormalize\n",
        "    npimg = img.numpy()\n",
        "    if len(npimg.shape) > 2:\n",
        "        npimg = np.transpose(img, [1, 2, 0])\n",
        "    plt.figure\n",
        "    plt.imshow(npimg, 'gray')\n",
        "    plt.show()\n",
        "img, label = trainloader_small[0][0][11][0], trainloader_small[0][1][11]\n",
        "label = int(np.array(label))\n",
        "print(class_names[label])\n",
        "imshow(img)"
      ]
    },
    {
      "cell_type": "markdown",
      "id": "d906be39",
      "metadata": {
        "id": "d906be39"
      },
      "source": [
        "## Problem 1: Training a Network From Scratch\n",
        "Gone are the days of hand designed features. Now we have end-to-end learning in which a highly non-linear representation is learned for our data to maximize our objective function (in this case, 16-way classification accuracy). Let's start!"
      ]
    },
    {
      "cell_type": "markdown",
      "id": "d3d758ff",
      "metadata": {
        "id": "d3d758ff"
      },
      "source": [
        "First, let's define a simpe network architecture."
      ]
    },
    {
      "cell_type": "code",
      "execution_count": 37,
      "id": "67208818",
      "metadata": {
        "id": "67208818"
      },
      "outputs": [],
      "source": [
        "#--------------------------------------------------\n",
        "#       Define Network Architecture\n",
        "#--------------------------------------------------\n",
        "class TNet(nn.Module):\n",
        "    def __init__(self):\n",
        "      super(TNet,self).__init__()  \n",
        "           \n",
        "      self.features = torch.nn.Sequential(\n",
        "        nn.Conv2d(1, 16, 3),\n",
        "        nn.ReLU(),\n",
        "        nn.MaxPool2d(4, stride=4), \n",
        "      )\n",
        "      \n",
        "      self.classifier = nn.Sequential(\n",
        "         nn.Linear(3600, 16), \n",
        "      )\n",
        "      \n",
        "    def forward(self, x):\n",
        "      x = self.features(x)  \n",
        "      x = torch.flatten(x, 1)\n",
        "      x = self.classifier(x)\n",
        "      return x  "
      ]
    },
    {
      "cell_type": "markdown",
      "id": "249c193d",
      "metadata": {
        "id": "249c193d"
      },
      "source": [
        "Then, let's define model training and evaluation functions."
      ]
    },
    {
      "cell_type": "code",
      "execution_count": 9,
      "id": "e1ba6e02",
      "metadata": {
        "id": "e1ba6e02"
      },
      "outputs": [],
      "source": [
        "#--------------------------------------------------\n",
        "#       Model Training Function\n",
        "#--------------------------------------------------\n",
        "import torch.optim as optim\n",
        "import time\n",
        "  \n",
        "def trainModel(net, trainloader, train_option, testloader=None):  \n",
        "  loss_func = nn.CrossEntropyLoss()\n",
        "  lr = train_option['lr']\n",
        "  epoch = train_option['epoch']\n",
        "  device = train_option['device'] if 'device' in train_option.keys() else 'cpu'\n",
        "  log_iter = train_option['log_iter'] if 'log_iter' in train_option.keys() else 20\n",
        "  eval_epoch = 1\n",
        "  \n",
        "  if 'optimizer' in train_option.keys():\n",
        "    optimizer = train_option['optimizer']\n",
        "  else:\n",
        "    optimizer = optim.Adam(net.parameters(), lr=lr)\n",
        "\n",
        "  start_time = time.time()\n",
        "  if device == 'gpu':\n",
        "    net = net.cuda()\n",
        "    \n",
        "  iters = 0\n",
        "  running_loss = 0.0\n",
        "  for ep in range(epoch):\n",
        "    net.train()        \n",
        "    for iter, (x, y) in enumerate(trainloader):\n",
        "      iters += 1\n",
        "      batch_x = Variable(x).float()\n",
        "      batch_y = Variable(y).long()\n",
        "      if device == 'gpu':\n",
        "        batch_x = batch_x.cuda()\n",
        "        batch_y = batch_y.cuda()\n",
        "\n",
        "      outputs = net(batch_x)\n",
        "      loss = loss_func(outputs, batch_y)\n",
        "      optimizer.zero_grad()\n",
        "      loss.backward()\n",
        "      optimizer.step()\n",
        "      running_loss += loss.item()\n",
        "      \n",
        "      time_lapse = time.strftime('%H:%M:%S', time.gmtime(time.time() - start_time))\n",
        "      if iter % log_iter == 0:\n",
        "        print('Epoch:{:2d} | Iter:{:5d} | Time: {} | Train Loss: {:.4f} | Average Loss: {:.4f} '.format(ep+1, iter, time_lapse, loss.item(), running_loss/iters))\n",
        "   \n",
        "    if testloader is not None and ep % eval_epoch == 0:\n",
        "      evalModel(net, testloader)\n"
      ]
    },
    {
      "cell_type": "code",
      "execution_count": 10,
      "id": "cecead0a",
      "metadata": {
        "id": "cecead0a"
      },
      "outputs": [],
      "source": [
        "#--------------------------------------------------\n",
        "#       Model Evaluating Function\n",
        "#--------------------------------------------------\n",
        "import time\n",
        "  \n",
        "def evalModel(net, testloader): \n",
        "  acc = 0.0\n",
        "  count = 0\n",
        "  start_time = time.time()\n",
        "  device = 'gpu' if next(net.parameters()).is_cuda else 'cpu'\n",
        "  net.eval()\n",
        "  \n",
        "  for iter, (x, y) in enumerate(testloader):\n",
        "        count += x.shape[0]\n",
        "        batch_x = Variable(x).float()\n",
        "        batch_y = Variable(y).long()\n",
        "        if device == 'gpu':\n",
        "          batch_x = batch_x.cuda()\n",
        "          batch_y = batch_y.cuda()\n",
        "        outputs = net(batch_x)\n",
        "        acc += torch.sum(outputs.max(1)[1]==batch_y)\n",
        "        \n",
        "  time_lapse = time.strftime('%H:%M:%S', time.gmtime(time.time() - start_time))        \n",
        "  print('Accuracy: {:5f} | Time: {}'.format(acc/count,time_lapse))\n",
        "  "
      ]
    },
    {
      "cell_type": "markdown",
      "id": "3735abd3",
      "metadata": {
        "id": "3735abd3"
      },
      "source": [
        "**Finally**, let's start training and evaluation."
      ]
    },
    {
      "cell_type": "code",
      "execution_count": 11,
      "id": "2086fbf1",
      "metadata": {
        "id": "2086fbf1",
        "colab": {
          "base_uri": "https://localhost:8080/"
        },
        "outputId": "579538a3-ca5a-4eba-8a55-57340a11c656"
      },
      "outputs": [
        {
          "output_type": "stream",
          "name": "stdout",
          "text": [
            "Epoch: 1 | Iter:    0 | Time: 00:00:10 | Train Loss: 2.7843 | Average Loss: 2.7843 \n",
            "Epoch: 1 | Iter:   20 | Time: 00:00:10 | Train Loss: 2.3558 | Average Loss: 2.6110 \n",
            "Epoch: 1 | Iter:   40 | Time: 00:00:10 | Train Loss: 2.0521 | Average Loss: 2.4187 \n",
            "Epoch: 1 | Iter:   60 | Time: 00:00:10 | Train Loss: 1.8100 | Average Loss: 2.2885 \n",
            "Accuracy: 0.432292 | Time: 00:00:00\n",
            "Epoch: 2 | Iter:    0 | Time: 00:00:10 | Train Loss: 1.2696 | Average Loss: 2.2136 \n",
            "Epoch: 2 | Iter:   20 | Time: 00:00:10 | Train Loss: 1.6798 | Average Loss: 2.0988 \n",
            "Epoch: 2 | Iter:   40 | Time: 00:00:10 | Train Loss: 1.5882 | Average Loss: 2.0051 \n",
            "Epoch: 2 | Iter:   60 | Time: 00:00:10 | Train Loss: 1.3712 | Average Loss: 1.9295 \n",
            "Accuracy: 0.477865 | Time: 00:00:00\n",
            "Epoch: 3 | Iter:    0 | Time: 00:00:10 | Train Loss: 0.9805 | Average Loss: 1.8817 \n",
            "Epoch: 3 | Iter:   20 | Time: 00:00:10 | Train Loss: 1.3129 | Average Loss: 1.8112 \n",
            "Epoch: 3 | Iter:   40 | Time: 00:00:10 | Train Loss: 1.2702 | Average Loss: 1.7480 \n",
            "Epoch: 3 | Iter:   60 | Time: 00:00:10 | Train Loss: 1.0921 | Average Loss: 1.6935 \n",
            "Accuracy: 0.500000 | Time: 00:00:00\n",
            "Epoch: 4 | Iter:    0 | Time: 00:00:10 | Train Loss: 0.7694 | Average Loss: 1.6578 \n",
            "Epoch: 4 | Iter:   20 | Time: 00:00:11 | Train Loss: 1.0599 | Average Loss: 1.6070 \n",
            "Epoch: 4 | Iter:   40 | Time: 00:00:11 | Train Loss: 1.0344 | Average Loss: 1.5596 \n",
            "Epoch: 4 | Iter:   60 | Time: 00:00:11 | Train Loss: 0.9005 | Average Loss: 1.5180 \n",
            "Accuracy: 0.515625 | Time: 00:00:00\n",
            "Epoch: 5 | Iter:    0 | Time: 00:00:11 | Train Loss: 0.6102 | Average Loss: 1.4901 \n",
            "Epoch: 5 | Iter:   20 | Time: 00:00:11 | Train Loss: 0.8797 | Average Loss: 1.4510 \n",
            "Epoch: 5 | Iter:   40 | Time: 00:00:11 | Train Loss: 0.8585 | Average Loss: 1.4136 \n",
            "Epoch: 5 | Iter:   60 | Time: 00:00:11 | Train Loss: 0.7622 | Average Loss: 1.3803 \n",
            "Accuracy: 0.515625 | Time: 00:00:00\n",
            "Epoch: 6 | Iter:    0 | Time: 00:00:11 | Train Loss: 0.5085 | Average Loss: 1.3581 \n",
            "Epoch: 6 | Iter:   20 | Time: 00:00:11 | Train Loss: 0.7500 | Average Loss: 1.3269 \n",
            "Epoch: 6 | Iter:   40 | Time: 00:00:11 | Train Loss: 0.7162 | Average Loss: 1.2962 \n",
            "Epoch: 6 | Iter:   60 | Time: 00:00:11 | Train Loss: 0.6669 | Average Loss: 1.2687 \n",
            "Accuracy: 0.519531 | Time: 00:00:00\n",
            "Epoch: 7 | Iter:    0 | Time: 00:00:11 | Train Loss: 0.4565 | Average Loss: 1.2505 \n",
            "Epoch: 7 | Iter:   20 | Time: 00:00:11 | Train Loss: 0.6484 | Average Loss: 1.2250 \n",
            "Epoch: 7 | Iter:   40 | Time: 00:00:11 | Train Loss: 0.6022 | Average Loss: 1.1993 \n",
            "Epoch: 7 | Iter:   60 | Time: 00:00:11 | Train Loss: 0.6057 | Average Loss: 1.1757 \n",
            "Accuracy: 0.498698 | Time: 00:00:00\n",
            "Epoch: 8 | Iter:    0 | Time: 00:00:11 | Train Loss: 0.4252 | Average Loss: 1.1604 \n",
            "Epoch: 8 | Iter:   20 | Time: 00:00:11 | Train Loss: 0.5945 | Average Loss: 1.1397 \n",
            "Epoch: 8 | Iter:   40 | Time: 00:00:12 | Train Loss: 0.5047 | Average Loss: 1.1182 \n",
            "Epoch: 8 | Iter:   60 | Time: 00:00:12 | Train Loss: 0.5453 | Average Loss: 1.0980 \n",
            "Accuracy: 0.518229 | Time: 00:00:00\n",
            "Epoch: 9 | Iter:    0 | Time: 00:00:12 | Train Loss: 0.4081 | Average Loss: 1.0847 \n",
            "Epoch: 9 | Iter:   20 | Time: 00:00:12 | Train Loss: 0.5448 | Average Loss: 1.0674 \n",
            "Epoch: 9 | Iter:   40 | Time: 00:00:12 | Train Loss: 0.4433 | Average Loss: 1.0494 \n",
            "Epoch: 9 | Iter:   60 | Time: 00:00:12 | Train Loss: 0.5031 | Average Loss: 1.0322 \n",
            "Accuracy: 0.516927 | Time: 00:00:00\n",
            "Epoch:10 | Iter:    0 | Time: 00:00:12 | Train Loss: 0.4054 | Average Loss: 1.0203 \n",
            "Epoch:10 | Iter:   20 | Time: 00:00:12 | Train Loss: 0.4830 | Average Loss: 1.0046 \n",
            "Epoch:10 | Iter:   40 | Time: 00:00:12 | Train Loss: 0.3678 | Average Loss: 0.9887 \n",
            "Epoch:10 | Iter:   60 | Time: 00:00:12 | Train Loss: 0.3716 | Average Loss: 0.9736 \n",
            "Accuracy: 0.548177 | Time: 00:00:00\n",
            "Epoch:11 | Iter:    0 | Time: 00:00:12 | Train Loss: 0.3153 | Average Loss: 0.9624 \n",
            "Epoch:11 | Iter:   20 | Time: 00:00:12 | Train Loss: 0.4507 | Average Loss: 0.9478 \n",
            "Epoch:11 | Iter:   40 | Time: 00:00:12 | Train Loss: 0.3778 | Average Loss: 0.9328 \n",
            "Epoch:11 | Iter:   60 | Time: 00:00:12 | Train Loss: 0.3406 | Average Loss: 0.9196 \n",
            "Accuracy: 0.532552 | Time: 00:00:00\n",
            "Epoch:12 | Iter:    0 | Time: 00:00:12 | Train Loss: 0.3275 | Average Loss: 0.9093 \n",
            "Epoch:12 | Iter:   20 | Time: 00:00:12 | Train Loss: 0.4432 | Average Loss: 0.8961 \n",
            "Epoch:12 | Iter:   40 | Time: 00:00:12 | Train Loss: 0.3528 | Average Loss: 0.8826 \n",
            "Epoch:12 | Iter:   60 | Time: 00:00:12 | Train Loss: 0.3571 | Average Loss: 0.8706 \n",
            "Accuracy: 0.537760 | Time: 00:00:00\n",
            "Epoch:13 | Iter:    0 | Time: 00:00:13 | Train Loss: 0.2449 | Average Loss: 0.8613 \n",
            "Epoch:13 | Iter:   20 | Time: 00:00:13 | Train Loss: 0.3968 | Average Loss: 0.8491 \n",
            "Epoch:13 | Iter:   40 | Time: 00:00:13 | Train Loss: 0.2766 | Average Loss: 0.8372 \n",
            "Epoch:13 | Iter:   60 | Time: 00:00:13 | Train Loss: 0.3709 | Average Loss: 0.8263 \n",
            "Accuracy: 0.528646 | Time: 00:00:00\n",
            "Epoch:14 | Iter:    0 | Time: 00:00:13 | Train Loss: 0.2021 | Average Loss: 0.8183 \n",
            "Epoch:14 | Iter:   20 | Time: 00:00:13 | Train Loss: 0.3222 | Average Loss: 0.8074 \n",
            "Epoch:14 | Iter:   40 | Time: 00:00:13 | Train Loss: 0.2331 | Average Loss: 0.7967 \n",
            "Epoch:14 | Iter:   60 | Time: 00:00:13 | Train Loss: 0.3463 | Average Loss: 0.7871 \n",
            "Accuracy: 0.552083 | Time: 00:00:00\n",
            "Epoch:15 | Iter:    0 | Time: 00:00:13 | Train Loss: 0.1918 | Average Loss: 0.7802 \n",
            "Epoch:15 | Iter:   20 | Time: 00:00:13 | Train Loss: 0.2508 | Average Loss: 0.7707 \n",
            "Epoch:15 | Iter:   40 | Time: 00:00:13 | Train Loss: 0.2531 | Average Loss: 0.7613 \n",
            "Epoch:15 | Iter:   60 | Time: 00:00:13 | Train Loss: 0.2438 | Average Loss: 0.7524 \n",
            "Accuracy: 0.542969 | Time: 00:00:00\n",
            "Epoch:16 | Iter:    0 | Time: 00:00:13 | Train Loss: 0.2883 | Average Loss: 0.7465 \n",
            "Epoch:16 | Iter:   20 | Time: 00:00:13 | Train Loss: 0.2138 | Average Loss: 0.7380 \n",
            "Epoch:16 | Iter:   40 | Time: 00:00:13 | Train Loss: 0.2504 | Average Loss: 0.7294 \n",
            "Epoch:16 | Iter:   60 | Time: 00:00:13 | Train Loss: 0.2265 | Average Loss: 0.7213 \n",
            "Accuracy: 0.537760 | Time: 00:00:00\n",
            "Epoch:17 | Iter:    0 | Time: 00:00:13 | Train Loss: 0.3442 | Average Loss: 0.7158 \n",
            "Epoch:17 | Iter:   20 | Time: 00:00:14 | Train Loss: 0.3639 | Average Loss: 0.7083 \n",
            "Epoch:17 | Iter:   40 | Time: 00:00:14 | Train Loss: 0.1745 | Average Loss: 0.7001 \n",
            "Epoch:17 | Iter:   60 | Time: 00:00:14 | Train Loss: 0.2264 | Average Loss: 0.6924 \n",
            "Accuracy: 0.548177 | Time: 00:00:00\n",
            "Epoch:18 | Iter:    0 | Time: 00:00:14 | Train Loss: 0.1968 | Average Loss: 0.6872 \n",
            "Epoch:18 | Iter:   20 | Time: 00:00:14 | Train Loss: 0.4069 | Average Loss: 0.6809 \n",
            "Epoch:18 | Iter:   40 | Time: 00:00:14 | Train Loss: 0.2028 | Average Loss: 0.6737 \n",
            "Epoch:18 | Iter:   60 | Time: 00:00:14 | Train Loss: 0.1715 | Average Loss: 0.6663 \n",
            "Accuracy: 0.562500 | Time: 00:00:00\n",
            "Epoch:19 | Iter:    0 | Time: 00:00:14 | Train Loss: 0.2122 | Average Loss: 0.6613 \n",
            "Epoch:19 | Iter:   20 | Time: 00:00:14 | Train Loss: 0.1745 | Average Loss: 0.6549 \n",
            "Epoch:19 | Iter:   40 | Time: 00:00:14 | Train Loss: 0.1829 | Average Loss: 0.6488 \n",
            "Epoch:19 | Iter:   60 | Time: 00:00:14 | Train Loss: 0.1504 | Average Loss: 0.6420 \n",
            "Accuracy: 0.566406 | Time: 00:00:00\n",
            "Epoch:20 | Iter:    0 | Time: 00:00:14 | Train Loss: 0.1230 | Average Loss: 0.6368 \n",
            "Epoch:20 | Iter:   20 | Time: 00:00:14 | Train Loss: 0.1627 | Average Loss: 0.6305 \n",
            "Epoch:20 | Iter:   40 | Time: 00:00:14 | Train Loss: 0.1520 | Average Loss: 0.6246 \n",
            "Epoch:20 | Iter:   60 | Time: 00:00:14 | Train Loss: 0.1081 | Average Loss: 0.6183 \n",
            "Accuracy: 0.566406 | Time: 00:00:00\n"
          ]
        }
      ],
      "source": [
        "#--------------------------------------------------\n",
        "#       Start Training & Evaluation\n",
        "#--------------------------------------------------\n",
        "net = TNet() \n",
        "train_option = {}\n",
        "train_option['lr'] = 0.002\n",
        "train_option['epoch'] = 20\n",
        "train_option['device'] = 'gpu'\n",
        "trainModel(net, trainloader_small, train_option, testloader_small)"
      ]
    },
    {
      "cell_type": "markdown",
      "id": "74f5cd7b",
      "metadata": {
        "id": "74f5cd7b"
      },
      "source": [
        "Great! You would get around 0.45-0.50 accuracy by this very simple network. Now it's your job to beat this result.\n",
        "\n",
        "### Problem 1.1\n",
        "(30 points) Try to boost the accuracy by doing the following steps:\n",
        "\n",
        "**Data Augmentation**: We don't have enough training data, let's augment the training data.\n",
        "If you **left-right flip (mirror) an image** of a scene, it never changes categories. A kitchen doesn't become a forest when mirrored. This isn't true in all domains — a \"d\" becomes a \"b\" when mirrored, so you can't \"jitter\" digit recognition training data in the same way. But we can synthetically increase our amount of training data by left-right mirroring training images during the learning process.\n",
        "\n",
        "After you implement mirroring, you should notice that your training error doesn't drop as quickly. That's actually a good thing, because it means the network isn't overfitting to the 2,400 original training images as much (because it sees 4,800 training images now, although they're not as good as 4,800 truly independent samples). Because the training and test errors fall more slowly, you may need more training epochs or you may try modifying the learning rate. You are **required** to implement mirroring as data augmentation for this part.\n",
        "\n",
        "You can try more elaborate forms of jittering -- zooming in a random amount, rotating a random amount, taking a random crop, etc. These are not required, you might want to try these in the bonus part.\n",
        "\n",
        "**Data Normalization**: The images aren't **zero-centered**. One simple trick which can help a lot is to subtract the mean from every image. It would arguably be more proper to only compute the mean from the training images (since the test/validation images should be strictly held out) but it won't make much of a difference. This part is **required**.\n",
        "\n",
        "**Network Regularization**: Add **dropout layer**. If you train your network (especially for more than the default 30 epochs) you'll see that the training error can decrease to zero while the val top1 error hovers at 40% to 50%. The network has learned weights which can perfectly recognize the training data, but those weights don't generalize to held out test data. The best regularization would be more training data but we don't have that. Instead we will use dropout regularization.\n",
        "\n",
        "What does dropout regularization do? It randomly turns off network connections at training time to fight overfitting. This prevents a unit in one layer from relying too strongly on a single unit in the previous layer. Dropout regularization can be interpreted as simultaneously training many \"thinned\" versions of your network. At test, all connections are restored which is analogous to taking an average prediction over all of the \"thinned\" networks. You can see a more complete discussion of dropout regularization in this [paper](https://www.cs.toronto.edu/~hinton/absps/JMLRdropout.pdf).\n",
        "\n",
        "The dropout layer has only one free parameter — the dropout rate — the proportion of connections that are randomly deleted. The default of 0.5 should be fine. Insert a dropout layer between your convolutional layers. In particular, insert it directly before your last convolutional layer (and try others if that helps). Your train accuracy should decrease much more slowly. That's to be expected — you're making life much harder for the training algorithm by cutting out connections randomly. In this part, you are **required** to add dropout layer to your network.\n",
        "\n",
        "**Please give detailed descriptions of your network layout in the following format:**<br>\n",
        "Data augmentation: [descriptions]<br>\n",
        "Data normalization: [descriptions]<br>\n",
        "Layer 1: [layer_type]: [Parameters]<br>\n",
        "Layer 2: [layer_type]: [Parameters]<br>\n",
        "...<br>\n",
        "**Then report the final accuracy on test set.**\n",
        "\n",
        "The minimum accuracy required for this section is **0.55**."
      ]
    },
    {
      "cell_type": "code",
      "execution_count": 38,
      "id": "4b906bbf",
      "metadata": {
        "id": "4b906bbf",
        "colab": {
          "base_uri": "https://localhost:8080/"
        },
        "outputId": "86112cf7-1f96-4ccf-c69f-eb490ba172df"
      },
      "outputs": [
        {
          "output_type": "stream",
          "name": "stdout",
          "text": [
            "Loading images from class: 0\n"
          ]
        },
        {
          "output_type": "stream",
          "name": "stderr",
          "text": [
            "/usr/local/lib/python3.7/dist-packages/ipykernel_launcher.py:46: DeprecationWarning: `np.float` is a deprecated alias for the builtin `float`. To silence this warning, use `float` by itself. Doing this will not modify any behavior and is safe. If you specifically wanted the numpy scalar type, use `np.float64` here.\n",
            "Deprecated in NumPy 1.20; for more details and guidance: https://numpy.org/devdocs/release/1.20.0-notes.html#deprecations\n"
          ]
        },
        {
          "output_type": "stream",
          "name": "stdout",
          "text": [
            "Loading images from class: 1\n",
            "Loading images from class: 2\n",
            "Loading images from class: 3\n",
            "Loading images from class: 4\n",
            "Loading images from class: 5\n",
            "Loading images from class: 6\n",
            "Loading images from class: 7\n",
            "Loading images from class: 8\n",
            "Loading images from class: 9\n",
            "Loading images from class: 10\n",
            "Loading images from class: 11\n",
            "Loading images from class: 12\n",
            "Loading images from class: 13\n",
            "Loading images from class: 14\n",
            "Loading images from class: 15\n",
            "(64, 64)\n",
            "Finish loading 75 minibatches (batch_size=64) of training samples.\n",
            "Loading images from class: 0\n",
            "Loading images from class: 1\n",
            "Loading images from class: 2\n",
            "Loading images from class: 3\n",
            "Loading images from class: 4\n",
            "Loading images from class: 5\n",
            "Loading images from class: 6\n",
            "Loading images from class: 7\n",
            "Loading images from class: 8\n",
            "Loading images from class: 9\n",
            "Loading images from class: 10\n",
            "Loading images from class: 11\n",
            "Loading images from class: 12\n",
            "Loading images from class: 13\n",
            "Loading images from class: 14\n",
            "Loading images from class: 15\n",
            "(64, 64)\n",
            "Finish loading 12 minibatches (batch_size=64) of testing samples.\n"
          ]
        }
      ],
      "source": [
        "# load data into size (64, 64)\n",
        "img_size = (64, 64)\n",
        "batch_size = 64 # training sample number per batch\n",
        "\n",
        "# load training dataset\n",
        "trainloader_small = list(load_dataset('./data/train/', img_size, batch_size=batch_size, shuffle=True, augment=True, zero_centered=True))\n",
        "train_num = len(trainloader_small)\n",
        "print(\"Finish loading %d minibatches (batch_size=%d) of training samples.\" % (train_num, batch_size))\n",
        "\n",
        "# load testing dataset\n",
        "testloader_small = list(load_dataset('./data/test/', img_size, num_per_class=50, batch_size=batch_size, zero_centered=True))\n",
        "test_num = len(testloader_small)\n",
        "print(\"Finish loading %d minibatches (batch_size=%d) of testing samples.\" % (test_num, batch_size))"
      ]
    },
    {
      "cell_type": "code",
      "execution_count": 52,
      "id": "c2550ad0",
      "metadata": {
        "id": "c2550ad0"
      },
      "outputs": [],
      "source": [
        "#--------------------------------------------------\n",
        "#       Define Network Architecture\n",
        "#--------------------------------------------------\n",
        "class MyClassifier(nn.Module):\n",
        "  def __init__(self,dropout):\n",
        "    super(MyClassifier,self).__init__()\n",
        "\n",
        "    #Layer 1\n",
        "    self.convolution1 = nn.Conv2d(1, 32, kernel_size=3, stride=1, padding=1)\n",
        "    self.relu1 = nn.ReLU()\n",
        "    \n",
        "    #Layer 2\n",
        "    self.convolution2 = nn.Conv2d(32, 64, kernel_size=3, stride=1, padding=1)\n",
        "    self.relu2 = nn.ReLU()\n",
        "    self.pool1 = torch.nn.MaxPool2d(kernel_size=2, stride=2, padding=0)\n",
        "    \n",
        "    #Layer 3\n",
        "    self.convolution3 = nn.Conv2d(64, 16, kernel_size=3, stride=1, padding=1)\n",
        "    self.relu3 = nn.ReLU()\n",
        "    self.pool2 = torch.nn.MaxPool2d(kernel_size=2, stride=2, padding=0)\n",
        "    self.droupout = nn.Dropout(dropout)\n",
        "\n",
        "\n",
        "    self.fully_connected_layer1 = nn.Linear(16 * 16 * 16, 64)\n",
        "    self.fully_connected_layer2 = nn.Linear(64, 32)\n",
        "    self.fully_connected_layer3 = nn.Linear(32, 16)\n",
        "    self.fully_connected_layer4 = nn.Linear(32, 16)\n",
        "\n",
        "  def forward(self, x):\n",
        "\n",
        "    y = self.convolution1(x)\n",
        "    y = self.relu1(y)\n",
        "\n",
        "    y = self.convolution2(y)\n",
        "    y = self.relu2(y)\n",
        "    y = self.pool1(y)\n",
        "\n",
        "    y = self.convolution3(y)\n",
        "    y = self.relu3(y)\n",
        "    y = self.pool2(y)\n",
        "    y = self.droupout(y)\n",
        "\n",
        "    y = y.view(y.size(0), -1)\n",
        "    \n",
        "    y = self.fully_connected_layer1(y)\n",
        "    y = self.fully_connected_layer2(y)\n",
        "    y = self.fully_connected_layer3(y)\n",
        "    return y "
      ]
    },
    {
      "cell_type": "code",
      "execution_count": null,
      "id": "73d13a2e",
      "metadata": {
        "id": "73d13a2e",
        "colab": {
          "base_uri": "https://localhost:8080/"
        },
        "outputId": "c158ac57-73aa-4f3a-cde9-a2941422e0fa"
      },
      "outputs": [
        {
          "output_type": "stream",
          "name": "stdout",
          "text": [
            "Epoch: 1 | Iter:    0 | Time: 00:00:00 | Train Loss: 2.7720 | Average Loss: 2.7720 \n",
            "Epoch: 1 | Iter:   20 | Time: 00:00:00 | Train Loss: 2.6300 | Average Loss: 2.7068 \n",
            "Epoch: 1 | Iter:   40 | Time: 00:00:01 | Train Loss: 2.4590 | Average Loss: 2.6072 \n",
            "Epoch: 1 | Iter:   60 | Time: 00:00:01 | Train Loss: 2.3138 | Average Loss: 2.5243 \n",
            "Accuracy: 0.337240 | Time: 00:00:00\n",
            "Epoch: 2 | Iter:    0 | Time: 00:00:01 | Train Loss: 2.1022 | Average Loss: 2.4753 \n",
            "Epoch: 2 | Iter:   20 | Time: 00:00:02 | Train Loss: 2.0738 | Average Loss: 2.3917 \n",
            "Epoch: 2 | Iter:   40 | Time: 00:00:02 | Train Loss: 1.8904 | Average Loss: 2.3217 \n",
            "Epoch: 2 | Iter:   60 | Time: 00:00:03 | Train Loss: 1.7694 | Average Loss: 2.2592 \n",
            "Accuracy: 0.401042 | Time: 00:00:00\n",
            "Epoch: 3 | Iter:    0 | Time: 00:00:03 | Train Loss: 1.7615 | Average Loss: 2.2237 \n",
            "Epoch: 3 | Iter:   20 | Time: 00:00:03 | Train Loss: 1.8061 | Average Loss: 2.1595 \n",
            "Epoch: 3 | Iter:   40 | Time: 00:00:04 | Train Loss: 1.7815 | Average Loss: 2.1037 \n",
            "Epoch: 3 | Iter:   60 | Time: 00:00:04 | Train Loss: 1.4570 | Average Loss: 2.0479 \n",
            "Accuracy: 0.427083 | Time: 00:00:00\n",
            "Epoch: 4 | Iter:    0 | Time: 00:00:05 | Train Loss: 1.5813 | Average Loss: 2.0127 \n",
            "Epoch: 4 | Iter:   20 | Time: 00:00:05 | Train Loss: 1.3984 | Average Loss: 1.9613 \n",
            "Epoch: 4 | Iter:   40 | Time: 00:00:06 | Train Loss: 1.4148 | Average Loss: 1.9132 \n",
            "Epoch: 4 | Iter:   60 | Time: 00:00:06 | Train Loss: 1.3528 | Average Loss: 1.8634 \n",
            "Accuracy: 0.572917 | Time: 00:00:00\n",
            "Epoch: 5 | Iter:    0 | Time: 00:00:06 | Train Loss: 1.3007 | Average Loss: 1.8296 \n",
            "Epoch: 5 | Iter:   20 | Time: 00:00:07 | Train Loss: 1.1927 | Average Loss: 1.7849 \n",
            "Epoch: 5 | Iter:   40 | Time: 00:00:07 | Train Loss: 1.1199 | Average Loss: 1.7438 \n",
            "Epoch: 5 | Iter:   60 | Time: 00:00:08 | Train Loss: 1.2269 | Average Loss: 1.7043 \n",
            "Accuracy: 0.587240 | Time: 00:00:00\n",
            "Epoch: 6 | Iter:    0 | Time: 00:00:08 | Train Loss: 1.0461 | Average Loss: 1.6758 \n",
            "Epoch: 6 | Iter:   20 | Time: 00:00:09 | Train Loss: 1.1802 | Average Loss: 1.6412 \n",
            "Epoch: 6 | Iter:   40 | Time: 00:00:09 | Train Loss: 1.1349 | Average Loss: 1.6097 \n",
            "Epoch: 6 | Iter:   60 | Time: 00:00:10 | Train Loss: 1.0371 | Average Loss: 1.5785 \n",
            "Accuracy: 0.593750 | Time: 00:00:00\n",
            "Epoch: 7 | Iter:    0 | Time: 00:00:10 | Train Loss: 0.9287 | Average Loss: 1.5574 \n",
            "Epoch: 7 | Iter:   20 | Time: 00:00:10 | Train Loss: 0.8107 | Average Loss: 1.5290 \n",
            "Epoch: 7 | Iter:   40 | Time: 00:00:11 | Train Loss: 0.9347 | Average Loss: 1.5017 \n",
            "Epoch: 7 | Iter:   60 | Time: 00:00:11 | Train Loss: 1.0586 | Average Loss: 1.4775 \n",
            "Accuracy: 0.630208 | Time: 00:00:00\n",
            "Epoch: 8 | Iter:    0 | Time: 00:00:12 | Train Loss: 0.9499 | Average Loss: 1.4609 \n",
            "Epoch: 8 | Iter:   20 | Time: 00:00:12 | Train Loss: 0.8241 | Average Loss: 1.4370 \n",
            "Epoch: 8 | Iter:   40 | Time: 00:00:13 | Train Loss: 0.6384 | Average Loss: 1.4152 \n",
            "Epoch: 8 | Iter:   60 | Time: 00:00:13 | Train Loss: 0.7216 | Average Loss: 1.3938 \n",
            "Accuracy: 0.601562 | Time: 00:00:00\n",
            "Epoch: 9 | Iter:    0 | Time: 00:00:13 | Train Loss: 0.8827 | Average Loss: 1.3790 \n",
            "Epoch: 9 | Iter:   20 | Time: 00:00:14 | Train Loss: 0.7901 | Average Loss: 1.3599 \n",
            "Epoch: 9 | Iter:   40 | Time: 00:00:14 | Train Loss: 0.7450 | Average Loss: 1.3410 \n",
            "Epoch: 9 | Iter:   60 | Time: 00:00:15 | Train Loss: 0.8711 | Average Loss: 1.3230 \n",
            "Accuracy: 0.627604 | Time: 00:00:00\n",
            "Epoch:10 | Iter:    0 | Time: 00:00:15 | Train Loss: 0.7445 | Average Loss: 1.3108 \n",
            "Epoch:10 | Iter:   20 | Time: 00:00:16 | Train Loss: 0.7222 | Average Loss: 1.2939 \n",
            "Epoch:10 | Iter:   40 | Time: 00:00:16 | Train Loss: 0.7258 | Average Loss: 1.2778 \n",
            "Epoch:10 | Iter:   60 | Time: 00:00:16 | Train Loss: 1.0500 | Average Loss: 1.2629 \n",
            "Accuracy: 0.596354 | Time: 00:00:00\n",
            "Epoch:11 | Iter:    0 | Time: 00:00:17 | Train Loss: 0.9065 | Average Loss: 1.2513 \n"
          ]
        }
      ],
      "source": [
        "\n",
        "#--------------------------------------------------\n",
        "#       Start Training & Evaluation\n",
        "#--------------------------------------------------\n",
        "net = MyClassifier(0.5) \n",
        "train_option = {}\n",
        "train_option['lr'] = 0.002\n",
        "train_option['epoch'] = 20\n",
        "train_option['device'] = 'gpu'\n",
        "trainModel(net, trainloader_small, train_option, testloader_small)"
      ]
    },
    {
      "cell_type": "markdown",
      "id": "3608bff9",
      "metadata": {
        "id": "3608bff9"
      },
      "source": [
        "**Answer**:\n",
        "\n",
        "(1) which layers of AlexNet have been replaced - 3 convolutional layers and 4 fully connected layers are used in the above model.\n",
        "\n",
        "(2) the architecture of the new layers added including activation methods (same as problem 1)\n",
        "\n",
        "Data augmentation: \n",
        "\n",
        "Data normalization: \n",
        "\n",
        "Features Layers : \n",
        "\n",
        "Classifier Layer 1: \n",
        "\n",
        "Classifier Layer 2: \n",
        "\n",
        "Classifier Layer 3: \n",
        "\n",
        "...\n",
        "\n",
        "(3) the final accuracy on test set\n",
        "\n",
        "Accuracy on test set: \n",
        "\n"
      ]
    },
    {
      "cell_type": "markdown",
      "id": "af911377",
      "metadata": {
        "id": "af911377"
      },
      "source": [
        "## Problem 1.2\n",
        "\n",
        "(30 points) Try **three different techniques** taught in the class to increase the accuracy of your model. Such as increasing training data by randomly rotating training images, adding batch normalization, different activation functions (e.g., sigmoid) and model architecture modification. Note that too many layers can do you no good due to insufficient training data. Clearly describe your method and accuracy increase/decrease for each of the three techniques.\n",
        "\n",
        "The minimum accuracy required for this section is **0.60**. (At least one Technique should achieve this)\n",
        "\n",
        "### Technique 1"
      ]
    },
    {
      "cell_type": "code",
      "execution_count": null,
      "id": "c1509b92",
      "metadata": {
        "id": "c1509b92"
      },
      "outputs": [],
      "source": [
        "#--------------------------------------------------\n",
        "#    Load Training Data and Testing Data\n",
        "#--------------------------------------------------\n"
      ]
    },
    {
      "cell_type": "code",
      "execution_count": null,
      "id": "844b5709",
      "metadata": {
        "id": "844b5709"
      },
      "outputs": [],
      "source": [
        "#--------------------------------------------------\n",
        "#       Define Network Architecture\n",
        "#--------------------------------------------------\n",
        "class MyClassifierTanh(nn.Module):\n",
        "\n",
        "    def __init__(self, num_classes, d_out):\n",
        "      super(MyClassifierTanh, self).__init__()\n",
        "        \n",
        "      # Layer 1\n",
        "      self.convo_1 = nn.Conv2d(1, 32, kernel_size=3, stride=1, padding=1)\n",
        "      self.activn_func_tanh_1 = nn.Tanh()\n",
        "\n",
        "      #Layer 2\n",
        "      self.convo_2 = nn.Conv2d(32, 64, kernel_size=3, stride=1, padding=1)\n",
        "      self.activn_func_tanh_2 = nn.Tanh()\n",
        "      self.pooling1 = torch.nn.MaxPool2d(kernel_size=2, stride=2, padding=0)\n",
        "      self.d_out = nn.Dropout(d_out)\n",
        "\n",
        "      #Layer 3\n",
        "      self.convo_3 = nn.Conv2d(64, 16, kernel_size=3, stride=1, padding=1)\n",
        "      self.activn_func_tanh_3 = nn.Tanh()\n",
        "      self.pooling2 = torch.nn.MaxPool2d(kernel_size=2, stride=2, padding=0)\n",
        "\n",
        "      # Fully Connected Layers\n",
        "      self.fully_connected_layer1 = nn.Linear(16 * 16 * 16, 64)\n",
        "      self.fully_connected_layer2 = nn.Linear(64, 32)\n",
        "      self.fully_connected_layer3 = nn.Linear(32, 16)\n",
        "\n",
        "    def forward(self, x):\n",
        "      y = self.convo_1(x)\n",
        "      y = self.activn_func_tanh_1(y)\n",
        "      y = self.convo_2(y)\n",
        "      y = self.activn_func_tanh_2(y)\n",
        "      y = self.pooling1(y)\n",
        "      y = self.d_out(y)\n",
        "      y = self.convo_3(y)\n",
        "      y = self.activn_func_tanh_3(y)\n",
        "      y = self.pooling2(y)\n",
        "      y = y.view(y.size(0), -1)\n",
        "\n",
        "      y = self.fully_connected_layer1(y)\n",
        "      y = self.fully_connected_layer2(y)\n",
        "      y = self.fully_connected_layer3(y)\n",
        "      return y\n",
        "   "
      ]
    },
    {
      "cell_type": "code",
      "execution_count": null,
      "id": "3c30ef71",
      "metadata": {
        "id": "3c30ef71",
        "colab": {
          "base_uri": "https://localhost:8080/"
        },
        "outputId": "9118d9f8-1695-4c26-9dc4-7b4cbc9ebd8b"
      },
      "outputs": [
        {
          "output_type": "stream",
          "name": "stdout",
          "text": [
            "MyClassifierTanh(\n",
            "  (convo_1): Conv2d(1, 32, kernel_size=(3, 3), stride=(1, 1), padding=(1, 1))\n",
            "  (activn_func_tanh_1): Tanh()\n",
            "  (convo_2): Conv2d(32, 64, kernel_size=(3, 3), stride=(1, 1), padding=(1, 1))\n",
            "  (activn_func_tanh_2): Tanh()\n",
            "  (pooling1): MaxPool2d(kernel_size=2, stride=2, padding=0, dilation=1, ceil_mode=False)\n",
            "  (d_out): Dropout(p=0.5, inplace=False)\n",
            "  (convo_3): Conv2d(64, 16, kernel_size=(3, 3), stride=(1, 1), padding=(1, 1))\n",
            "  (activn_func_tanh_3): Tanh()\n",
            "  (pooling2): MaxPool2d(kernel_size=2, stride=2, padding=0, dilation=1, ceil_mode=False)\n",
            "  (fully_connected_layer1): Linear(in_features=4096, out_features=64, bias=True)\n",
            "  (fully_connected_layer2): Linear(in_features=64, out_features=32, bias=True)\n",
            "  (fully_connected_layer3): Linear(in_features=32, out_features=16, bias=True)\n",
            ")\n",
            "75\n",
            "Epoch [1/20], Step [75/75], Loss: 2.0944, Accuracy: 39.06%\n",
            "Train time elapsed in seconds:  1.7014379501342773\n",
            "Epoch [2/20], Step [75/75], Loss: 1.7144, Accuracy: 43.75%\n",
            "Train time elapsed in seconds:  3.297415256500244\n",
            "Epoch [3/20], Step [75/75], Loss: 1.3174, Accuracy: 54.69%\n",
            "Train time elapsed in seconds:  4.893451452255249\n",
            "Epoch [4/20], Step [75/75], Loss: 0.9054, Accuracy: 65.62%\n",
            "Train time elapsed in seconds:  6.498022556304932\n",
            "Epoch [5/20], Step [75/75], Loss: 0.7107, Accuracy: 73.44%\n",
            "Train time elapsed in seconds:  8.102436304092407\n",
            "Epoch [6/20], Step [75/75], Loss: 0.4448, Accuracy: 85.94%\n",
            "Train time elapsed in seconds:  9.70958137512207\n",
            "Epoch [7/20], Step [75/75], Loss: 0.4934, Accuracy: 82.81%\n",
            "Train time elapsed in seconds:  11.319437026977539\n",
            "Epoch [8/20], Step [75/75], Loss: 0.3905, Accuracy: 87.50%\n",
            "Train time elapsed in seconds:  12.932016372680664\n",
            "Epoch [9/20], Step [75/75], Loss: 0.3076, Accuracy: 90.62%\n",
            "Train time elapsed in seconds:  14.543585300445557\n",
            "Epoch [10/20], Step [75/75], Loss: 0.0736, Accuracy: 100.00%\n",
            "Train time elapsed in seconds:  16.16279125213623\n",
            "Epoch [11/20], Step [75/75], Loss: 0.0400, Accuracy: 98.44%\n",
            "Train time elapsed in seconds:  17.781692504882812\n",
            "Epoch [12/20], Step [75/75], Loss: 0.0814, Accuracy: 96.88%\n",
            "Train time elapsed in seconds:  19.404083728790283\n",
            "Epoch [13/20], Step [75/75], Loss: 0.0670, Accuracy: 96.88%\n",
            "Train time elapsed in seconds:  21.02953028678894\n",
            "Epoch [14/20], Step [75/75], Loss: 0.0163, Accuracy: 100.00%\n",
            "Train time elapsed in seconds:  22.652708530426025\n",
            "Epoch [15/20], Step [75/75], Loss: 0.0189, Accuracy: 100.00%\n",
            "Train time elapsed in seconds:  24.279993772506714\n",
            "Epoch [16/20], Step [75/75], Loss: 0.0274, Accuracy: 100.00%\n",
            "Train time elapsed in seconds:  25.90805411338806\n",
            "Epoch [17/20], Step [75/75], Loss: 0.0166, Accuracy: 100.00%\n",
            "Train time elapsed in seconds:  27.536708116531372\n",
            "Epoch [18/20], Step [75/75], Loss: 0.0103, Accuracy: 100.00%\n",
            "Train time elapsed in seconds:  29.167651414871216\n",
            "Epoch [19/20], Step [75/75], Loss: 0.0095, Accuracy: 100.00%\n",
            "Train time elapsed in seconds:  30.79819893836975\n",
            "Epoch [20/20], Step [75/75], Loss: 0.0106, Accuracy: 100.00%\n",
            "Train time elapsed in seconds:  32.577906370162964\n",
            "Test Accuracy of the model on test images: 59.505208333333336 %\n",
            "Test time elapsed in seconds:  0.06779217720031738\n"
          ]
        }
      ],
      "source": [
        "#--------------------------------------------------\n",
        "#       Start Training & Evaluation\n",
        "#--------------------------------------------------\n",
        "sigm_model = MyClassifierTanh(num_classes, d_out)\n",
        "train(num_epochs, learning_rate, sigm_model, trainloader_small)\n",
        "test(sigm_model, testloader_small)"
      ]
    },
    {
      "cell_type": "markdown",
      "id": "33bf05db",
      "metadata": {
        "id": "33bf05db"
      },
      "source": [
        "**Answer**:\n",
        "\n",
        "Technique 1: Used Tanh activation function in CNN\n",
        "\n",
        "Accuracy on test set: 59.5%\n",
        "\n",
        "Accuracy increases/decreases: "
      ]
    },
    {
      "cell_type": "markdown",
      "id": "1b6ba2c7",
      "metadata": {
        "id": "1b6ba2c7"
      },
      "source": [
        "### Technique 2\n"
      ]
    },
    {
      "cell_type": "code",
      "execution_count": null,
      "id": "bc3d85fa",
      "metadata": {
        "id": "bc3d85fa"
      },
      "outputs": [],
      "source": [
        "#--------------------------------------------------\n",
        "#    Load Training Data and Testing Data\n",
        "#--------------------------------------------------\n"
      ]
    },
    {
      "cell_type": "code",
      "execution_count": null,
      "id": "19fe4e42",
      "metadata": {
        "id": "19fe4e42"
      },
      "outputs": [],
      "source": [
        "#--------------------------------------------------\n",
        "#       Define Network Architecture\n",
        "#--------------------------------------------------\n"
      ]
    },
    {
      "cell_type": "code",
      "execution_count": null,
      "id": "5e60723f",
      "metadata": {
        "id": "5e60723f"
      },
      "outputs": [],
      "source": [
        "#--------------------------------------------------\n",
        "#       Start Training & Evaluation\n",
        "#--------------------------------------------------\n"
      ]
    },
    {
      "cell_type": "markdown",
      "id": "cf9db93f",
      "metadata": {
        "id": "cf9db93f"
      },
      "source": [
        "**Answer**:\n",
        "\n",
        "Technique 2: \n",
        "\n",
        "Accuracy on test set: \n",
        "\n",
        "Accuracy increases/decreases:"
      ]
    },
    {
      "cell_type": "markdown",
      "id": "3400e482",
      "metadata": {
        "id": "3400e482"
      },
      "source": [
        "### Technique 3"
      ]
    },
    {
      "cell_type": "code",
      "execution_count": null,
      "id": "57f104cc",
      "metadata": {
        "id": "57f104cc"
      },
      "outputs": [],
      "source": [
        "#--------------------------------------------------\n",
        "#    Load Training Data and Testing Data\n",
        "#--------------------------------------------------\n"
      ]
    },
    {
      "cell_type": "code",
      "execution_count": null,
      "id": "4f46c1eb",
      "metadata": {
        "id": "4f46c1eb"
      },
      "outputs": [],
      "source": [
        "#--------------------------------------------------\n",
        "#       Define Network Architecture\n",
        "#--------------------------------------------------\n"
      ]
    },
    {
      "cell_type": "code",
      "execution_count": null,
      "id": "61535319",
      "metadata": {
        "id": "61535319"
      },
      "outputs": [],
      "source": [
        "#--------------------------------------------------\n",
        "#       Start Training & Evaluation\n",
        "#--------------------------------------------------\n"
      ]
    },
    {
      "cell_type": "markdown",
      "id": "d3b54f78",
      "metadata": {
        "id": "d3b54f78"
      },
      "source": [
        "**Answer**:\n",
        "\n",
        "Technique 3: \n",
        "\n",
        "Accuracy on test set: \n",
        "\n",
        "Accuracy increases/decreases:"
      ]
    },
    {
      "cell_type": "markdown",
      "id": "090600db",
      "metadata": {
        "id": "090600db"
      },
      "source": [
        "## Submission guidelines\n",
        "---\n",
        "Extract the downloaded .zip file to a folder of your preference. The input and output paths are predefined and **DO NOT** change them, (we assume that 'Surname_Givenname_assignment2_part2' is your working directory, and all the paths are relative to this directory).  The image read and write functions are already written for you. All you need to do is to fill in the blanks as indicated to generate proper outputs. **DO NOT** zip and upload the dataset on canvas due to size limit.\n",
        "\n",
        "When submitting your .zip file through blackboard, please\n",
        "-- name your .zip file as **Surname_Givenname_assignment2_part1.zip**.\n",
        "\n",
        "This zip file should include:\n",
        "```\n",
        "Surname_Givenname_UNCCID_assignment2_part2  \n",
        "        |---Surname_Givenname_UNCCID_assignment2_part2.ipynb\n",
        "        |---Surname_Givenname_UNCCID_assignment2_part2.pdf\n",
        "```\n",
        "\n",
        "For instance, student Yann Lecun should submit a zip file named \"Lecun_Yann_111134567_assignment2_part1.zip\" for assignment2_part1 in this structure:\n",
        "```\n",
        "Lecun_Yann_111134567_assignment2_part2\n",
        "        |---Lecun_Yann_111134567_assignment2_part2.ipynb\n",
        "        |---Lecun_Yann_111134567_assignment2_part2.pdf\n",
        "```\n",
        "\n",
        "Then right click this folder, click ***Get shareable link***, in the People textfield, enter TA's emails: ***psingire@uncc.edu*** and ***kchiguru@uncc.edu***. Make sure that TAs who have the link **can edit**, ***not just*** **can view**, and also **uncheck** the **Notify people** box.\n",
        "\n",
        "Note that in google colab, we will only grade the version of the code right before the timestamp of the submission made in canvas. \n",
        "\n",
        "Extract the downloaded .zip file to a folder of your preference. The input and output paths are predefined and **DO NOT** change them, (we assume that 'Surname_Givenname_UNCCID_assignment1' is your working directory, and all the paths are relative to this directory).  The image read and write functions are already written for you. All you need to do is to fill in the blanks as indicated to generate proper outputs.\n",
        "\n",
        "\n",
        "-- DO NOT change the folder structure, please just fill in the blanks. <br>\n",
        "\n",
        "You are encouraged to post and answer questions on Canvas. Please ask questions on Canvas and send emails only for personal issues.\n",
        "\n",
        "If you alter the folder structures, the grading of your homework will be significantly delayed and possibly penalized.\n",
        "\n",
        "Be aware that your code will undergo plagiarism check both vertically and horizontally. Please do your own work.\n",
        "\n",
        "Late submission penalty: <br>\n",
        "There will be a 10% penalty per day for late submission. However, you will have THREE days throughout the whole semester to submit late without penalty. Note that the grace period is calculated by days instead of hours. If you submit the homework one minute after the deadline, one late day will be counted. Likewise, if you submit one minute after the deadline, the 10% penaly will be imposed if not using the grace period.\n"
      ]
    }
  ],
  "metadata": {
    "kernelspec": {
      "display_name": "Python 3",
      "language": "python",
      "name": "python3"
    },
    "language_info": {
      "codemirror_mode": {
        "name": "ipython",
        "version": 3
      },
      "file_extension": ".py",
      "mimetype": "text/x-python",
      "name": "python",
      "nbconvert_exporter": "python",
      "pygments_lexer": "ipython3",
      "version": "3.8.8"
    },
    "colab": {
      "provenance": [],
      "collapsed_sections": [],
      "include_colab_link": true
    },
    "accelerator": "GPU",
    "gpuClass": "standard"
  },
  "nbformat": 4,
  "nbformat_minor": 5
}