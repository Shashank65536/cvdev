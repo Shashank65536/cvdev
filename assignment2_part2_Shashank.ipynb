{
  "cells": [
    {
      "cell_type": "markdown",
      "metadata": {
        "id": "view-in-github",
        "colab_type": "text"
      },
      "source": [
        "<a href=\"https://colab.research.google.com/github/Shashank65536/cvdev/blob/main/assignment2_part2_Shashank.ipynb\" target=\"_parent\"><img src=\"https://colab.research.google.com/assets/colab-badge.svg\" alt=\"Open In Colab\"/></a>"
      ]
    },
    {
      "cell_type": "markdown",
      "id": "367ea638",
      "metadata": {
        "id": "367ea638"
      },
      "source": [
        "# ITCS 4152/5152 Assignment2-Part2\n",
        "**Due date: 11:59 pm EST on Oct 31, 2022 (Mon.)**\n",
        "\n",
        "---\n",
        "In this semester, we will use Google Colab for the assignments, which allows us to utilize resources that some of us might not have in their local machines such as GPUs. You will need to use your UNC Charlotte (*.uncc.edu) account for coding and Google Drive to save your results.\n",
        "\n",
        "## Google Colab Tutorial\n",
        "---\n",
        "Go to https://colab.research.google.com/notebooks/, you will see a tutorial named \"Welcome to Colaboratory\" file, where you can learn the basics of using google colab.\n",
        "\n",
        "Settings used for assignments: ***Edit -> Notebook Settings -> Runtime Type (Python 3)***.\n",
        "\n",
        "\n",
        "## Description\n",
        "---\n",
        "This project is an introduction to deep learning tools for computer vision. You will design and train deep convolutional networks for scene recognition using [PyTorch](http://pytorch.org). You can visualize the\n",
        "structure of the network with [mNeuron] (http://vision03.csail.mit.edu/cnn_art/index.html)\n",
        "\n",
        "In Problem 1 of the project you will train a deep convolutional network from scratch to recognize scenes. The starter codes gives you methods to load data and display them. You will need to define a simple network architecture and add jittering, normalization, and regularization to increase recognition accuracy to 50, 60, or perhaps 70%. Unfortunately, we only have 2,400 training examples so it doesn't seem possible to train a network from scratch which outperforms hand-crafted features\n",
        "\n",
        "\n",
        "This is an approach that represent the most common approaches to recognition problems in computer vision today -- train a deep network from scratch if you have enough data (it's not always obvious whether or not you do).\n",
        "\n",
        "There are 2 sub problems (under Problem 1) in this homework with a total of 60 points. Be sure to read **Submission Guidelines** below. They are important. For the problems requiring text descriptions, you might want to add a markdown block for that.\n",
        "\n",
        "## Dataset\n",
        "---\n",
        "Save the [dataset(click me)](https://drive.google.com/open?id=1NWC3TMsXSWN2TeoYMCjhf2N1b-WRDh-M) into your working folder in your Google Drive for this homework. <br>\n",
        "Under your root folder, there should be a folder named \"data\" (i.e. XXX/Surname_Givenname_SBUID/data) containing the images.\n",
        "**Do not upload** the data subfolder before submitting on blackboard due to size limit. There should be only one .ipynb file under your root folder Surname_Givenname_SBUID.\n",
        "\n",
        "## Some Tutorials (PyTorch)\n",
        "---\n",
        "- You will be using PyTorch for deep learning toolbox (follow the [link](http://pytorch.org) for installation).\n",
        "- For PyTorch beginners, please read this [tutorial](http://pytorch.org/tutorials/beginner/deep_learning_60min_blitz.html) before doing your homework.\n",
        "- Feel free to study more tutorials at http://pytorch.org/tutorials/.\n",
        "- Find cool visualization here at http://playground.tensorflow.org."
      ]
    },
    {
      "cell_type": "code",
      "execution_count": 1,
      "id": "163b6de2",
      "metadata": {
        "id": "163b6de2"
      },
      "outputs": [],
      "source": [
        "# import packages here\n",
        "import cv2\n",
        "import numpy as np\n",
        "import matplotlib.pyplot as plt\n",
        "import glob\n",
        "import random \n",
        "import time\n",
        "\n",
        "import torch\n",
        "import torchvision\n",
        "import torchvision.transforms as transforms\n",
        "\n",
        "from torch.autograd import Variable\n",
        "import torch.nn as nn\n",
        "import torch.nn.functional as F"
      ]
    },
    {
      "cell_type": "code",
      "execution_count": 2,
      "id": "502f4fec",
      "metadata": {
        "id": "502f4fec",
        "colab": {
          "base_uri": "https://localhost:8080/"
        },
        "outputId": "84ca2bbd-1358-4710-e7ab-28263f8d0190"
      },
      "outputs": [
        {
          "output_type": "stream",
          "name": "stdout",
          "text": [
            "Mounted at /content/gdrive\n"
          ]
        }
      ],
      "source": [
        "# Mount your google drive where you've saved your assignment folder\n",
        "from google.colab import drive\n",
        "drive.mount('/content/gdrive')"
      ]
    },
    {
      "cell_type": "code",
      "execution_count": 3,
      "id": "b41de13c",
      "metadata": {
        "id": "b41de13c"
      },
      "outputs": [],
      "source": [
        "# Replace '------' with the path such that \"ITCS_4152_5152_assignment2\" is your working directory\n",
        "import os\n",
        "os.chdir('/content/gdrive/My Drive/cv/')\n",
        "#cd '/content/gdrive/My Drive/------'"
      ]
    },
    {
      "cell_type": "markdown",
      "id": "437b789c",
      "metadata": {
        "id": "437b789c"
      },
      "source": [
        "## Problem 0: Loading and Preprocessing data\n",
        "---\n",
        "(0 point) In this part, you are provided with a function that loads data into minibatches for training and testing in PyTorch. However, some preprocessing parts are missing. Your will need to implement them when doing Problem 1."
      ]
    },
    {
      "cell_type": "code",
      "execution_count": 4,
      "id": "1988d6ee",
      "metadata": {
        "id": "1988d6ee",
        "colab": {
          "base_uri": "https://localhost:8080/"
        },
        "outputId": "2e690306-1ded-46e1-b39c-c4538cc93ed7"
      },
      "outputs": [
        {
          "output_type": "stream",
          "name": "stdout",
          "text": [
            "class_names: {0: 'TallBuilding', 1: 'Office', 2: 'Suburb', 3: 'OpenCountry', 4: 'Street', 5: 'Store', 6: 'Mountain', 7: 'Highway', 8: 'Industrial', 9: 'Kitchen', 10: 'InsideCity', 11: 'Forest', 12: 'LivingRoom', 13: 'Flower', 14: 'Bedroom', 15: 'Coast'} \n"
          ]
        }
      ],
      "source": [
        "#--------------------------------------------------\n",
        "#    Load Training Data and Testing Data\n",
        "#--------------------------------------------------\n",
        "\n",
        "def set_random_seed(seed):\n",
        "     torch.manual_seed(seed)\n",
        "     torch.cuda.manual_seed_all(seed)\n",
        "     np.random.seed(seed)\n",
        "     random.seed(seed)\n",
        "     torch.backends.cudnn.deterministic = True\n",
        "set_random_seed(0)\n",
        "\n",
        "class_names = [name[13:] for name in glob.glob('./data/train/*')]\n",
        "class_names = dict(zip(range(len(class_names)), class_names))\n",
        "print(\"class_names: %s \" % class_names)\n",
        "\n",
        "def load_dataset(path, img_size, num_per_class=-1, batch_size=16, shuffle=False,\n",
        "           augment=True, is_color=False,rotate = 0, zero_centered=False):    \n",
        "    data = []\n",
        "    labels = []    \n",
        "    channel_num = 3 if is_color else 1\n",
        "    aug_data1 = []\n",
        "    flip_img_arr = []\n",
        "    flip_labels_arr = []\n",
        "        \n",
        "    # read images and resizing\n",
        "    for id, class_name in class_names.items():\n",
        "        print(\"Loading images from class: %s\" % id)\n",
        "        img_path_class = glob.glob(path + class_name + '/*.jpg')\n",
        "        if num_per_class > 0:\n",
        "            img_path_class = img_path_class[:num_per_class]\n",
        "        labels.extend([id]*len(img_path_class))\n",
        "        for filename in img_path_class:\n",
        "            if is_color:\n",
        "                img = cv2.imread(filename)\n",
        "            else:\n",
        "                img = cv2.imread(filename, 0)\n",
        "            \n",
        "            # resize the image\n",
        "            img = cv2.resize(img, img_size, cv2.INTER_LINEAR)\n",
        "            \n",
        "            if is_color:\n",
        "                img = np.transpose(img, [2, 0, 1])\n",
        "            \n",
        "            # norm pixel values to [-1, 1]\n",
        "            data.append(img.astype(np.float)/255*2-1)\n",
        "            \n",
        "\n",
        "    ##########--WRITE YOUR CODE HERE--##########\n",
        "    # Data Augmentation \n",
        "    if augment: \n",
        "      #aug_data = [np.flip(img, 1) for img in data]\n",
        "      #print(aug_data)\n",
        "      for img in data:\n",
        "        each_img_flipped = np.flip(img,1)\n",
        "        aug_data1.append(each_img_flipped)\n",
        "      #print(aug_data == aug_data1)\n",
        "      data.extend(aug_data1)\n",
        "      labels.extend(labels)\n",
        "      \n",
        "      if rotate != 0:\n",
        "        for index, img in enumerate(data):\n",
        "          rotational_angle = np.random.uniform(rotate) - rotate / 2\n",
        "          no_of_rows, no_of_cols,channels = img.shape\n",
        "\n",
        "          matrix_after_rotation = cv2.getRotationMatrix2D((no_of_cols/2,no_of_rows/2), rotational_angle, 1)\n",
        "          rotated_img = cv2.warpAffine(img,matrix_after_rotation,(no_of_cols,no_of_rows))\n",
        "\n",
        "          flip_img_arr.append(rotated_img)\n",
        "          flip_labels_arr.append(labels[index])\n",
        "\n",
        "          ##appending the rotated images\n",
        "          data.extend(flip_img_arr)\n",
        "          labels.extend(flip_labels_arr)\n",
        "    ##########-------END OF CODE-------##########    \n",
        "    \n",
        "    ##########--WRITE YOUR CODE HERE--##########\n",
        "    # Data Normalization\n",
        "    if zero_centered:\n",
        "      mean = np.mean(data, axis=0)\n",
        "      print(mean.shape)\n",
        "      for index, img in enumerate(data):\n",
        "        data[index] = img - mean\n",
        "        \n",
        "    ##########-------END OF CODE-------##########\n",
        "         \n",
        "    # randomly permute (this step is important for training)\n",
        "    if shuffle:\n",
        "        bundle = list(zip(data, labels))\n",
        "        random.shuffle(bundle)\n",
        "        data, labels = zip(*bundle)\n",
        "    \n",
        "    # divide data into minibatches of TorchTensors\n",
        "    if batch_size > 1:\n",
        "        batch_data = []\n",
        "        batch_labels = []\n",
        "         \n",
        "        for i in range(int(len(data) / batch_size)):\n",
        "            minibatch_d = data[i*batch_size: (i+1)*batch_size]\n",
        "            minibatch_d = np.reshape(minibatch_d, (batch_size, channel_num, img_size[0], img_size[1]))\n",
        "            batch_data.append(torch.from_numpy(minibatch_d))\n",
        "\n",
        "            minibatch_l = labels[i*batch_size: (i+1)*batch_size]\n",
        "            batch_labels.append(torch.LongTensor(minibatch_l))\n",
        "        data, labels = batch_data, batch_labels \n",
        "    \n",
        "    return zip(batch_data, batch_labels)"
      ]
    },
    {
      "cell_type": "code",
      "execution_count": 5,
      "id": "9483a7cd",
      "metadata": {
        "id": "9483a7cd",
        "colab": {
          "base_uri": "https://localhost:8080/"
        },
        "outputId": "5149a8cc-33e2-49ca-eb00-0a2d93fceb2f"
      },
      "outputs": [
        {
          "output_type": "stream",
          "name": "stdout",
          "text": [
            "Loading images from class: 0\n"
          ]
        },
        {
          "output_type": "stream",
          "name": "stderr",
          "text": [
            "/usr/local/lib/python3.7/dist-packages/ipykernel_launcher.py:46: DeprecationWarning: `np.float` is a deprecated alias for the builtin `float`. To silence this warning, use `float` by itself. Doing this will not modify any behavior and is safe. If you specifically wanted the numpy scalar type, use `np.float64` here.\n",
            "Deprecated in NumPy 1.20; for more details and guidance: https://numpy.org/devdocs/release/1.20.0-notes.html#deprecations\n"
          ]
        },
        {
          "output_type": "stream",
          "name": "stdout",
          "text": [
            "Loading images from class: 1\n",
            "Loading images from class: 2\n",
            "Loading images from class: 3\n",
            "Loading images from class: 4\n",
            "Loading images from class: 5\n",
            "Loading images from class: 6\n",
            "Loading images from class: 7\n",
            "Loading images from class: 8\n",
            "Loading images from class: 9\n",
            "Loading images from class: 10\n",
            "Loading images from class: 11\n",
            "Loading images from class: 12\n",
            "Loading images from class: 13\n",
            "Loading images from class: 14\n",
            "Loading images from class: 15\n",
            "Finish loading 75 minibatches (batch_size=64) of training samples.\n",
            "Loading images from class: 0\n",
            "Loading images from class: 1\n",
            "Loading images from class: 2\n",
            "Loading images from class: 3\n",
            "Loading images from class: 4\n",
            "Loading images from class: 5\n",
            "Loading images from class: 6\n",
            "Loading images from class: 7\n",
            "Loading images from class: 8\n",
            "Loading images from class: 9\n",
            "Loading images from class: 10\n",
            "Loading images from class: 11\n",
            "Loading images from class: 12\n",
            "Loading images from class: 13\n",
            "Loading images from class: 14\n",
            "Loading images from class: 15\n",
            "Finish loading 12 minibatches (batch_size=64) of testing samples.\n"
          ]
        }
      ],
      "source": [
        "# load data into size (64, 64)\n",
        "img_size = (64, 64)\n",
        "batch_size = 64 # training sample number per batch\n",
        "\n",
        "# load training dataset\n",
        "trainloader_small = list(load_dataset('./data/train/', img_size, batch_size=batch_size, shuffle=True))\n",
        "train_num = len(trainloader_small)\n",
        "print(\"Finish loading %d minibatches (batch_size=%d) of training samples.\" % (train_num, batch_size))\n",
        "\n",
        "# load testing dataset\n",
        "testloader_small = list(load_dataset('./data/test/', img_size, num_per_class=50, batch_size=batch_size))\n",
        "test_num = len(testloader_small)\n",
        "print(\"Finish loading %d minibatches (batch_size=%d) of testing samples.\" % (test_num, batch_size))"
      ]
    },
    {
      "cell_type": "code",
      "execution_count": 6,
      "id": "6add360c",
      "metadata": {
        "id": "6add360c",
        "colab": {
          "base_uri": "https://localhost:8080/",
          "height": 286
        },
        "outputId": "ec416841-c15a-4f49-dd96-7e26aafb9b2e"
      },
      "outputs": [
        {
          "output_type": "stream",
          "name": "stdout",
          "text": [
            "Mountain\n"
          ]
        },
        {
          "output_type": "display_data",
          "data": {
            "text/plain": [
              "<Figure size 432x288 with 1 Axes>"
            ],
            "image/png": "[encoded data removed]"
          },
          "metadata": {
            "needs_background": "light"
          }
        }
      ],
      "source": [
        "# show some images\n",
        "def imshow(img):\n",
        "    img = img / 2 + 0.5     # unnormalize\n",
        "    npimg = img.numpy()\n",
        "    if len(npimg.shape) > 2:\n",
        "        npimg = np.transpose(img, [1, 2, 0])\n",
        "    plt.figure\n",
        "    plt.imshow(npimg, 'gray')\n",
        "    plt.show()\n",
        "img, label = trainloader_small[0][0][11][0], trainloader_small[0][1][11]\n",
        "label = int(np.array(label))\n",
        "print(class_names[label])\n",
        "imshow(img)"
      ]
    },
    {
      "cell_type": "markdown",
      "id": "d906be39",
      "metadata": {
        "id": "d906be39"
      },
      "source": [
        "## Problem 1: Training a Network From Scratch\n",
        "Gone are the days of hand designed features. Now we have end-to-end learning in which a highly non-linear representation is learned for our data to maximize our objective function (in this case, 16-way classification accuracy). Let's start!"
      ]
    },
    {
      "cell_type": "markdown",
      "id": "d3d758ff",
      "metadata": {
        "id": "d3d758ff"
      },
      "source": [
        "First, let's define a simpe network architecture."
      ]
    },
    {
      "cell_type": "code",
      "execution_count": 7,
      "id": "67208818",
      "metadata": {
        "id": "67208818"
      },
      "outputs": [],
      "source": [
        "#--------------------------------------------------\n",
        "#       Define Network Architecture\n",
        "#--------------------------------------------------\n",
        "class TNet(nn.Module):\n",
        "    def __init__(self):\n",
        "      super(TNet,self).__init__()  \n",
        "           \n",
        "      self.features = torch.nn.Sequential(\n",
        "        nn.Conv2d(1, 16, 3),\n",
        "        nn.ReLU(),\n",
        "        nn.MaxPool2d(4, stride=4), \n",
        "      )\n",
        "      \n",
        "      self.classifier = nn.Sequential(\n",
        "         nn.Linear(3600, 16), \n",
        "      )\n",
        "      \n",
        "    def forward(self, x):\n",
        "      x = self.features(x)  \n",
        "      x = torch.flatten(x, 1)\n",
        "      x = self.classifier(x)\n",
        "      return x  "
      ]
    },
    {
      "cell_type": "markdown",
      "id": "249c193d",
      "metadata": {
        "id": "249c193d"
      },
      "source": [
        "Then, let's define model training and evaluation functions."
      ]
    },
    {
      "cell_type": "code",
      "execution_count": 23,
      "id": "e1ba6e02",
      "metadata": {
        "id": "e1ba6e02"
      },
      "outputs": [],
      "source": [
        "#--------------------------------------------------\n",
        "#       Model Training Function\n",
        "#--------------------------------------------------\n",
        "import torch.optim as optim\n",
        "import time\n",
        "  \n",
        "def trainModel(net, trainloader, train_option, testloader=None):  \n",
        "  loss_func = nn.CrossEntropyLoss()\n",
        "  lr = train_option['lr']\n",
        "  epoch = train_option['epoch']\n",
        "  device = train_option['device'] if 'device' in train_option.keys() else 'cpu'\n",
        "  log_iter = train_option['log_iter'] if 'log_iter' in train_option.keys() else 20\n",
        "  eval_epoch = 1\n",
        "  \n",
        "  if 'optimizer' in train_option.keys():\n",
        "    optimizer = train_option['optimizer']\n",
        "  else:\n",
        "    optimizer = optim.Adam(net.parameters(), lr=lr)\n",
        "\n",
        "  start_time = time.time()\n",
        "  if device == 'gpu':\n",
        "    net = net.cuda()\n",
        "    \n",
        "  iters = 0\n",
        "  running_loss = 0.0\n",
        "  for ep in range(epoch):\n",
        "    net.train()        \n",
        "    for iter, (x, y) in enumerate(trainloader):\n",
        "      iters += 1\n",
        "      batch_x = Variable(x).float()\n",
        "      batch_y = Variable(y).long()\n",
        "      if device == 'gpu':\n",
        "        batch_x = batch_x.cuda()\n",
        "        batch_y = batch_y.cuda()\n",
        "\n",
        "      outputs = net(batch_x)\n",
        "      loss = loss_func(outputs, batch_y)\n",
        "      optimizer.zero_grad()\n",
        "      loss.backward()\n",
        "      optimizer.step()\n",
        "      running_loss += loss.item()\n",
        "      \n",
        "      time_lapse = time.strftime('%H:%M:%S', time.gmtime(time.time() - start_time))\n",
        "      if iter % log_iter == 0:\n",
        "        print('Epoch:{:2d} | Iter:{:5d} | Time: {} | Train Loss: {:.4f} | Average Loss: {:.4f} '.format(ep+1, iter, time_lapse, loss.item(), running_loss/iters))\n",
        "   \n",
        "    if testloader is not None and ep % eval_epoch == 0:\n",
        "      evalModel(net, testloader)\n"
      ]
    },
    {
      "cell_type": "code",
      "execution_count": 9,
      "id": "cecead0a",
      "metadata": {
        "id": "cecead0a"
      },
      "outputs": [],
      "source": [
        "#--------------------------------------------------\n",
        "#       Model Evaluating Function\n",
        "#--------------------------------------------------\n",
        "import time\n",
        "  \n",
        "def evalModel(net, testloader): \n",
        "  acc = 0.0\n",
        "  count = 0\n",
        "  start_time = time.time()\n",
        "  device = 'gpu' if next(net.parameters()).is_cuda else 'cpu'\n",
        "  net.eval()\n",
        "  \n",
        "  for iter, (x, y) in enumerate(testloader):\n",
        "        count += x.shape[0]\n",
        "        batch_x = Variable(x).float()\n",
        "        batch_y = Variable(y).long()\n",
        "        if device == 'gpu':\n",
        "          batch_x = batch_x.cuda()\n",
        "          batch_y = batch_y.cuda()\n",
        "        outputs = net(batch_x)\n",
        "        acc += torch.sum(outputs.max(1)[1]==batch_y)\n",
        "        \n",
        "  time_lapse = time.strftime('%H:%M:%S', time.gmtime(time.time() - start_time))        \n",
        "  print('Accuracy: {:5f} | Time: {}'.format(acc/count,time_lapse))\n",
        "  "
      ]
    },
    {
      "cell_type": "markdown",
      "id": "3735abd3",
      "metadata": {
        "id": "3735abd3"
      },
      "source": [
        "**Finally**, let's start training and evaluation."
      ]
    },
    {
      "cell_type": "code",
      "execution_count": 25,
      "id": "2086fbf1",
      "metadata": {
        "id": "2086fbf1",
        "colab": {
          "base_uri": "https://localhost:8080/"
        },
        "outputId": "b1e5dfd3-0153-436f-bc26-9a95c280b040"
      },
      "outputs": [
        {
          "output_type": "stream",
          "name": "stdout",
          "text": [
            "Epoch: 1 | Iter:    0 | Time: 00:00:00 | Train Loss: 2.7517 | Average Loss: 2.7517 \n",
            "Epoch: 1 | Iter:   20 | Time: 00:00:00 | Train Loss: 2.1371 | Average Loss: 2.6733 \n",
            "Epoch: 1 | Iter:   40 | Time: 00:00:00 | Train Loss: 2.0768 | Average Loss: 2.4537 \n",
            "Epoch: 1 | Iter:   60 | Time: 00:00:00 | Train Loss: 2.0686 | Average Loss: 2.3292 \n",
            "Accuracy: 0.375000 | Time: 00:00:00\n",
            "Epoch: 2 | Iter:    0 | Time: 00:00:00 | Train Loss: 1.4035 | Average Loss: 2.2353 \n",
            "Epoch: 2 | Iter:   20 | Time: 00:00:00 | Train Loss: 1.4544 | Average Loss: 2.1255 \n",
            "Epoch: 2 | Iter:   40 | Time: 00:00:00 | Train Loss: 1.4937 | Average Loss: 2.0346 \n",
            "Epoch: 2 | Iter:   60 | Time: 00:00:00 | Train Loss: 1.6127 | Average Loss: 1.9742 \n",
            "Accuracy: 0.419271 | Time: 00:00:00\n",
            "Epoch: 3 | Iter:    0 | Time: 00:00:00 | Train Loss: 1.2008 | Average Loss: 1.9214 \n",
            "Epoch: 3 | Iter:   20 | Time: 00:00:00 | Train Loss: 1.1735 | Average Loss: 1.8583 \n",
            "Epoch: 3 | Iter:   40 | Time: 00:00:00 | Train Loss: 1.1994 | Average Loss: 1.7970 \n",
            "Epoch: 3 | Iter:   60 | Time: 00:00:00 | Train Loss: 1.2619 | Average Loss: 1.7519 \n",
            "Accuracy: 0.449219 | Time: 00:00:00\n",
            "Epoch: 4 | Iter:    0 | Time: 00:00:00 | Train Loss: 1.0979 | Average Loss: 1.7142 \n",
            "Epoch: 4 | Iter:   20 | Time: 00:00:00 | Train Loss: 0.9754 | Average Loss: 1.6686 \n",
            "Epoch: 4 | Iter:   40 | Time: 00:00:00 | Train Loss: 1.0006 | Average Loss: 1.6225 \n",
            "Epoch: 4 | Iter:   60 | Time: 00:00:00 | Train Loss: 0.9952 | Average Loss: 1.5855 \n",
            "Accuracy: 0.467448 | Time: 00:00:00\n",
            "Epoch: 5 | Iter:    0 | Time: 00:00:01 | Train Loss: 1.0088 | Average Loss: 1.5559 \n",
            "Epoch: 5 | Iter:   20 | Time: 00:00:01 | Train Loss: 0.8113 | Average Loss: 1.5200 \n",
            "Epoch: 5 | Iter:   40 | Time: 00:00:01 | Train Loss: 0.8580 | Average Loss: 1.4834 \n",
            "Epoch: 5 | Iter:   60 | Time: 00:00:01 | Train Loss: 0.8044 | Average Loss: 1.4523 \n",
            "Accuracy: 0.470052 | Time: 00:00:00\n",
            "Epoch: 6 | Iter:    0 | Time: 00:00:01 | Train Loss: 0.8991 | Average Loss: 1.4279 \n",
            "Epoch: 6 | Iter:   20 | Time: 00:00:01 | Train Loss: 0.6860 | Average Loss: 1.3983 \n",
            "Epoch: 6 | Iter:   40 | Time: 00:00:01 | Train Loss: 0.7460 | Average Loss: 1.3680 \n",
            "Epoch: 6 | Iter:   60 | Time: 00:00:01 | Train Loss: 0.6624 | Average Loss: 1.3414 \n",
            "Accuracy: 0.486979 | Time: 00:00:00\n",
            "Epoch: 7 | Iter:    0 | Time: 00:00:01 | Train Loss: 0.7708 | Average Loss: 1.3208 \n",
            "Epoch: 7 | Iter:   20 | Time: 00:00:01 | Train Loss: 0.5956 | Average Loss: 1.2958 \n",
            "Epoch: 7 | Iter:   40 | Time: 00:00:01 | Train Loss: 0.6356 | Average Loss: 1.2702 \n",
            "Epoch: 7 | Iter:   60 | Time: 00:00:01 | Train Loss: 0.5436 | Average Loss: 1.2472 \n",
            "Accuracy: 0.501302 | Time: 00:00:00\n",
            "Epoch: 8 | Iter:    0 | Time: 00:00:01 | Train Loss: 0.6627 | Average Loss: 1.2296 \n",
            "Epoch: 8 | Iter:   20 | Time: 00:00:01 | Train Loss: 0.5360 | Average Loss: 1.2085 \n",
            "Epoch: 8 | Iter:   40 | Time: 00:00:01 | Train Loss: 0.5467 | Average Loss: 1.1869 \n",
            "Epoch: 8 | Iter:   60 | Time: 00:00:01 | Train Loss: 0.4405 | Average Loss: 1.1670 \n",
            "Accuracy: 0.507812 | Time: 00:00:00\n",
            "Epoch: 9 | Iter:    0 | Time: 00:00:01 | Train Loss: 0.6126 | Average Loss: 1.1521 \n",
            "Epoch: 9 | Iter:   20 | Time: 00:00:02 | Train Loss: 0.4975 | Average Loss: 1.1344 \n",
            "Epoch: 9 | Iter:   40 | Time: 00:00:02 | Train Loss: 0.5276 | Average Loss: 1.1169 \n",
            "Epoch: 9 | Iter:   60 | Time: 00:00:02 | Train Loss: 0.3637 | Average Loss: 1.0998 \n",
            "Accuracy: 0.502604 | Time: 00:00:00\n",
            "Epoch:10 | Iter:    0 | Time: 00:00:02 | Train Loss: 0.5954 | Average Loss: 1.0873 \n",
            "Epoch:10 | Iter:   20 | Time: 00:00:02 | Train Loss: 0.4827 | Average Loss: 1.0727 \n",
            "Epoch:10 | Iter:   40 | Time: 00:00:02 | Train Loss: 0.6490 | Average Loss: 1.0592 \n",
            "Epoch:10 | Iter:   60 | Time: 00:00:02 | Train Loss: 0.3631 | Average Loss: 1.0453 \n",
            "Accuracy: 0.502604 | Time: 00:00:00\n",
            "Epoch:11 | Iter:    0 | Time: 00:00:02 | Train Loss: 0.6093 | Average Loss: 1.0351 \n",
            "Epoch:11 | Iter:   20 | Time: 00:00:02 | Train Loss: 0.6725 | Average Loss: 1.0234 \n",
            "Epoch:11 | Iter:   40 | Time: 00:00:02 | Train Loss: 0.7089 | Average Loss: 1.0127 \n",
            "Epoch:11 | Iter:   60 | Time: 00:00:02 | Train Loss: 0.5617 | Average Loss: 1.0025 \n",
            "Accuracy: 0.498698 | Time: 00:00:00\n",
            "Epoch:12 | Iter:    0 | Time: 00:00:02 | Train Loss: 0.5675 | Average Loss: 0.9940 \n",
            "Epoch:12 | Iter:   20 | Time: 00:00:02 | Train Loss: 0.7896 | Average Loss: 0.9845 \n",
            "Epoch:12 | Iter:   40 | Time: 00:00:02 | Train Loss: 0.5149 | Average Loss: 0.9743 \n",
            "Epoch:12 | Iter:   60 | Time: 00:00:02 | Train Loss: 0.5140 | Average Loss: 0.9639 \n",
            "Accuracy: 0.540365 | Time: 00:00:00\n",
            "Epoch:13 | Iter:    0 | Time: 00:00:02 | Train Loss: 0.3639 | Average Loss: 0.9560 \n",
            "Epoch:13 | Iter:   20 | Time: 00:00:02 | Train Loss: 0.4548 | Average Loss: 0.9448 \n",
            "Epoch:13 | Iter:   40 | Time: 00:00:03 | Train Loss: 0.3144 | Average Loss: 0.9337 \n",
            "Epoch:13 | Iter:   60 | Time: 00:00:03 | Train Loss: 0.3485 | Average Loss: 0.9232 \n",
            "Accuracy: 0.552083 | Time: 00:00:00\n",
            "Epoch:14 | Iter:    0 | Time: 00:00:03 | Train Loss: 0.3181 | Average Loss: 0.9149 \n",
            "Epoch:14 | Iter:   20 | Time: 00:00:03 | Train Loss: 0.4099 | Average Loss: 0.9037 \n",
            "Epoch:14 | Iter:   40 | Time: 00:00:03 | Train Loss: 0.3170 | Average Loss: 0.8926 \n",
            "Epoch:14 | Iter:   60 | Time: 00:00:03 | Train Loss: 0.2733 | Average Loss: 0.8824 \n",
            "Accuracy: 0.561198 | Time: 00:00:00\n",
            "Epoch:15 | Iter:    0 | Time: 00:00:03 | Train Loss: 0.2930 | Average Loss: 0.8745 \n",
            "Epoch:15 | Iter:   20 | Time: 00:00:03 | Train Loss: 0.3521 | Average Loss: 0.8639 \n",
            "Epoch:15 | Iter:   40 | Time: 00:00:03 | Train Loss: 0.2995 | Average Loss: 0.8535 \n",
            "Epoch:15 | Iter:   60 | Time: 00:00:03 | Train Loss: 0.2771 | Average Loss: 0.8438 \n",
            "Accuracy: 0.558594 | Time: 00:00:00\n",
            "Epoch:16 | Iter:    0 | Time: 00:00:03 | Train Loss: 0.2403 | Average Loss: 0.8364 \n",
            "Epoch:16 | Iter:   20 | Time: 00:00:03 | Train Loss: 0.2805 | Average Loss: 0.8265 \n",
            "Epoch:16 | Iter:   40 | Time: 00:00:03 | Train Loss: 0.2567 | Average Loss: 0.8167 \n",
            "Epoch:16 | Iter:   60 | Time: 00:00:03 | Train Loss: 0.2678 | Average Loss: 0.8075 \n",
            "Accuracy: 0.553385 | Time: 00:00:00\n",
            "Epoch:17 | Iter:    0 | Time: 00:00:03 | Train Loss: 0.2115 | Average Loss: 0.8007 \n",
            "Epoch:17 | Iter:   20 | Time: 00:00:03 | Train Loss: 0.2240 | Average Loss: 0.7915 \n",
            "Epoch:17 | Iter:   40 | Time: 00:00:03 | Train Loss: 0.2143 | Average Loss: 0.7824 \n",
            "Epoch:17 | Iter:   60 | Time: 00:00:03 | Train Loss: 0.2307 | Average Loss: 0.7737 \n",
            "Accuracy: 0.539062 | Time: 00:00:00\n",
            "Epoch:18 | Iter:    0 | Time: 00:00:04 | Train Loss: 0.1899 | Average Loss: 0.7674 \n",
            "Epoch:18 | Iter:   20 | Time: 00:00:04 | Train Loss: 0.1830 | Average Loss: 0.7589 \n",
            "Epoch:18 | Iter:   40 | Time: 00:00:04 | Train Loss: 0.1903 | Average Loss: 0.7504 \n",
            "Epoch:18 | Iter:   60 | Time: 00:00:04 | Train Loss: 0.2170 | Average Loss: 0.7424 \n",
            "Accuracy: 0.537760 | Time: 00:00:00\n",
            "Epoch:19 | Iter:    0 | Time: 00:00:04 | Train Loss: 0.1738 | Average Loss: 0.7366 \n",
            "Epoch:19 | Iter:   20 | Time: 00:00:04 | Train Loss: 0.1520 | Average Loss: 0.7286 \n",
            "Epoch:19 | Iter:   40 | Time: 00:00:04 | Train Loss: 0.1723 | Average Loss: 0.7207 \n",
            "Epoch:19 | Iter:   60 | Time: 00:00:04 | Train Loss: 0.2093 | Average Loss: 0.7133 \n",
            "Accuracy: 0.522135 | Time: 00:00:00\n",
            "Epoch:20 | Iter:    0 | Time: 00:00:04 | Train Loss: 0.1671 | Average Loss: 0.7078 \n",
            "Epoch:20 | Iter:   20 | Time: 00:00:04 | Train Loss: 0.1339 | Average Loss: 0.7004 \n",
            "Epoch:20 | Iter:   40 | Time: 00:00:04 | Train Loss: 0.1614 | Average Loss: 0.6931 \n",
            "Epoch:20 | Iter:   60 | Time: 00:00:04 | Train Loss: 0.1837 | Average Loss: 0.6862 \n",
            "Accuracy: 0.524740 | Time: 00:00:00\n"
          ]
        }
      ],
      "source": [
        "#--------------------------------------------------\n",
        "#       Start Training & Evaluation\n",
        "#--------------------------------------------------\n",
        "net = TNet() \n",
        "train_option = {}\n",
        "train_option['lr'] = 0.002\n",
        "train_option['epoch'] = 20\n",
        "train_option['device'] = 'gpu'\n",
        "trainModel(net, trainloader_small, train_option, testloader_small)"
      ]
    },
    {
      "cell_type": "markdown",
      "id": "74f5cd7b",
      "metadata": {
        "id": "74f5cd7b"
      },
      "source": [
        "Great! You would get around 0.45-0.50 accuracy by this very simple network. Now it's your job to beat this result.\n",
        "\n",
        "### Problem 1.1\n",
        "(30 points) Try to boost the accuracy by doing the following steps:\n",
        "\n",
        "**Data Augmentation**: We don't have enough training data, let's augment the training data.\n",
        "If you **left-right flip (mirror) an image** of a scene, it never changes categories. A kitchen doesn't become a forest when mirrored. This isn't true in all domains — a \"d\" becomes a \"b\" when mirrored, so you can't \"jitter\" digit recognition training data in the same way. But we can synthetically increase our amount of training data by left-right mirroring training images during the learning process.\n",
        "\n",
        "After you implement mirroring, you should notice that your training error doesn't drop as quickly. That's actually a good thing, because it means the network isn't overfitting to the 2,400 original training images as much (because it sees 4,800 training images now, although they're not as good as 4,800 truly independent samples). Because the training and test errors fall more slowly, you may need more training epochs or you may try modifying the learning rate. You are **required** to implement mirroring as data augmentation for this part.\n",
        "\n",
        "You can try more elaborate forms of jittering -- zooming in a random amount, rotating a random amount, taking a random crop, etc. These are not required, you might want to try these in the bonus part.\n",
        "\n",
        "**Data Normalization**: The images aren't **zero-centered**. One simple trick which can help a lot is to subtract the mean from every image. It would arguably be more proper to only compute the mean from the training images (since the test/validation images should be strictly held out) but it won't make much of a difference. This part is **required**.\n",
        "\n",
        "**Network Regularization**: Add **dropout layer**. If you train your network (especially for more than the default 30 epochs) you'll see that the training error can decrease to zero while the val top1 error hovers at 40% to 50%. The network has learned weights which can perfectly recognize the training data, but those weights don't generalize to held out test data. The best regularization would be more training data but we don't have that. Instead we will use dropout regularization.\n",
        "\n",
        "What does dropout regularization do? It randomly turns off network connections at training time to fight overfitting. This prevents a unit in one layer from relying too strongly on a single unit in the previous layer. Dropout regularization can be interpreted as simultaneously training many \"thinned\" versions of your network. At test, all connections are restored which is analogous to taking an average prediction over all of the \"thinned\" networks. You can see a more complete discussion of dropout regularization in this [paper](https://www.cs.toronto.edu/~hinton/absps/JMLRdropout.pdf).\n",
        "\n",
        "The dropout layer has only one free parameter — the dropout rate — the proportion of connections that are randomly deleted. The default of 0.5 should be fine. Insert a dropout layer between your convolutional layers. In particular, insert it directly before your last convolutional layer (and try others if that helps). Your train accuracy should decrease much more slowly. That's to be expected — you're making life much harder for the training algorithm by cutting out connections randomly. In this part, you are **required** to add dropout layer to your network.\n",
        "\n",
        "**Please give detailed descriptions of your network layout in the following format:**<br>\n",
        "Data augmentation: [descriptions]<br>\n",
        "Data normalization: [descriptions]<br>\n",
        "Layer 1: [layer_type]: [Parameters]<br>\n",
        "Layer 2: [layer_type]: [Parameters]<br>\n",
        "...<br>\n",
        "**Then report the final accuracy on test set.**\n",
        "\n",
        "The minimum accuracy required for this section is **0.55**."
      ]
    },
    {
      "cell_type": "code",
      "execution_count": 17,
      "id": "4b906bbf",
      "metadata": {
        "id": "4b906bbf",
        "colab": {
          "base_uri": "https://localhost:8080/"
        },
        "outputId": "1f97b21d-4e4b-4d33-a292-0384d0af4d7a"
      },
      "outputs": [
        {
          "output_type": "stream",
          "name": "stdout",
          "text": [
            "Loading images from class: 0\n"
          ]
        },
        {
          "output_type": "stream",
          "name": "stderr",
          "text": [
            "/usr/local/lib/python3.7/dist-packages/ipykernel_launcher.py:46: DeprecationWarning: `np.float` is a deprecated alias for the builtin `float`. To silence this warning, use `float` by itself. Doing this will not modify any behavior and is safe. If you specifically wanted the numpy scalar type, use `np.float64` here.\n",
            "Deprecated in NumPy 1.20; for more details and guidance: https://numpy.org/devdocs/release/1.20.0-notes.html#deprecations\n"
          ]
        },
        {
          "output_type": "stream",
          "name": "stdout",
          "text": [
            "Loading images from class: 1\n",
            "Loading images from class: 2\n",
            "Loading images from class: 3\n",
            "Loading images from class: 4\n",
            "Loading images from class: 5\n",
            "Loading images from class: 6\n",
            "Loading images from class: 7\n",
            "Loading images from class: 8\n",
            "Loading images from class: 9\n",
            "Loading images from class: 10\n",
            "Loading images from class: 11\n",
            "Loading images from class: 12\n",
            "Loading images from class: 13\n",
            "Loading images from class: 14\n",
            "Loading images from class: 15\n",
            "(64, 64)\n",
            "Finish loading 75 minibatches (batch_size=64) of training samples.\n",
            "Loading images from class: 0\n",
            "Loading images from class: 1\n",
            "Loading images from class: 2\n",
            "Loading images from class: 3\n",
            "Loading images from class: 4\n",
            "Loading images from class: 5\n",
            "Loading images from class: 6\n",
            "Loading images from class: 7\n",
            "Loading images from class: 8\n",
            "Loading images from class: 9\n",
            "Loading images from class: 10\n",
            "Loading images from class: 11\n",
            "Loading images from class: 12\n",
            "Loading images from class: 13\n",
            "Loading images from class: 14\n",
            "Loading images from class: 15\n",
            "(64, 64)\n",
            "Finish loading 12 minibatches (batch_size=64) of testing samples.\n"
          ]
        }
      ],
      "source": [
        "# load data into size (64, 64)\n",
        "img_size = (64, 64)\n",
        "batch_size = 64 # training sample number per batch\n",
        "\n",
        "# load training dataset\n",
        "trainloader_small = list(load_dataset('./data/train/', img_size, batch_size=batch_size, shuffle=True, augment=True, zero_centered=True))\n",
        "train_num = len(trainloader_small)\n",
        "print(\"Finish loading %d minibatches (batch_size=%d) of training samples.\" % (train_num, batch_size))\n",
        "\n",
        "# load testing dataset\n",
        "testloader_small = list(load_dataset('./data/test/', img_size, num_per_class=50, batch_size=batch_size, zero_centered=True))\n",
        "test_num = len(testloader_small)\n",
        "print(\"Finish loading %d minibatches (batch_size=%d) of testing samples.\" % (test_num, batch_size))"
      ]
    },
    {
      "cell_type": "code",
      "execution_count": 26,
      "id": "c2550ad0",
      "metadata": {
        "id": "c2550ad0"
      },
      "outputs": [],
      "source": [
        "#--------------------------------------------------\n",
        "#       Define Network Architecture\n",
        "#--------------------------------------------------\n",
        "class MyClassifier(nn.Module):\n",
        "  def __init__(self,dropout):\n",
        "    super(MyClassifier,self).__init__()\n",
        "\n",
        "    #Layer 1\n",
        "    self.convolution1 = nn.Conv2d(1, 32, kernel_size=3, stride=1, padding=1)\n",
        "    self.relu1 = nn.ReLU()\n",
        "    \n",
        "    #Layer 2\n",
        "    self.convolution2 = nn.Conv2d(32, 64, kernel_size=3, stride=1, padding=1)\n",
        "    self.relu2 = nn.ReLU()\n",
        "    self.pool1 = torch.nn.MaxPool2d(kernel_size=2, stride=2, padding=0)\n",
        "    \n",
        "    #Layer 3\n",
        "    self.convolution3 = nn.Conv2d(64, 16, kernel_size=3, stride=1, padding=1)\n",
        "    self.relu3 = nn.ReLU()\n",
        "    self.pool2 = torch.nn.MaxPool2d(kernel_size=2, stride=2, padding=0)\n",
        "    self.droupout = nn.Dropout(dropout)\n",
        "\n",
        "\n",
        "    self.fully_connected_layer1 = nn.Linear(4096, 64)\n",
        "    self.fully_connected_layer2 = nn.Linear(64, 32)\n",
        "    self.fully_connected_layer3 = nn.Linear(32, 16)\n",
        "    # self.fully_connected_layer4 = nn.Linear(32, 16)\n",
        "\n",
        "  def forward(self, x):\n",
        "\n",
        "    y = self.convolution1(x)\n",
        "    y = self.relu1(y)\n",
        "\n",
        "    y = self.convolution2(y)\n",
        "    y = self.relu2(y)\n",
        "    y = self.pool1(y)\n",
        "\n",
        "    y = self.convolution3(y)\n",
        "    y = self.relu3(y)\n",
        "    y = self.pool2(y)\n",
        "    y = self.droupout(y)\n",
        "\n",
        "    y = y.view(y.size(0), -1)\n",
        "    \n",
        "    y = self.fully_connected_layer1(y)\n",
        "    y = self.fully_connected_layer2(y)\n",
        "    y = self.fully_connected_layer3(y)\n",
        "    # y = self.fully_connected_layer4(y)\n",
        "    return y "
      ]
    },
    {
      "cell_type": "code",
      "execution_count": 27,
      "id": "73d13a2e",
      "metadata": {
        "id": "73d13a2e",
        "colab": {
          "base_uri": "https://localhost:8080/"
        },
        "outputId": "140475e2-8d3c-406f-b388-be39d3307c0c"
      },
      "outputs": [
        {
          "output_type": "stream",
          "name": "stdout",
          "text": [
            "Epoch: 1 | Iter:    0 | Time: 00:00:00 | Train Loss: 2.7754 | Average Loss: 2.7754 \n",
            "Epoch: 1 | Iter:   20 | Time: 00:00:00 | Train Loss: 2.4404 | Average Loss: 2.6760 \n",
            "Epoch: 1 | Iter:   40 | Time: 00:00:00 | Train Loss: 2.4169 | Average Loss: 2.5797 \n",
            "Epoch: 1 | Iter:   60 | Time: 00:00:01 | Train Loss: 2.3457 | Average Loss: 2.4909 \n",
            "Accuracy: 0.343750 | Time: 00:00:00\n",
            "Epoch: 2 | Iter:    0 | Time: 00:00:01 | Train Loss: 1.8414 | Average Loss: 2.4071 \n",
            "Epoch: 2 | Iter:   20 | Time: 00:00:02 | Train Loss: 1.7641 | Average Loss: 2.3313 \n",
            "Epoch: 2 | Iter:   40 | Time: 00:00:02 | Train Loss: 1.9973 | Average Loss: 2.2697 \n",
            "Epoch: 2 | Iter:   60 | Time: 00:00:02 | Train Loss: 1.8304 | Average Loss: 2.2138 \n",
            "Accuracy: 0.415365 | Time: 00:00:00\n",
            "Epoch: 3 | Iter:    0 | Time: 00:00:03 | Train Loss: 1.6746 | Average Loss: 2.1591 \n",
            "Epoch: 3 | Iter:   20 | Time: 00:00:03 | Train Loss: 1.5504 | Average Loss: 2.1051 \n",
            "Epoch: 3 | Iter:   40 | Time: 00:00:04 | Train Loss: 1.7112 | Average Loss: 2.0537 \n",
            "Epoch: 3 | Iter:   60 | Time: 00:00:04 | Train Loss: 1.4404 | Average Loss: 2.0072 \n",
            "Accuracy: 0.475260 | Time: 00:00:00\n",
            "Epoch: 4 | Iter:    0 | Time: 00:00:04 | Train Loss: 1.4332 | Average Loss: 1.9661 \n",
            "Epoch: 4 | Iter:   20 | Time: 00:00:05 | Train Loss: 1.3716 | Average Loss: 1.9219 \n",
            "Epoch: 4 | Iter:   40 | Time: 00:00:05 | Train Loss: 1.4019 | Average Loss: 1.8816 \n",
            "Epoch: 4 | Iter:   60 | Time: 00:00:06 | Train Loss: 1.3420 | Average Loss: 1.8472 \n",
            "Accuracy: 0.526042 | Time: 00:00:00\n",
            "Epoch: 5 | Iter:    0 | Time: 00:00:06 | Train Loss: 1.3432 | Average Loss: 1.8175 \n",
            "Epoch: 5 | Iter:   20 | Time: 00:00:06 | Train Loss: 1.1441 | Average Loss: 1.7834 \n",
            "Epoch: 5 | Iter:   40 | Time: 00:00:07 | Train Loss: 1.2245 | Average Loss: 1.7522 \n",
            "Epoch: 5 | Iter:   60 | Time: 00:00:07 | Train Loss: 1.1514 | Average Loss: 1.7233 \n",
            "Accuracy: 0.545573 | Time: 00:00:00\n",
            "Epoch: 6 | Iter:    0 | Time: 00:00:08 | Train Loss: 1.2342 | Average Loss: 1.7001 \n",
            "Epoch: 6 | Iter:   20 | Time: 00:00:08 | Train Loss: 0.9520 | Average Loss: 1.6698 \n",
            "Epoch: 6 | Iter:   40 | Time: 00:00:08 | Train Loss: 1.2268 | Average Loss: 1.6451 \n",
            "Epoch: 6 | Iter:   60 | Time: 00:00:09 | Train Loss: 1.1503 | Average Loss: 1.6213 \n",
            "Accuracy: 0.557292 | Time: 00:00:00\n",
            "Epoch: 7 | Iter:    0 | Time: 00:00:09 | Train Loss: 1.2288 | Average Loss: 1.6024 \n",
            "Epoch: 7 | Iter:   20 | Time: 00:00:10 | Train Loss: 0.9976 | Average Loss: 1.5798 \n",
            "Epoch: 7 | Iter:   40 | Time: 00:00:10 | Train Loss: 1.0431 | Average Loss: 1.5603 \n",
            "Epoch: 7 | Iter:   60 | Time: 00:00:10 | Train Loss: 0.9974 | Average Loss: 1.5406 \n",
            "Accuracy: 0.548177 | Time: 00:00:00\n",
            "Epoch: 8 | Iter:    0 | Time: 00:00:11 | Train Loss: 1.0432 | Average Loss: 1.5260 \n",
            "Epoch: 8 | Iter:   20 | Time: 00:00:11 | Train Loss: 0.8143 | Average Loss: 1.5060 \n",
            "Epoch: 8 | Iter:   40 | Time: 00:00:12 | Train Loss: 1.1048 | Average Loss: 1.4888 \n",
            "Epoch: 8 | Iter:   60 | Time: 00:00:12 | Train Loss: 1.0502 | Average Loss: 1.4735 \n",
            "Accuracy: 0.549479 | Time: 00:00:00\n",
            "Epoch: 9 | Iter:    0 | Time: 00:00:12 | Train Loss: 0.8944 | Average Loss: 1.4586 \n",
            "Epoch: 9 | Iter:   20 | Time: 00:00:13 | Train Loss: 0.8661 | Average Loss: 1.4414 \n",
            "Epoch: 9 | Iter:   40 | Time: 00:00:13 | Train Loss: 0.9260 | Average Loss: 1.4257 \n",
            "Epoch: 9 | Iter:   60 | Time: 00:00:14 | Train Loss: 0.9631 | Average Loss: 1.4101 \n",
            "Accuracy: 0.516927 | Time: 00:00:00\n",
            "Epoch:10 | Iter:    0 | Time: 00:00:14 | Train Loss: 0.9624 | Average Loss: 1.3975 \n",
            "Epoch:10 | Iter:   20 | Time: 00:00:15 | Train Loss: 0.7077 | Average Loss: 1.3817 \n",
            "Epoch:10 | Iter:   40 | Time: 00:00:15 | Train Loss: 0.8713 | Average Loss: 1.3672 \n",
            "Epoch:10 | Iter:   60 | Time: 00:00:15 | Train Loss: 0.8800 | Average Loss: 1.3526 \n",
            "Accuracy: 0.544271 | Time: 00:00:00\n",
            "Epoch:11 | Iter:    0 | Time: 00:00:16 | Train Loss: 1.0899 | Average Loss: 1.3425 \n",
            "Epoch:11 | Iter:   20 | Time: 00:00:16 | Train Loss: 0.7384 | Average Loss: 1.3272 \n",
            "Epoch:11 | Iter:   40 | Time: 00:00:17 | Train Loss: 0.9998 | Average Loss: 1.3145 \n",
            "Epoch:11 | Iter:   60 | Time: 00:00:17 | Train Loss: 0.8131 | Average Loss: 1.3015 \n",
            "Accuracy: 0.563802 | Time: 00:00:00\n",
            "Epoch:12 | Iter:    0 | Time: 00:00:17 | Train Loss: 0.7894 | Average Loss: 1.2911 \n",
            "Epoch:12 | Iter:   20 | Time: 00:00:18 | Train Loss: 0.6867 | Average Loss: 1.2785 \n",
            "Epoch:12 | Iter:   40 | Time: 00:00:18 | Train Loss: 0.7427 | Average Loss: 1.2668 \n",
            "Epoch:12 | Iter:   60 | Time: 00:00:19 | Train Loss: 0.7954 | Average Loss: 1.2548 \n",
            "Accuracy: 0.584635 | Time: 00:00:00\n",
            "Epoch:13 | Iter:    0 | Time: 00:00:19 | Train Loss: 0.7946 | Average Loss: 1.2458 \n",
            "Epoch:13 | Iter:   20 | Time: 00:00:19 | Train Loss: 0.7013 | Average Loss: 1.2330 \n",
            "Epoch:13 | Iter:   40 | Time: 00:00:20 | Train Loss: 0.7129 | Average Loss: 1.2227 \n",
            "Epoch:13 | Iter:   60 | Time: 00:00:20 | Train Loss: 0.8603 | Average Loss: 1.2119 \n",
            "Accuracy: 0.582031 | Time: 00:00:00\n",
            "Epoch:14 | Iter:    0 | Time: 00:00:21 | Train Loss: 0.6561 | Average Loss: 1.2034 \n",
            "Epoch:14 | Iter:   20 | Time: 00:00:21 | Train Loss: 0.4744 | Average Loss: 1.1917 \n",
            "Epoch:14 | Iter:   40 | Time: 00:00:21 | Train Loss: 0.7704 | Average Loss: 1.1812 \n",
            "Epoch:14 | Iter:   60 | Time: 00:00:22 | Train Loss: 0.7509 | Average Loss: 1.1705 \n",
            "Accuracy: 0.597656 | Time: 00:00:00\n",
            "Epoch:15 | Iter:    0 | Time: 00:00:22 | Train Loss: 0.6125 | Average Loss: 1.1626 \n",
            "Epoch:15 | Iter:   20 | Time: 00:00:23 | Train Loss: 0.5309 | Average Loss: 1.1516 \n",
            "Epoch:15 | Iter:   40 | Time: 00:00:23 | Train Loss: 0.6949 | Average Loss: 1.1417 \n",
            "Epoch:15 | Iter:   60 | Time: 00:00:23 | Train Loss: 0.7658 | Average Loss: 1.1327 \n",
            "Accuracy: 0.595052 | Time: 00:00:00\n",
            "Epoch:16 | Iter:    0 | Time: 00:00:24 | Train Loss: 0.7628 | Average Loss: 1.1261 \n",
            "Epoch:16 | Iter:   20 | Time: 00:00:24 | Train Loss: 0.4248 | Average Loss: 1.1166 \n",
            "Epoch:16 | Iter:   40 | Time: 00:00:25 | Train Loss: 0.5045 | Average Loss: 1.1084 \n",
            "Epoch:16 | Iter:   60 | Time: 00:00:25 | Train Loss: 0.5445 | Average Loss: 1.1001 \n",
            "Accuracy: 0.600260 | Time: 00:00:00\n",
            "Epoch:17 | Iter:    0 | Time: 00:00:25 | Train Loss: 0.7109 | Average Loss: 1.0931 \n",
            "Epoch:17 | Iter:   20 | Time: 00:00:26 | Train Loss: 0.4417 | Average Loss: 1.0832 \n",
            "Epoch:17 | Iter:   40 | Time: 00:00:26 | Train Loss: 0.6394 | Average Loss: 1.0748 \n",
            "Epoch:17 | Iter:   60 | Time: 00:00:27 | Train Loss: 0.6203 | Average Loss: 1.0674 \n",
            "Accuracy: 0.606771 | Time: 00:00:00\n",
            "Epoch:18 | Iter:    0 | Time: 00:00:27 | Train Loss: 0.6144 | Average Loss: 1.0620 \n",
            "Epoch:18 | Iter:   20 | Time: 00:00:28 | Train Loss: 0.4004 | Average Loss: 1.0529 \n",
            "Epoch:18 | Iter:   40 | Time: 00:00:28 | Train Loss: 0.6309 | Average Loss: 1.0448 \n",
            "Epoch:18 | Iter:   60 | Time: 00:00:28 | Train Loss: 0.6256 | Average Loss: 1.0374 \n",
            "Accuracy: 0.582031 | Time: 00:00:00\n",
            "Epoch:19 | Iter:    0 | Time: 00:00:29 | Train Loss: 0.5200 | Average Loss: 1.0315 \n",
            "Epoch:19 | Iter:   20 | Time: 00:00:29 | Train Loss: 0.6215 | Average Loss: 1.0242 \n",
            "Epoch:19 | Iter:   40 | Time: 00:00:30 | Train Loss: 0.5957 | Average Loss: 1.0171 \n",
            "Epoch:19 | Iter:   60 | Time: 00:00:30 | Train Loss: 0.4745 | Average Loss: 1.0103 \n",
            "Accuracy: 0.575521 | Time: 00:00:00\n",
            "Epoch:20 | Iter:    0 | Time: 00:00:30 | Train Loss: 0.6013 | Average Loss: 1.0051 \n",
            "Epoch:20 | Iter:   20 | Time: 00:00:31 | Train Loss: 0.5209 | Average Loss: 0.9982 \n",
            "Epoch:20 | Iter:   40 | Time: 00:00:31 | Train Loss: 0.6248 | Average Loss: 0.9914 \n",
            "Epoch:20 | Iter:   60 | Time: 00:00:32 | Train Loss: 0.6213 | Average Loss: 0.9848 \n",
            "Accuracy: 0.601562 | Time: 00:00:00\n"
          ]
        }
      ],
      "source": [
        "\n",
        "#--------------------------------------------------\n",
        "#       Start Training & Evaluation\n",
        "#-------------------------------------------------\n",
        "\n",
        "net = MyClassifier(0.5) \n",
        "train_option = {}\n",
        "train_option['lr'] = 0.002\n",
        "train_option['epoch'] = 20\n",
        "train_option['device'] = 'gpu'\n",
        "trainModel(net, trainloader_small, train_option, testloader_small)"
      ]
    },
    {
      "cell_type": "markdown",
      "id": "3608bff9",
      "metadata": {
        "id": "3608bff9"
      },
      "source": [
        "**Answer**:\n",
        "\n",
        "(1) which layers of AlexNet have been replaced - 3 convolutional layers and 4 fully connected layers are used in the above model.\n",
        "\n",
        "(2) the architecture of the new layers added including activation methods (same as problem 1)\n",
        "\n",
        "Data augmentation: Flipped the images horizontally.\n",
        "\n",
        "Data normalization: User zero centered normalization.\n",
        "\n",
        "Features Layers : 3\n",
        "\n",
        "Classifier Layer 1: Convolution layer + relu activation function layer\n",
        "\n",
        "Classifier Layer 2: Convolution layer + relu activation function + pooling layer\n",
        "\n",
        "Classifier Layer 3: Convolution layer + relu activation function + pooling layer + Dropout layer\n",
        "\n",
        "...\n",
        "\n",
        "(3) the final accuracy on test set\n",
        "\n",
        "Accuracy on test set: 61.06%\n",
        "\n"
      ]
    },
    {
      "cell_type": "markdown",
      "id": "af911377",
      "metadata": {
        "id": "af911377"
      },
      "source": [
        "## Problem 1.2\n",
        "\n",
        "(30 points) Try **three different techniques** taught in the class to increase the accuracy of your model. Such as increasing training data by randomly rotating training images, adding batch normalization, different activation functions (e.g., sigmoid) and model architecture modification. Note that too many layers can do you no good due to insufficient training data. Clearly describe your method and accuracy increase/decrease for each of the three techniques.\n",
        "\n",
        "The minimum accuracy required for this section is **0.60**. (At least one Technique should achieve this)\n",
        "\n",
        "### Technique 1"
      ]
    },
    {
      "cell_type": "code",
      "execution_count": null,
      "id": "c1509b92",
      "metadata": {
        "id": "c1509b92"
      },
      "outputs": [],
      "source": [
        "#--------------------------------------------------\n",
        "#    Load Training Data and Testing Data\n",
        "#--------------------------------------------------\n",
        "# load data into size (64, 64)\n",
        "img_size = (64, 64)\n",
        "batch_size = 64 # training sample number per batch\n",
        "\n",
        "# load training dataset\n",
        "trainloader_small = list(load_dataset('./data/train/', img_size, batch_size=batch_size, shuffle=True, augment=True, zero_centered=True))\n",
        "train_num = len(trainloader_small)\n",
        "print(\"Finish loading %d minibatches (batch_size=%d) of training samples.\" % (train_num, batch_size))\n",
        "\n",
        "# load testing dataset\n",
        "testloader_small = list(load_dataset('./data/test/', img_size, num_per_class=50, batch_size=batch_size, zero_centered=True))\n",
        "test_num = len(testloader_small)\n",
        "print(\"Finish loading %d minibatches (batch_size=%d) of testing samples.\" % (test_num, batch_size))"
      ]
    },
    {
      "cell_type": "code",
      "execution_count": null,
      "id": "844b5709",
      "metadata": {
        "id": "844b5709"
      },
      "outputs": [],
      "source": [
        "#--------------------------------------------------\n",
        "#       Define Network Architecture\n",
        "#--------------------------------------------------\n",
        "class MyClassifierTanh(nn.Module):\n",
        "\n",
        "    def __init__(self, dropout):\n",
        "      super(MyClassifierTanh, self).__init__()\n",
        "        \n",
        "      # Layer 1\n",
        "      self.convolution1 = nn.Conv2d(1, 32, kernel_size=3, stride=1, padding=1)\n",
        "      self.activn_func_tanh_1 = nn.Tanh()\n",
        "\n",
        "      #Layer 2\n",
        "      self.convolution2 = nn.Conv2d(32, 64, kernel_size=3, stride=1, padding=1)\n",
        "      self.activn_func_tanh_2 = nn.Tanh()\n",
        "      self.pooling1 = torch.nn.MaxPool2d(kernel_size=2, stride=2, padding=1)\n",
        "      self.dropout = nn.Dropout(dropout)\n",
        "\n",
        "      #Layer 3\n",
        "      self.convolution3 = nn.Conv2d(64, 16, kernel_size=3, stride=1, padding=1)\n",
        "      self.activn_func_tanh_3 = nn.Tanh()\n",
        "      self.pooling2 = torch.nn.MaxPool2d(kernel_size=2, stride=2, padding=0)\n",
        "\n",
        "      # Fully Connected Layers\n",
        "      self.fully_connected_layer1 = nn.Linear(4096, 64)\n",
        "      self.fully_connected_layer2 = nn.Linear(64, 32)\n",
        "      self.fully_connected_layer3 = nn.Linear(32, 16)\n",
        "      # self.fully_connected_layer4 = nn.Linear(64, 16)\n",
        "\n",
        "\n",
        "    def forward(self, x):\n",
        "      y = self.convolution1(x)\n",
        "      y = self.activn_func_tanh_1(y)\n",
        "      y = self.convolution2(y)\n",
        "      y = self.activn_func_tanh_2(y)\n",
        "      y = self.pooling1(y)\n",
        "      y = self.dropout(y)\n",
        "      y = self.convolution3(y)\n",
        "      y = self.activn_func_tanh_3(y)\n",
        "      y = self.pooling2(y)\n",
        "      y = y.view(y.size(0), -1)\n",
        "\n",
        "      y = self.fully_connected_layer1(y)\n",
        "      y = self.fully_connected_layer2(y)\n",
        "      y = self.fully_connected_layer3(y)\n",
        "      # y = self.fully_connected_layer4(y)\n",
        "      return y\n",
        "   "
      ]
    },
    {
      "cell_type": "code",
      "execution_count": null,
      "id": "3c30ef71",
      "metadata": {
        "id": "3c30ef71",
        "colab": {
          "base_uri": "https://localhost:8080/",
          "height": 322
        },
        "outputId": "5b437bc8-e885-4514-bb12-70e6e5577c1f"
      },
      "outputs": [
        {
          "output_type": "error",
          "ename": "UnboundLocalError",
          "evalue": "ignored",
          "traceback": [
            "\u001b[0;31m---------------------------------------------------------------------------\u001b[0m",
            "\u001b[0;31mUnboundLocalError\u001b[0m                         Traceback (most recent call last)",
            "\u001b[0;32m<ipython-input-143-ee7242549989>\u001b[0m in \u001b[0;36m<module>\u001b[0;34m\u001b[0m\n\u001b[1;32m      7\u001b[0m \u001b[0mtrain_option\u001b[0m\u001b[0;34m[\u001b[0m\u001b[0;34m'epoch'\u001b[0m\u001b[0;34m]\u001b[0m \u001b[0;34m=\u001b[0m \u001b[0;36m20\u001b[0m\u001b[0;34m\u001b[0m\u001b[0;34m\u001b[0m\u001b[0m\n\u001b[1;32m      8\u001b[0m \u001b[0mtrain_option\u001b[0m\u001b[0;34m[\u001b[0m\u001b[0;34m'device'\u001b[0m\u001b[0;34m]\u001b[0m \u001b[0;34m=\u001b[0m \u001b[0;34m'gpu'\u001b[0m\u001b[0;34m\u001b[0m\u001b[0;34m\u001b[0m\u001b[0m\n\u001b[0;32m----> 9\u001b[0;31m \u001b[0mtrainModel\u001b[0m\u001b[0;34m(\u001b[0m\u001b[0mnet\u001b[0m\u001b[0;34m,\u001b[0m \u001b[0mtrainloader_small\u001b[0m\u001b[0;34m,\u001b[0m \u001b[0mtrain_option\u001b[0m\u001b[0;34m,\u001b[0m \u001b[0mtestloader_small\u001b[0m\u001b[0;34m)\u001b[0m\u001b[0;34m\u001b[0m\u001b[0;34m\u001b[0m\u001b[0m\n\u001b[0m",
            "\u001b[0;32m<ipython-input-138-6cc7921eb3a7>\u001b[0m in \u001b[0;36mtrainModel\u001b[0;34m(net, trainloader, train_option, testloader)\u001b[0m\n\u001b[1;32m     36\u001b[0m       \u001b[0moutputs\u001b[0m \u001b[0;34m=\u001b[0m \u001b[0mnet\u001b[0m\u001b[0;34m(\u001b[0m\u001b[0mbatch_x\u001b[0m\u001b[0;34m)\u001b[0m\u001b[0;34m\u001b[0m\u001b[0;34m\u001b[0m\u001b[0m\n\u001b[1;32m     37\u001b[0m       \u001b[0mloss\u001b[0m \u001b[0;34m=\u001b[0m \u001b[0mloss_func\u001b[0m\u001b[0;34m(\u001b[0m\u001b[0moutputs\u001b[0m\u001b[0;34m,\u001b[0m \u001b[0mbatch_y\u001b[0m\u001b[0;34m)\u001b[0m\u001b[0;34m\u001b[0m\u001b[0;34m\u001b[0m\u001b[0m\n\u001b[0;32m---> 38\u001b[0;31m       \u001b[0moptimizer\u001b[0m\u001b[0;34m.\u001b[0m\u001b[0mzero_grad\u001b[0m\u001b[0;34m(\u001b[0m\u001b[0;34m)\u001b[0m\u001b[0;34m\u001b[0m\u001b[0;34m\u001b[0m\u001b[0m\n\u001b[0m\u001b[1;32m     39\u001b[0m       \u001b[0mloss\u001b[0m\u001b[0;34m.\u001b[0m\u001b[0mbackward\u001b[0m\u001b[0;34m(\u001b[0m\u001b[0;34m)\u001b[0m\u001b[0;34m\u001b[0m\u001b[0;34m\u001b[0m\u001b[0m\n\u001b[1;32m     40\u001b[0m       \u001b[0moptimizer\u001b[0m\u001b[0;34m.\u001b[0m\u001b[0mstep\u001b[0m\u001b[0;34m(\u001b[0m\u001b[0;34m)\u001b[0m\u001b[0;34m\u001b[0m\u001b[0;34m\u001b[0m\u001b[0m\n",
            "\u001b[0;31mUnboundLocalError\u001b[0m: local variable 'optimizer' referenced before assignment"
          ]
        }
      ],
      "source": [
        "#--------------------------------------------------\n",
        "#       Start Training & Evaluation\n",
        "#--------------------------------------------------\n",
        "net = MyClassifierTanh(0.5) \n",
        "train_option = {}\n",
        "train_option['lr'] = 0.002\n",
        "train_option['epoch'] = 20\n",
        "train_option['device'] = 'gpu'\n",
        "trainModel(net, trainloader_small, train_option, testloader_small)"
      ]
    },
    {
      "cell_type": "markdown",
      "id": "33bf05db",
      "metadata": {
        "id": "33bf05db"
      },
      "source": [
        "**Answer**:\n",
        "\n",
        "Technique 1: Used Tanh activation function in CNN\n",
        "\n",
        "Accuracy on test set: 59.5%\n",
        "\n",
        "Accuracy increases/decreases: "
      ]
    },
    {
      "cell_type": "markdown",
      "id": "1b6ba2c7",
      "metadata": {
        "id": "1b6ba2c7"
      },
      "source": [
        "### Technique 2\n"
      ]
    },
    {
      "cell_type": "code",
      "execution_count": null,
      "id": "bc3d85fa",
      "metadata": {
        "id": "bc3d85fa"
      },
      "outputs": [],
      "source": [
        "#--------------------------------------------------\n",
        "#    Load Training Data and Testing Data\n",
        "#--------------------------------------------------\n",
        "# load data into size (64, 64)\n",
        "img_size = (64, 64)\n",
        "batch_size = 64 # training sample number per batch\n",
        "\n",
        "# load training dataset\n",
        "trainloader_small = list(load_dataset('./data/train/', img_size, batch_size=batch_size, shuffle=True, augment=True, zero_centered=True))\n",
        "train_num = len(trainloader_small)\n",
        "print(\"Finish loading %d minibatches (batch_size=%d) of training samples.\" % (train_num, batch_size))\n",
        "\n",
        "# load testing dataset\n",
        "testloader_small = list(load_dataset('./data/test/', img_size, num_per_class=50, batch_size=batch_size, zero_centered=True))\n",
        "test_num = len(testloader_small)\n",
        "print(\"Finish loading %d minibatches (batch_size=%d) of testing samples.\" % (test_num, batch_size))\n"
      ]
    },
    {
      "cell_type": "code",
      "execution_count": 37,
      "id": "19fe4e42",
      "metadata": {
        "id": "19fe4e42"
      },
      "outputs": [],
      "source": [
        "#--------------------------------------------------\n",
        "#       Define Network Architecture\n",
        "#--------------------------------------------------\n",
        "class MyClassifierLeakyRelu(nn.Module):\n",
        "\n",
        "    def __init__(self, dropout):\n",
        "      super(MyClassifierLeakyRelu, self).__init__()\n",
        "        \n",
        "      # Layer 1\n",
        "      self.convolution1 = nn.Conv2d(1, 32, kernel_size=3, stride=1, padding=1)\n",
        "      self.activn_func_LeakyReLU_1 = nn.LeakyReLU()\n",
        "\n",
        "      #Layer 2\n",
        "      self.convolution2 = nn.Conv2d(32, 64, kernel_size=3, stride=1, padding=1)\n",
        "      self.activn_func_LeakyReLU_2 = nn.LeakyReLU()\n",
        "      self.pooling1 = torch.nn.MaxPool2d(kernel_size=2, stride=2, padding=1)\n",
        "      self.dropout = nn.Dropout(dropout)\n",
        "\n",
        "      #Layer 3\n",
        "      self.convolution3 = nn.Conv2d(64, 16, kernel_size=3, stride=1, padding=1)\n",
        "      self.activn_func_LeakyReLU_3 = nn.LeakyReLU()\n",
        "      self.pooling2 = torch.nn.MaxPool2d(kernel_size=2, stride=2, padding=0)\n",
        "\n",
        "      # Fully Connected Layers\n",
        "      self.fully_connected_layer1 = nn.Linear(4096, 64)\n",
        "      self.fully_connected_layer2 = nn.Linear(64, 32)\n",
        "      self.fully_connected_layer3 = nn.Linear(32, 16)\n",
        "      # self.fully_connected_layer4 = nn.Linear(64, 16)\n",
        "\n",
        "\n",
        "    def forward(self, x):\n",
        "      y = self.convolution1(x)\n",
        "      y = self.activn_func_LeakyReLU_1(y)\n",
        "      y = self.convolution2(y)\n",
        "      y = self.activn_func_LeakyReLU_2(y)\n",
        "      y = self.pooling1(y)\n",
        "      y = self.dropout(y)\n",
        "      y = self.convolution3(y)\n",
        "      y = self.activn_func_LeakyReLU_3(y)\n",
        "      y = self.pooling2(y)\n",
        "      y = y.view(y.size(0), -1)\n",
        "\n",
        "      y = self.fully_connected_layer1(y)\n",
        "      y = self.fully_connected_layer2(y)\n",
        "      y = self.fully_connected_layer3(y)\n",
        "      # y = self.fully_connected_layer4(y)\n",
        "      return y"
      ]
    },
    {
      "cell_type": "code",
      "execution_count": null,
      "id": "5e60723f",
      "metadata": {
        "id": "5e60723f",
        "colab": {
          "base_uri": "https://localhost:8080/"
        },
        "outputId": "33fcbd0f-1cf9-4676-f88a-3a2496154654"
      },
      "outputs": [
        {
          "output_type": "stream",
          "name": "stdout",
          "text": [
            "Epoch: 1 | Iter:    0 | Time: 00:00:00 | Train Loss: 2.7865 | Average Loss: 2.7865 \n",
            "Epoch: 1 | Iter:   20 | Time: 00:00:00 | Train Loss: 2.5050 | Average Loss: 2.7245 \n",
            "Epoch: 1 | Iter:   40 | Time: 00:00:01 | Train Loss: 2.3092 | Average Loss: 2.6099 \n",
            "Epoch: 1 | Iter:   60 | Time: 00:00:01 | Train Loss: 2.1477 | Average Loss: 2.4921 \n",
            "Accuracy: 0.296875 | Time: 00:00:00\n",
            "Epoch: 2 | Iter:    0 | Time: 00:00:01 | Train Loss: 1.7381 | Average Loss: 2.3920 \n",
            "Epoch: 2 | Iter:   20 | Time: 00:00:02 | Train Loss: 1.6659 | Average Loss: 2.2979 \n",
            "Epoch: 2 | Iter:   40 | Time: 00:00:02 | Train Loss: 1.7014 | Average Loss: 2.1995 \n",
            "Epoch: 2 | Iter:   60 | Time: 00:00:03 | Train Loss: 1.6108 | Average Loss: 2.1250 \n",
            "Accuracy: 0.412760 | Time: 00:00:00\n",
            "Epoch: 3 | Iter:    0 | Time: 00:00:03 | Train Loss: 1.4559 | Average Loss: 2.0663 \n",
            "Epoch: 3 | Iter:   20 | Time: 00:00:04 | Train Loss: 1.4315 | Average Loss: 2.0025 \n",
            "Epoch: 3 | Iter:   40 | Time: 00:00:04 | Train Loss: 1.3265 | Average Loss: 1.9430 \n",
            "Epoch: 3 | Iter:   60 | Time: 00:00:04 | Train Loss: 1.3325 | Average Loss: 1.8935 \n",
            "Accuracy: 0.496094 | Time: 00:00:00\n",
            "Epoch: 4 | Iter:    0 | Time: 00:00:05 | Train Loss: 1.3660 | Average Loss: 1.8527 \n",
            "Epoch: 4 | Iter:   20 | Time: 00:00:05 | Train Loss: 1.1897 | Average Loss: 1.8026 \n",
            "Epoch: 4 | Iter:   40 | Time: 00:00:06 | Train Loss: 1.1297 | Average Loss: 1.7563 \n",
            "Epoch: 4 | Iter:   60 | Time: 00:00:06 | Train Loss: 1.0541 | Average Loss: 1.7155 \n",
            "Accuracy: 0.518229 | Time: 00:00:00\n",
            "Epoch: 5 | Iter:    0 | Time: 00:00:07 | Train Loss: 1.1396 | Average Loss: 1.6836 \n",
            "Epoch: 5 | Iter:   20 | Time: 00:00:07 | Train Loss: 0.8016 | Average Loss: 1.6392 \n",
            "Epoch: 5 | Iter:   40 | Time: 00:00:07 | Train Loss: 1.0091 | Average Loss: 1.5989 \n",
            "Epoch: 5 | Iter:   60 | Time: 00:00:08 | Train Loss: 0.8531 | Average Loss: 1.5594 \n",
            "Accuracy: 0.537760 | Time: 00:00:00\n",
            "Epoch: 6 | Iter:    0 | Time: 00:00:08 | Train Loss: 1.0075 | Average Loss: 1.5350 \n",
            "Epoch: 6 | Iter:   20 | Time: 00:00:09 | Train Loss: 0.7354 | Average Loss: 1.4993 \n",
            "Epoch: 6 | Iter:   40 | Time: 00:00:09 | Train Loss: 0.9582 | Average Loss: 1.4692 \n",
            "Epoch: 6 | Iter:   60 | Time: 00:00:10 | Train Loss: 0.5107 | Average Loss: 1.4355 \n",
            "Accuracy: 0.553385 | Time: 00:00:00\n",
            "Epoch: 7 | Iter:    0 | Time: 00:00:10 | Train Loss: 0.7645 | Average Loss: 1.4104 \n",
            "Epoch: 7 | Iter:   20 | Time: 00:00:11 | Train Loss: 0.4393 | Average Loss: 1.3768 \n",
            "Epoch: 7 | Iter:   40 | Time: 00:00:11 | Train Loss: 0.7040 | Average Loss: 1.3513 \n",
            "Epoch: 7 | Iter:   60 | Time: 00:00:11 | Train Loss: 0.4428 | Average Loss: 1.3238 \n",
            "Accuracy: 0.562500 | Time: 00:00:00\n",
            "Epoch: 8 | Iter:    0 | Time: 00:00:12 | Train Loss: 0.6358 | Average Loss: 1.3013 \n",
            "Epoch: 8 | Iter:   20 | Time: 00:00:12 | Train Loss: 0.5528 | Average Loss: 1.2723 \n",
            "Epoch: 8 | Iter:   40 | Time: 00:00:13 | Train Loss: 0.6726 | Average Loss: 1.2488 \n",
            "Epoch: 8 | Iter:   60 | Time: 00:00:13 | Train Loss: 0.3840 | Average Loss: 1.2246 \n",
            "Accuracy: 0.558594 | Time: 00:00:00\n",
            "Epoch: 9 | Iter:    0 | Time: 00:00:14 | Train Loss: 0.5412 | Average Loss: 1.2057 \n",
            "Epoch: 9 | Iter:   20 | Time: 00:00:14 | Train Loss: 0.5271 | Average Loss: 1.1803 \n",
            "Epoch: 9 | Iter:   40 | Time: 00:00:14 | Train Loss: 0.3732 | Average Loss: 1.1599 \n",
            "Epoch: 9 | Iter:   60 | Time: 00:00:15 | Train Loss: 0.3272 | Average Loss: 1.1408 \n",
            "Accuracy: 0.554688 | Time: 00:00:00\n",
            "Epoch:10 | Iter:    0 | Time: 00:00:15 | Train Loss: 0.2890 | Average Loss: 1.1243 \n",
            "Epoch:10 | Iter:   20 | Time: 00:00:16 | Train Loss: 0.7150 | Average Loss: 1.1018 \n",
            "Epoch:10 | Iter:   40 | Time: 00:00:16 | Train Loss: 0.3521 | Average Loss: 1.0814 \n",
            "Epoch:10 | Iter:   60 | Time: 00:00:17 | Train Loss: 0.3207 | Average Loss: 1.0615 \n",
            "Accuracy: 0.536458 | Time: 00:00:00\n",
            "Epoch:11 | Iter:    0 | Time: 00:00:17 | Train Loss: 0.3128 | Average Loss: 1.0476 \n",
            "Epoch:11 | Iter:   20 | Time: 00:00:18 | Train Loss: 0.1883 | Average Loss: 1.0292 \n",
            "Epoch:11 | Iter:   40 | Time: 00:00:18 | Train Loss: 0.3416 | Average Loss: 1.0097 \n",
            "Epoch:11 | Iter:   60 | Time: 00:00:18 | Train Loss: 0.1666 | Average Loss: 0.9914 \n",
            "Accuracy: 0.549479 | Time: 00:00:00\n",
            "Epoch:12 | Iter:    0 | Time: 00:00:19 | Train Loss: 0.4727 | Average Loss: 0.9794 \n",
            "Epoch:12 | Iter:   20 | Time: 00:00:19 | Train Loss: 0.1668 | Average Loss: 0.9643 \n",
            "Epoch:12 | Iter:   40 | Time: 00:00:20 | Train Loss: 0.2826 | Average Loss: 0.9484 \n",
            "Epoch:12 | Iter:   60 | Time: 00:00:20 | Train Loss: 0.2817 | Average Loss: 0.9340 \n",
            "Accuracy: 0.550781 | Time: 00:00:00\n",
            "Epoch:13 | Iter:    0 | Time: 00:00:21 | Train Loss: 0.3077 | Average Loss: 0.9225 \n",
            "Epoch:13 | Iter:   20 | Time: 00:00:21 | Train Loss: 0.1746 | Average Loss: 0.9079 \n",
            "Epoch:13 | Iter:   40 | Time: 00:00:21 | Train Loss: 0.2100 | Average Loss: 0.8929 \n"
          ]
        }
      ],
      "source": [
        "#--------------------------------------------------\n",
        "#       Start Training & Evaluation\n",
        "#--------------------------------------------------\n",
        "\n",
        "net = MyClassifierLeakyRelu(0.5) \n",
        "train_option = {}\n",
        "train_option['lr'] = 0.002\n",
        "train_option['epoch'] = 23\n",
        "train_option['device'] = 'gpu'\n",
        "trainModel(net, trainloader_small, train_option, testloader_small)\n"
      ]
    },
    {
      "cell_type": "markdown",
      "id": "cf9db93f",
      "metadata": {
        "id": "cf9db93f"
      },
      "source": [
        "**Answer**:\n",
        "\n",
        "Technique 2: \n",
        "\n",
        "Accuracy on test set: \n",
        "\n",
        "Accuracy increases/decreases:"
      ]
    },
    {
      "cell_type": "markdown",
      "id": "3400e482",
      "metadata": {
        "id": "3400e482"
      },
      "source": [
        "### Technique 3"
      ]
    },
    {
      "cell_type": "code",
      "execution_count": null,
      "id": "57f104cc",
      "metadata": {
        "id": "57f104cc",
        "colab": {
          "base_uri": "https://localhost:8080/"
        },
        "outputId": "168537e5-d64f-4755-b9d9-ada9602a076d"
      },
      "outputs": [
        {
          "output_type": "stream",
          "name": "stdout",
          "text": [
            "Loading images from class: 0\n"
          ]
        },
        {
          "output_type": "stream",
          "name": "stderr",
          "text": [
            "/usr/local/lib/python3.7/dist-packages/ipykernel_launcher.py:46: DeprecationWarning: `np.float` is a deprecated alias for the builtin `float`. To silence this warning, use `float` by itself. Doing this will not modify any behavior and is safe. If you specifically wanted the numpy scalar type, use `np.float64` here.\n",
            "Deprecated in NumPy 1.20; for more details and guidance: https://numpy.org/devdocs/release/1.20.0-notes.html#deprecations\n"
          ]
        },
        {
          "output_type": "stream",
          "name": "stdout",
          "text": [
            "Loading images from class: 1\n",
            "Loading images from class: 2\n",
            "Loading images from class: 3\n",
            "Loading images from class: 4\n",
            "Loading images from class: 5\n",
            "Loading images from class: 6\n",
            "Loading images from class: 7\n",
            "Loading images from class: 8\n",
            "Loading images from class: 9\n",
            "Loading images from class: 10\n",
            "Loading images from class: 11\n",
            "Loading images from class: 12\n",
            "Loading images from class: 13\n",
            "Loading images from class: 14\n",
            "Loading images from class: 15\n",
            "(64, 64)\n",
            "Finish loading 75 minibatches (batch_size=64) of training samples.\n",
            "Loading images from class: 0\n",
            "Loading images from class: 1\n",
            "Loading images from class: 2\n",
            "Loading images from class: 3\n",
            "Loading images from class: 4\n",
            "Loading images from class: 5\n",
            "Loading images from class: 6\n",
            "Loading images from class: 7\n",
            "Loading images from class: 8\n",
            "Loading images from class: 9\n",
            "Loading images from class: 10\n",
            "Loading images from class: 11\n",
            "Loading images from class: 12\n",
            "Loading images from class: 13\n",
            "Loading images from class: 14\n",
            "Loading images from class: 15\n",
            "(64, 64)\n",
            "Finish loading 12 minibatches (batch_size=64) of testing samples.\n"
          ]
        }
      ],
      "source": [
        "#--------------------------------------------------\n",
        "#    Load Training Data and Testing Data\n",
        "#--------------------------------------------------\n",
        "# load data into size (64, 64)\n",
        "img_size = (64, 64)\n",
        "batch_size = 64 # training sample number per batch\n",
        "\n",
        "# load training dataset\n",
        "trainloader_small = list(load_dataset('./data/train/', img_size, batch_size=batch_size, shuffle=True, augment=True, zero_centered=True))\n",
        "train_num = len(trainloader_small)\n",
        "print(\"Finish loading %d minibatches (batch_size=%d) of training samples.\" % (train_num, batch_size))\n",
        "\n",
        "# load testing dataset\n",
        "testloader_small = list(load_dataset('./data/test/', img_size, num_per_class=50, batch_size=batch_size, zero_centered=True))\n",
        "test_num = len(testloader_small)\n",
        "print(\"Finish loading %d minibatches (batch_size=%d) of testing samples.\" % (test_num, batch_size))"
      ]
    },
    {
      "cell_type": "code",
      "execution_count": 28,
      "id": "4f46c1eb",
      "metadata": {
        "id": "4f46c1eb"
      },
      "outputs": [],
      "source": [
        "#--------------------------------------------------\n",
        "#       Define Network Architecture\n",
        "#--------------------------------------------------\n",
        "class MyClassifier_BatchNormalization(nn.Module):\n",
        "\n",
        "    def __init__(self, dropout):\n",
        "      super(MyClassifier_BatchNormalization, self).__init__()\n",
        "        \n",
        "      # Layer 1\n",
        "      self.convolution1 = nn.Conv2d(1, 32, kernel_size=3, stride=1, padding=1)\n",
        "      self.activn_func_relu1 = nn.ReLU()\n",
        "\n",
        "      #Layer 2\n",
        "      self.convolution2 = nn.Conv2d(32, 64, kernel_size=3, stride=1, padding=1)\n",
        "      self.convolution2 = nn.Conv2d(32, 64, kernel_size=3, stride=1, padding=1)\n",
        "      self.convolution2_batch_norm = nn.BatchNorm2d(64)\n",
        "      self.activn_func_relu2 = nn.ReLU()\n",
        "      self.pooling1 = torch.nn.MaxPool2d(kernel_size=2, stride=2, padding=1)\n",
        "      self.dropout = nn.Dropout(dropout)\n",
        "\n",
        "      #Layer 3\n",
        "      self.convolution3 = nn.Conv2d(64, 16, kernel_size=3, stride=1, padding=1)\n",
        "      self.convolution3_batch_norm = nn.BatchNorm2d(16)\n",
        "      self.activn_func_relu3 = nn.ReLU()\n",
        "      self.pooling2 = torch.nn.MaxPool2d(kernel_size=2, stride=2, padding=0)\n",
        "\n",
        "      # Fully Connected Layers\n",
        "      self.fully_connected_layer1 = nn.Linear(4096, 64)\n",
        "      self.fully_connected_layer2 = nn.Linear(64, 32)\n",
        "      self.fully_connected_layer2_batch_norm = nn.BatchNorm1d(32)\n",
        "      self.fully_connected_layer3 = nn.Linear(32, 16)\n",
        "      # self.fully_connected_layer4 = nn.Linear(64, 16)\n",
        "\n",
        "\n",
        "    def forward(self, x):\n",
        "      out = self.convolution1(x)\n",
        "      out = self.activn_func_relu1(out)\n",
        "      out = self.convolution2(out)\n",
        "      out = self.convolution2_batch_norm(out)\n",
        "      out = self.activn_func_relu2(out)\n",
        "      out = self.pooling1(out)\n",
        "      out = self.dropout(out)\n",
        "      out = self.convolution3(out)\n",
        "      out = self.activn_func_relu3(out)\n",
        "      out = self.pooling2(out)\n",
        "      out = out.view(out.size(0), -1)\n",
        "\n",
        "      out = self.fully_connected_layer1(out)\n",
        "      out = self.fully_connected_layer2(out)\n",
        "      out = self.fully_connected_layer2_batch_norm(out)\n",
        "      out = self.fully_connected_layer3(out)\n",
        "      # y = self.fully_connected_layer4(y)\n",
        "      return out"
      ]
    },
    {
      "cell_type": "code",
      "execution_count": 31,
      "id": "61535319",
      "metadata": {
        "id": "61535319",
        "colab": {
          "base_uri": "https://localhost:8080/"
        },
        "outputId": "d45ddb35-ba15-41f6-a896-f0b8e81778f4"
      },
      "outputs": [
        {
          "output_type": "stream",
          "name": "stdout",
          "text": [
            "Epoch: 1 | Iter:    0 | Time: 00:00:00 | Train Loss: 2.8676 | Average Loss: 2.8676 \n",
            "Epoch: 1 | Iter:   20 | Time: 00:00:00 | Train Loss: 2.1360 | Average Loss: 2.4119 \n",
            "Epoch: 1 | Iter:   40 | Time: 00:00:01 | Train Loss: 2.0837 | Average Loss: 2.2551 \n",
            "Epoch: 1 | Iter:   60 | Time: 00:00:01 | Train Loss: 1.8485 | Average Loss: 2.1559 \n",
            "Accuracy: 0.214844 | Time: 00:00:00\n",
            "Epoch: 2 | Iter:    0 | Time: 00:00:01 | Train Loss: 1.4351 | Average Loss: 2.0658 \n",
            "Epoch: 2 | Iter:   20 | Time: 00:00:02 | Train Loss: 1.4888 | Average Loss: 1.9636 \n",
            "Epoch: 2 | Iter:   40 | Time: 00:00:02 | Train Loss: 1.3267 | Average Loss: 1.8684 \n",
            "Epoch: 2 | Iter:   60 | Time: 00:00:03 | Train Loss: 1.2363 | Average Loss: 1.7894 \n",
            "Accuracy: 0.459635 | Time: 00:00:00\n",
            "Epoch: 3 | Iter:    0 | Time: 00:00:03 | Train Loss: 1.0336 | Average Loss: 1.7242 \n",
            "Epoch: 3 | Iter:   20 | Time: 00:00:04 | Train Loss: 0.9311 | Average Loss: 1.6491 \n",
            "Epoch: 3 | Iter:   40 | Time: 00:00:04 | Train Loss: 0.8570 | Average Loss: 1.5769 \n",
            "Epoch: 3 | Iter:   60 | Time: 00:00:05 | Train Loss: 0.8155 | Average Loss: 1.5147 \n",
            "Accuracy: 0.520833 | Time: 00:00:00\n",
            "Epoch: 4 | Iter:    0 | Time: 00:00:05 | Train Loss: 0.7733 | Average Loss: 1.4660 \n",
            "Epoch: 4 | Iter:   20 | Time: 00:00:06 | Train Loss: 0.5932 | Average Loss: 1.4063 \n",
            "Epoch: 4 | Iter:   40 | Time: 00:00:06 | Train Loss: 0.7016 | Average Loss: 1.3513 \n",
            "Epoch: 4 | Iter:   60 | Time: 00:00:07 | Train Loss: 0.5593 | Average Loss: 1.3013 \n",
            "Accuracy: 0.471354 | Time: 00:00:00\n",
            "Epoch: 5 | Iter:    0 | Time: 00:00:07 | Train Loss: 0.5444 | Average Loss: 1.2638 \n",
            "Epoch: 5 | Iter:   20 | Time: 00:00:08 | Train Loss: 0.4247 | Average Loss: 1.2165 \n",
            "Epoch: 5 | Iter:   40 | Time: 00:00:08 | Train Loss: 0.3920 | Average Loss: 1.1711 \n",
            "Epoch: 5 | Iter:   60 | Time: 00:00:09 | Train Loss: 0.4000 | Average Loss: 1.1302 \n",
            "Accuracy: 0.528646 | Time: 00:00:00\n",
            "Epoch: 6 | Iter:    0 | Time: 00:00:09 | Train Loss: 0.3853 | Average Loss: 1.1009 \n",
            "Epoch: 6 | Iter:   20 | Time: 00:00:10 | Train Loss: 0.3948 | Average Loss: 1.0621 \n",
            "Epoch: 6 | Iter:   40 | Time: 00:00:10 | Train Loss: 0.3246 | Average Loss: 1.0260 \n",
            "Epoch: 6 | Iter:   60 | Time: 00:00:11 | Train Loss: 0.2625 | Average Loss: 0.9923 \n",
            "Accuracy: 0.544271 | Time: 00:00:00\n",
            "Epoch: 7 | Iter:    0 | Time: 00:00:11 | Train Loss: 0.3084 | Average Loss: 0.9696 \n",
            "Epoch: 7 | Iter:   20 | Time: 00:00:12 | Train Loss: 0.2838 | Average Loss: 0.9403 \n",
            "Epoch: 7 | Iter:   40 | Time: 00:00:12 | Train Loss: 0.2773 | Average Loss: 0.9113 \n",
            "Epoch: 7 | Iter:   60 | Time: 00:00:13 | Train Loss: 0.1515 | Average Loss: 0.8837 \n",
            "Accuracy: 0.471354 | Time: 00:00:00\n",
            "Epoch: 8 | Iter:    0 | Time: 00:00:13 | Train Loss: 0.2014 | Average Loss: 0.8640 \n",
            "Epoch: 8 | Iter:   20 | Time: 00:00:14 | Train Loss: 0.0989 | Average Loss: 0.8392 \n",
            "Epoch: 8 | Iter:   40 | Time: 00:00:14 | Train Loss: 0.1606 | Average Loss: 0.8157 \n",
            "Epoch: 8 | Iter:   60 | Time: 00:00:15 | Train Loss: 0.1727 | Average Loss: 0.7935 \n",
            "Accuracy: 0.494792 | Time: 00:00:00\n",
            "Epoch: 9 | Iter:    0 | Time: 00:00:15 | Train Loss: 0.2456 | Average Loss: 0.7772 \n",
            "Epoch: 9 | Iter:   20 | Time: 00:00:16 | Train Loss: 0.1409 | Average Loss: 0.7573 \n",
            "Epoch: 9 | Iter:   40 | Time: 00:00:16 | Train Loss: 0.0838 | Average Loss: 0.7379 \n",
            "Epoch: 9 | Iter:   60 | Time: 00:00:17 | Train Loss: 0.1482 | Average Loss: 0.7197 \n",
            "Accuracy: 0.460938 | Time: 00:00:00\n",
            "Epoch:10 | Iter:    0 | Time: 00:00:17 | Train Loss: 0.0541 | Average Loss: 0.7063 \n",
            "Epoch:10 | Iter:   20 | Time: 00:00:18 | Train Loss: 0.0942 | Average Loss: 0.6893 \n",
            "Epoch:10 | Iter:   40 | Time: 00:00:18 | Train Loss: 0.1374 | Average Loss: 0.6727 \n",
            "Epoch:10 | Iter:   60 | Time: 00:00:19 | Train Loss: 0.0763 | Average Loss: 0.6574 \n",
            "Accuracy: 0.510417 | Time: 00:00:00\n",
            "Epoch:11 | Iter:    0 | Time: 00:00:19 | Train Loss: 0.0837 | Average Loss: 0.6461 \n",
            "Epoch:11 | Iter:   20 | Time: 00:00:20 | Train Loss: 0.0628 | Average Loss: 0.6320 \n",
            "Epoch:11 | Iter:   40 | Time: 00:00:20 | Train Loss: 0.0710 | Average Loss: 0.6182 \n",
            "Epoch:11 | Iter:   60 | Time: 00:00:21 | Train Loss: 0.0791 | Average Loss: 0.6049 \n",
            "Accuracy: 0.583333 | Time: 00:00:00\n",
            "Epoch:12 | Iter:    0 | Time: 00:00:21 | Train Loss: 0.1368 | Average Loss: 0.5952 \n",
            "Epoch:12 | Iter:   20 | Time: 00:00:22 | Train Loss: 0.0824 | Average Loss: 0.5830 \n",
            "Epoch:12 | Iter:   40 | Time: 00:00:22 | Train Loss: 0.0481 | Average Loss: 0.5712 \n",
            "Epoch:12 | Iter:   60 | Time: 00:00:23 | Train Loss: 0.0618 | Average Loss: 0.5597 \n",
            "Accuracy: 0.575521 | Time: 00:00:00\n",
            "Epoch:13 | Iter:    0 | Time: 00:00:23 | Train Loss: 0.0420 | Average Loss: 0.5514 \n",
            "Epoch:13 | Iter:   20 | Time: 00:00:24 | Train Loss: 0.0329 | Average Loss: 0.5406 \n",
            "Epoch:13 | Iter:   40 | Time: 00:00:24 | Train Loss: 0.0648 | Average Loss: 0.5304 \n",
            "Epoch:13 | Iter:   60 | Time: 00:00:25 | Train Loss: 0.0345 | Average Loss: 0.5204 \n",
            "Accuracy: 0.610677 | Time: 00:00:00\n",
            "Epoch:14 | Iter:    0 | Time: 00:00:25 | Train Loss: 0.0285 | Average Loss: 0.5132 \n",
            "Epoch:14 | Iter:   20 | Time: 00:00:26 | Train Loss: 0.0315 | Average Loss: 0.5038 \n",
            "Epoch:14 | Iter:   40 | Time: 00:00:26 | Train Loss: 0.0395 | Average Loss: 0.4947 \n",
            "Epoch:14 | Iter:   60 | Time: 00:00:27 | Train Loss: 0.0366 | Average Loss: 0.4860 \n",
            "Accuracy: 0.589844 | Time: 00:00:00\n",
            "Epoch:15 | Iter:    0 | Time: 00:00:27 | Train Loss: 0.0424 | Average Loss: 0.4797 \n",
            "Epoch:15 | Iter:   20 | Time: 00:00:28 | Train Loss: 0.0364 | Average Loss: 0.4714 \n",
            "Epoch:15 | Iter:   40 | Time: 00:00:28 | Train Loss: 0.0303 | Average Loss: 0.4634 \n",
            "Epoch:15 | Iter:   60 | Time: 00:00:29 | Train Loss: 0.0590 | Average Loss: 0.4558 \n",
            "Accuracy: 0.545573 | Time: 00:00:00\n",
            "Epoch:16 | Iter:    0 | Time: 00:00:29 | Train Loss: 0.0376 | Average Loss: 0.4502 \n",
            "Epoch:16 | Iter:   20 | Time: 00:00:30 | Train Loss: 0.0189 | Average Loss: 0.4428 \n",
            "Epoch:16 | Iter:   40 | Time: 00:00:30 | Train Loss: 0.0136 | Average Loss: 0.4357 \n",
            "Epoch:16 | Iter:   60 | Time: 00:00:31 | Train Loss: 0.0164 | Average Loss: 0.4288 \n",
            "Accuracy: 0.493490 | Time: 00:00:00\n",
            "Epoch:17 | Iter:    0 | Time: 00:00:31 | Train Loss: 0.0294 | Average Loss: 0.4238 \n",
            "Epoch:17 | Iter:   20 | Time: 00:00:31 | Train Loss: 0.0400 | Average Loss: 0.4175 \n",
            "Epoch:17 | Iter:   40 | Time: 00:00:32 | Train Loss: 0.0267 | Average Loss: 0.4112 \n",
            "Epoch:17 | Iter:   60 | Time: 00:00:32 | Train Loss: 0.0199 | Average Loss: 0.4050 \n",
            "Accuracy: 0.552083 | Time: 00:00:00\n",
            "Epoch:18 | Iter:    0 | Time: 00:00:33 | Train Loss: 0.0193 | Average Loss: 0.4005 \n",
            "Epoch:18 | Iter:   20 | Time: 00:00:33 | Train Loss: 0.0242 | Average Loss: 0.3948 \n",
            "Epoch:18 | Iter:   40 | Time: 00:00:34 | Train Loss: 0.0126 | Average Loss: 0.3890 \n",
            "Epoch:18 | Iter:   60 | Time: 00:00:34 | Train Loss: 0.0069 | Average Loss: 0.3835 \n",
            "Accuracy: 0.566406 | Time: 00:00:00\n",
            "Epoch:19 | Iter:    0 | Time: 00:00:35 | Train Loss: 0.0097 | Average Loss: 0.3794 \n",
            "Epoch:19 | Iter:   20 | Time: 00:00:35 | Train Loss: 0.0084 | Average Loss: 0.3741 \n",
            "Epoch:19 | Iter:   40 | Time: 00:00:36 | Train Loss: 0.0098 | Average Loss: 0.3690 \n",
            "Epoch:19 | Iter:   60 | Time: 00:00:36 | Train Loss: 0.0133 | Average Loss: 0.3639 \n",
            "Accuracy: 0.595052 | Time: 00:00:00\n",
            "Epoch:20 | Iter:    0 | Time: 00:00:37 | Train Loss: 0.0061 | Average Loss: 0.3603 \n",
            "Epoch:20 | Iter:   20 | Time: 00:00:37 | Train Loss: 0.0077 | Average Loss: 0.3554 \n",
            "Epoch:20 | Iter:   40 | Time: 00:00:38 | Train Loss: 0.0205 | Average Loss: 0.3508 \n",
            "Epoch:20 | Iter:   60 | Time: 00:00:38 | Train Loss: 0.0064 | Average Loss: 0.3462 \n",
            "Accuracy: 0.572917 | Time: 00:00:00\n",
            "Epoch:21 | Iter:    0 | Time: 00:00:39 | Train Loss: 0.0095 | Average Loss: 0.3429 \n",
            "Epoch:21 | Iter:   20 | Time: 00:00:39 | Train Loss: 0.0331 | Average Loss: 0.3386 \n",
            "Epoch:21 | Iter:   40 | Time: 00:00:40 | Train Loss: 0.0053 | Average Loss: 0.3343 \n",
            "Epoch:21 | Iter:   60 | Time: 00:00:40 | Train Loss: 0.0071 | Average Loss: 0.3302 \n",
            "Accuracy: 0.575521 | Time: 00:00:00\n",
            "Epoch:22 | Iter:    0 | Time: 00:00:41 | Train Loss: 0.0103 | Average Loss: 0.3272 \n",
            "Epoch:22 | Iter:   20 | Time: 00:00:41 | Train Loss: 0.0045 | Average Loss: 0.3232 \n",
            "Epoch:22 | Iter:   40 | Time: 00:00:42 | Train Loss: 0.0066 | Average Loss: 0.3194 \n",
            "Epoch:22 | Iter:   60 | Time: 00:00:42 | Train Loss: 0.0071 | Average Loss: 0.3156 \n",
            "Accuracy: 0.605469 | Time: 00:00:00\n",
            "Epoch:23 | Iter:    0 | Time: 00:00:43 | Train Loss: 0.0157 | Average Loss: 0.3129 \n",
            "Epoch:23 | Iter:   20 | Time: 00:00:43 | Train Loss: 0.0096 | Average Loss: 0.3092 \n",
            "Epoch:23 | Iter:   40 | Time: 00:00:44 | Train Loss: 0.0043 | Average Loss: 0.3057 \n",
            "Epoch:23 | Iter:   60 | Time: 00:00:44 | Train Loss: 0.0040 | Average Loss: 0.3022 \n",
            "Accuracy: 0.615885 | Time: 00:00:00\n"
          ]
        }
      ],
      "source": [
        "#--------------------------------------------------\n",
        "#       Start Training & Evaluation\n",
        "#--------------------------------------------------\n",
        "\n",
        "net = MyClassifier_BatchNormalization(0.5) \n",
        "train_option = {}\n",
        "train_option['lr'] = 0.002\n",
        "train_option['epoch'] = 23\n",
        "train_option['device'] = 'gpu'\n",
        "trainModel(net, trainloader_small, train_option, testloader_small)"
      ]
    },
    {
      "cell_type": "markdown",
      "id": "d3b54f78",
      "metadata": {
        "id": "d3b54f78"
      },
      "source": [
        "**Answer**:\n",
        "\n",
        "Technique 3: \n",
        "\n",
        "Accuracy on test set: \n",
        "\n",
        "Accuracy increases/decreases:"
      ]
    },
    {
      "cell_type": "markdown",
      "id": "090600db",
      "metadata": {
        "id": "090600db"
      },
      "source": [
        "## Submission guidelines\n",
        "---\n",
        "Extract the downloaded .zip file to a folder of your preference. The input and output paths are predefined and **DO NOT** change them, (we assume that 'Surname_Givenname_assignment2_part2' is your working directory, and all the paths are relative to this directory).  The image read and write functions are already written for you. All you need to do is to fill in the blanks as indicated to generate proper outputs. **DO NOT** zip and upload the dataset on canvas due to size limit.\n",
        "\n",
        "When submitting your .zip file through blackboard, please\n",
        "-- name your .zip file as **Surname_Givenname_assignment2_part1.zip**.\n",
        "\n",
        "This zip file should include:\n",
        "```\n",
        "Surname_Givenname_UNCCID_assignment2_part2  \n",
        "        |---Surname_Givenname_UNCCID_assignment2_part2.ipynb\n",
        "        |---Surname_Givenname_UNCCID_assignment2_part2.pdf\n",
        "```\n",
        "\n",
        "For instance, student Yann Lecun should submit a zip file named \"Lecun_Yann_111134567_assignment2_part1.zip\" for assignment2_part1 in this structure:\n",
        "```\n",
        "Lecun_Yann_111134567_assignment2_part2\n",
        "        |---Lecun_Yann_111134567_assignment2_part2.ipynb\n",
        "        |---Lecun_Yann_111134567_assignment2_part2.pdf\n",
        "```\n",
        "\n",
        "Then right click this folder, click ***Get shareable link***, in the People textfield, enter TA's emails: ***psingire@uncc.edu*** and ***kchiguru@uncc.edu***. Make sure that TAs who have the link **can edit**, ***not just*** **can view**, and also **uncheck** the **Notify people** box.\n",
        "\n",
        "Note that in google colab, we will only grade the version of the code right before the timestamp of the submission made in canvas. \n",
        "\n",
        "Extract the downloaded .zip file to a folder of your preference. The input and output paths are predefined and **DO NOT** change them, (we assume that 'Surname_Givenname_UNCCID_assignment1' is your working directory, and all the paths are relative to this directory).  The image read and write functions are already written for you. All you need to do is to fill in the blanks as indicated to generate proper outputs.\n",
        "\n",
        "\n",
        "-- DO NOT change the folder structure, please just fill in the blanks. <br>\n",
        "\n",
        "You are encouraged to post and answer questions on Canvas. Please ask questions on Canvas and send emails only for personal issues.\n",
        "\n",
        "If you alter the folder structures, the grading of your homework will be significantly delayed and possibly penalized.\n",
        "\n",
        "Be aware that your code will undergo plagiarism check both vertically and horizontally. Please do your own work.\n",
        "\n",
        "Late submission penalty: <br>\n",
        "There will be a 10% penalty per day for late submission. However, you will have THREE days throughout the whole semester to submit late without penalty. Note that the grace period is calculated by days instead of hours. If you submit the homework one minute after the deadline, one late day will be counted. Likewise, if you submit one minute after the deadline, the 10% penaly will be imposed if not using the grace period.\n"
      ]
    }
  ],
  "metadata": {
    "kernelspec": {
      "display_name": "Python 3",
      "language": "python",
      "name": "python3"
    },
    "language_info": {
      "codemirror_mode": {
        "name": "ipython",
        "version": 3
      },
      "file_extension": ".py",
      "mimetype": "text/x-python",
      "name": "python",
      "nbconvert_exporter": "python",
      "pygments_lexer": "ipython3",
      "version": "3.8.8"
    },
    "colab": {
      "provenance": [],
      "collapsed_sections": [],
      "include_colab_link": true
    },
    "accelerator": "GPU",
    "gpuClass": "standard"
  },
  "nbformat": 4,
  "nbformat_minor": 5
}